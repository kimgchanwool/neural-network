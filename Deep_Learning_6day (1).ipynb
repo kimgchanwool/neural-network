{
  "nbformat": 4,
  "nbformat_minor": 0,
  "metadata": {
    "colab": {
      "name": "Deep Learning 6day.ipynb",
      "provenance": [],
      "collapsed_sections": []
    },
    "kernelspec": {
      "name": "python3",
      "display_name": "Python 3"
    },
    "language_info": {
      "name": "python"
    },
    "accelerator": "GPU"
  },
  "cells": [
    {
      "cell_type": "code",
      "metadata": {
        "id": "3aIZBsDVL55N"
      },
      "source": [
        "from tensorflow.keras.datasets import fashion_mnist\n",
        "import numpy as np\n",
        "import matplotlib.pyplot as plt"
      ],
      "execution_count": 40,
      "outputs": []
    },
    {
      "cell_type": "code",
      "metadata": {
        "id": "FaqMD4xmTt-S"
      },
      "source": [
        "from tensorflow.keras.utils import to_categorical"
      ],
      "execution_count": 41,
      "outputs": []
    },
    {
      "cell_type": "code",
      "metadata": {
        "id": "zkFE_vNXa-2O"
      },
      "source": [
        "import tensorflow as tf"
      ],
      "execution_count": 98,
      "outputs": []
    },
    {
      "cell_type": "code",
      "metadata": {
        "colab": {
          "base_uri": "https://localhost:8080/"
        },
        "id": "TcQQ17sbbC2C",
        "outputId": "458265ff-35a3-4350-ac55-e8363f531690"
      },
      "source": [
        "np.random.seed(42) == tf.random.set_seed(42)"
      ],
      "execution_count": 100,
      "outputs": [
        {
          "output_type": "execute_result",
          "data": {
            "text/plain": [
              "True"
            ]
          },
          "metadata": {},
          "execution_count": 100
        }
      ]
    },
    {
      "cell_type": "code",
      "metadata": {
        "id": "7GooFmuyMD7b"
      },
      "source": [
        "(train_images, train_labels), (test_images, test_labels) = fashion_mnist.load_data()"
      ],
      "execution_count": 42,
      "outputs": []
    },
    {
      "cell_type": "code",
      "metadata": {
        "id": "n1uepkD-MUGz"
      },
      "source": [
        "train_images = np.array(train_images/255.0, dtype=np.float32)\n",
        "train_labels = np.array(train_labels, dtype=np.float32)\n",
        "test_images = np.array(test_images/255.0, dtype=np.float32)\n",
        "test_labels = np.array(test_labels, dtype=np.float32)"
      ],
      "execution_count": 43,
      "outputs": []
    },
    {
      "cell_type": "code",
      "metadata": {
        "id": "I7G-jxjgTp4Q"
      },
      "source": [
        "train_oh_labels = to_categorical(train_labels)\n",
        "test_oh_labels = to_categorical(test_labels)"
      ],
      "execution_count": 59,
      "outputs": []
    },
    {
      "cell_type": "code",
      "metadata": {
        "colab": {
          "base_uri": "https://localhost:8080/",
          "height": 172
        },
        "id": "NYOYYqgKVa8i",
        "outputId": "f75ba806-617b-4bb2-95f2-7a052e01bff8"
      },
      "source": [
        "train_oh_la.shape"
      ],
      "execution_count": 55,
      "outputs": [
        {
          "output_type": "error",
          "ename": "NameError",
          "evalue": "ignored",
          "traceback": [
            "\u001b[0;31m---------------------------------------------------------------------------\u001b[0m",
            "\u001b[0;31mNameError\u001b[0m                                 Traceback (most recent call last)",
            "\u001b[0;32m<ipython-input-55-883b5b301a9b>\u001b[0m in \u001b[0;36m<module>\u001b[0;34m()\u001b[0m\n\u001b[0;32m----> 1\u001b[0;31m \u001b[0mtrain_oh_labels\u001b[0m\u001b[0;34m.\u001b[0m\u001b[0mshape\u001b[0m\u001b[0;34m\u001b[0m\u001b[0;34m\u001b[0m\u001b[0m\n\u001b[0m",
            "\u001b[0;31mNameError\u001b[0m: name 'train_oh_labels' is not defined"
          ]
        }
      ]
    },
    {
      "cell_type": "markdown",
      "metadata": {
        "id": "iBC0m6j7VQmK"
      },
      "source": [
        "# 모델 생성"
      ]
    },
    {
      "cell_type": "markdown",
      "metadata": {
        "id": "LEyBQLMrNB39"
      },
      "source": [
        "* 함수형 API(Functional API)"
      ]
    },
    {
      "cell_type": "code",
      "metadata": {
        "id": "hGdEq8-kMpb7"
      },
      "source": [
        "from tensorflow.keras.models import Model"
      ],
      "execution_count": 46,
      "outputs": []
    },
    {
      "cell_type": "code",
      "metadata": {
        "id": "3EdPseIUNFd1"
      },
      "source": [
        "from tensorflow.keras.layers import Input, Flatten, Dense"
      ],
      "execution_count": 47,
      "outputs": []
    },
    {
      "cell_type": "code",
      "metadata": {
        "id": "93Ofk0wRNkQX"
      },
      "source": [
        "input_tensor = Input(shape=(28, 28))\n",
        "x = Flatten()(input_tensor) # 이런식으로 함수를 어떤 함수에 적용할 지 사용가능하다.\n",
        "x = Dense(50, activation='sigmoid')(x)\n",
        "output = Dense(10, activation='softmax')(x)\n",
        "\n",
        "\n",
        "\n",
        "model = Model(inputs=input_tensor, outputs=output)"
      ],
      "execution_count": 48,
      "outputs": []
    },
    {
      "cell_type": "code",
      "metadata": {
        "colab": {
          "base_uri": "https://localhost:8080/"
        },
        "id": "S3a8dKAYPXDk",
        "outputId": "31cbafea-d49d-417d-9154-d94688764b81"
      },
      "source": [
        "model.summary()"
      ],
      "execution_count": 72,
      "outputs": [
        {
          "output_type": "stream",
          "name": "stdout",
          "text": [
            "Model: \"model_2\"\n",
            "_________________________________________________________________\n",
            "Layer (type)                 Output Shape              Param #   \n",
            "=================================================================\n",
            "input_3 (InputLayer)         [(None, 28, 28)]          0         \n",
            "_________________________________________________________________\n",
            "flatten_2 (Flatten)          (None, 784)               0         \n",
            "_________________________________________________________________\n",
            "dense_4 (Dense)              (None, 50)                39250     \n",
            "_________________________________________________________________\n",
            "dense_5 (Dense)              (None, 10)                510       \n",
            "=================================================================\n",
            "Total params: 39,760\n",
            "Trainable params: 39,760\n",
            "Non-trainable params: 0\n",
            "_________________________________________________________________\n"
          ]
        }
      ]
    },
    {
      "cell_type": "markdown",
      "metadata": {
        "id": "2-CEWcg1TVNi"
      },
      "source": [
        "from tensorflow.keras.models import Sequential\n",
        "model = Sequential([\n",
        "                    Flatten(input_shape=(28, 28)),\n",
        "                    Dense(100, activation='sigmoid'),\n",
        "                    Dense(10, activation='softmax')\n",
        "])\n",
        "model.summary|"
      ]
    },
    {
      "cell_type": "markdown",
      "metadata": {
        "id": "bLUrBnwcTXr1"
      },
      "source": [
        "* 모델 컴파일 (optimizer, loss 등 설정)"
      ]
    },
    {
      "cell_type": "code",
      "metadata": {
        "id": "hcH9xGxVNO3d"
      },
      "source": [
        "from tensorflow.keras.optimizers import SGD"
      ],
      "execution_count": 50,
      "outputs": []
    },
    {
      "cell_type": "code",
      "metadata": {
        "id": "f8BqLBqWNWFq"
      },
      "source": [
        "model.compile(optimizer=SGD(0.1), loss='categorical_crossentropy', metrics=['accuracy'])"
      ],
      "execution_count": 84,
      "outputs": []
    },
    {
      "cell_type": "markdown",
      "metadata": {
        "id": "s31Wp1WMTnxO"
      },
      "source": [
        "## 모델 학습"
      ]
    },
    {
      "cell_type": "markdown",
      "metadata": {
        "id": "TEKeFAP1Wos0"
      },
      "source": [
        "* callback - ModelCheckpoint"
      ]
    },
    {
      "cell_type": "code",
      "metadata": {
        "id": "n3nDNx8OWHtp"
      },
      "source": [
        "from tensorflow.keras.callbacks import ModelCheckpoint, EarlyStopping, ReduceLROnPlateau\n",
        "from tensorflow.keras.models import load_model"
      ],
      "execution_count": 115,
      "outputs": []
    },
    {
      "cell_type": "code",
      "metadata": {
        "id": "7hkIny_wiBYg"
      },
      "source": [
        "checkpoint_cb = ModelCheckpoint(\"my_keras_model.h5\", save_best_only=True, verbose=1) "
      ],
      "execution_count": 121,
      "outputs": []
    },
    {
      "cell_type": "code",
      "metadata": {
        "id": "ebUSSCBRWHlo"
      },
      "source": [
        "#checkpoint_cb = ModelCheckpoint(\"weights.{epoch:02d}-{val_loss:.2f}.hdf5\", save_best_only=True, verbose=1)"
      ],
      "execution_count": 122,
      "outputs": []
    },
    {
      "cell_type": "code",
      "metadata": {
        "colab": {
          "base_uri": "https://localhost:8080/"
        },
        "id": "oICiKVvUTnTC",
        "outputId": "35862e40-0021-458e-9724-28b9cac7c3b7"
      },
      "source": [
        "history = model.fit(train_images, train_oh_labels, validation_split=0.2, batch_size=128, epochs=20, verbose=1, callbacks=[checkpoint_cb]) #가장 좋은 성능을 my....h5로 저장한다.\n",
        "#monitor에 따라서 mode가 min or max로 바꿔줘야 한다. 디폴트가 auto라서 신경 안써도 되는데 내부는 그러함\n",
        "\n",
        "#ModelCheckpoint에서의 verbose탓에 improve되었는지 즉, 개선 여부를 알려줌"
      ],
      "execution_count": 108,
      "outputs": [
        {
          "output_type": "stream",
          "name": "stdout",
          "text": [
            "Epoch 1/20\n",
            "375/375 [==============================] - 1s 4ms/step - loss: 0.2957 - accuracy: 0.8956 - val_loss: 0.3455 - val_accuracy: 0.8766\n",
            "\n",
            "Epoch 00001: val_loss improved from inf to 0.34546, saving model to weights.01-0.35.hdf5\n",
            "Epoch 2/20\n",
            "375/375 [==============================] - 1s 3ms/step - loss: 0.2946 - accuracy: 0.8970 - val_loss: 0.3412 - val_accuracy: 0.8776\n",
            "\n",
            "Epoch 00002: val_loss improved from 0.34546 to 0.34122, saving model to weights.02-0.34.hdf5\n",
            "Epoch 3/20\n",
            "375/375 [==============================] - 1s 3ms/step - loss: 0.2931 - accuracy: 0.8970 - val_loss: 0.3412 - val_accuracy: 0.8772\n",
            "\n",
            "Epoch 00003: val_loss improved from 0.34122 to 0.34121, saving model to weights.03-0.34.hdf5\n",
            "Epoch 4/20\n",
            "375/375 [==============================] - 1s 3ms/step - loss: 0.2926 - accuracy: 0.8971 - val_loss: 0.3388 - val_accuracy: 0.8796\n",
            "\n",
            "Epoch 00004: val_loss improved from 0.34121 to 0.33877, saving model to weights.04-0.34.hdf5\n",
            "Epoch 5/20\n",
            "375/375 [==============================] - 1s 3ms/step - loss: 0.2910 - accuracy: 0.8975 - val_loss: 0.3472 - val_accuracy: 0.8768\n",
            "\n",
            "Epoch 00005: val_loss did not improve from 0.33877\n",
            "Epoch 6/20\n",
            "375/375 [==============================] - 1s 3ms/step - loss: 0.2902 - accuracy: 0.8978 - val_loss: 0.3379 - val_accuracy: 0.8811\n",
            "\n",
            "Epoch 00006: val_loss improved from 0.33877 to 0.33788, saving model to weights.06-0.34.hdf5\n",
            "Epoch 7/20\n",
            "375/375 [==============================] - 1s 3ms/step - loss: 0.2892 - accuracy: 0.8984 - val_loss: 0.3388 - val_accuracy: 0.8803\n",
            "\n",
            "Epoch 00007: val_loss did not improve from 0.33788\n",
            "Epoch 8/20\n",
            "375/375 [==============================] - 1s 3ms/step - loss: 0.2884 - accuracy: 0.8982 - val_loss: 0.3380 - val_accuracy: 0.8798\n",
            "\n",
            "Epoch 00008: val_loss did not improve from 0.33788\n",
            "Epoch 9/20\n",
            "375/375 [==============================] - 1s 3ms/step - loss: 0.2862 - accuracy: 0.8995 - val_loss: 0.3397 - val_accuracy: 0.8772\n",
            "\n",
            "Epoch 00009: val_loss did not improve from 0.33788\n",
            "Epoch 10/20\n",
            "375/375 [==============================] - 1s 3ms/step - loss: 0.2857 - accuracy: 0.8980 - val_loss: 0.3404 - val_accuracy: 0.8779\n",
            "\n",
            "Epoch 00010: val_loss did not improve from 0.33788\n",
            "Epoch 11/20\n",
            "375/375 [==============================] - 1s 3ms/step - loss: 0.2840 - accuracy: 0.9000 - val_loss: 0.3375 - val_accuracy: 0.8787\n",
            "\n",
            "Epoch 00011: val_loss improved from 0.33788 to 0.33748, saving model to weights.11-0.34.hdf5\n",
            "Epoch 12/20\n",
            "375/375 [==============================] - 1s 3ms/step - loss: 0.2833 - accuracy: 0.9004 - val_loss: 0.3377 - val_accuracy: 0.8798\n",
            "\n",
            "Epoch 00012: val_loss did not improve from 0.33748\n",
            "Epoch 13/20\n",
            "375/375 [==============================] - 1s 3ms/step - loss: 0.2818 - accuracy: 0.9000 - val_loss: 0.3382 - val_accuracy: 0.8791\n",
            "\n",
            "Epoch 00013: val_loss did not improve from 0.33748\n",
            "Epoch 14/20\n",
            "375/375 [==============================] - 1s 3ms/step - loss: 0.2809 - accuracy: 0.9008 - val_loss: 0.3356 - val_accuracy: 0.8802\n",
            "\n",
            "Epoch 00014: val_loss improved from 0.33748 to 0.33558, saving model to weights.14-0.34.hdf5\n",
            "Epoch 15/20\n",
            "375/375 [==============================] - 1s 3ms/step - loss: 0.2799 - accuracy: 0.9013 - val_loss: 0.3362 - val_accuracy: 0.8800\n",
            "\n",
            "Epoch 00015: val_loss did not improve from 0.33558\n",
            "Epoch 16/20\n",
            "375/375 [==============================] - 1s 3ms/step - loss: 0.2787 - accuracy: 0.9013 - val_loss: 0.3332 - val_accuracy: 0.8812\n",
            "\n",
            "Epoch 00016: val_loss improved from 0.33558 to 0.33316, saving model to weights.16-0.33.hdf5\n",
            "Epoch 17/20\n",
            "375/375 [==============================] - 1s 3ms/step - loss: 0.2776 - accuracy: 0.9018 - val_loss: 0.3368 - val_accuracy: 0.8795\n",
            "\n",
            "Epoch 00017: val_loss did not improve from 0.33316\n",
            "Epoch 18/20\n",
            "375/375 [==============================] - 1s 3ms/step - loss: 0.2769 - accuracy: 0.9013 - val_loss: 0.3335 - val_accuracy: 0.8803\n",
            "\n",
            "Epoch 00018: val_loss did not improve from 0.33316\n",
            "Epoch 19/20\n",
            "375/375 [==============================] - 1s 3ms/step - loss: 0.2751 - accuracy: 0.9028 - val_loss: 0.3355 - val_accuracy: 0.8798\n",
            "\n",
            "Epoch 00019: val_loss did not improve from 0.33316\n",
            "Epoch 20/20\n",
            "375/375 [==============================] - 1s 3ms/step - loss: 0.2746 - accuracy: 0.9030 - val_loss: 0.3406 - val_accuracy: 0.8768\n",
            "\n",
            "Epoch 00020: val_loss did not improve from 0.33316\n"
          ]
        }
      ]
    },
    {
      "cell_type": "code",
      "metadata": {
        "colab": {
          "base_uri": "https://localhost:8080/"
        },
        "id": "AlEGdlVYXQ6T",
        "outputId": "1847cc7d-de62-4467-a989-94fade138a14"
      },
      "source": [
        "model.evaluate(test_images, test_oh_labels, batch_size=128)"
      ],
      "execution_count": 95,
      "outputs": [
        {
          "output_type": "stream",
          "name": "stdout",
          "text": [
            "79/79 [==============================] - 0s 3ms/step - loss: 0.3902 - accuracy: 0.8606\n"
          ]
        },
        {
          "output_type": "execute_result",
          "data": {
            "text/plain": [
              "[0.3902492821216583, 0.8605999946594238]"
            ]
          },
          "metadata": {},
          "execution_count": 95
        }
      ]
    },
    {
      "cell_type": "code",
      "metadata": {
        "id": "PVqnujNpV9D-"
      },
      "source": [
        "model2 = load_model('my_keras_model.h5')"
      ],
      "execution_count": 96,
      "outputs": []
    },
    {
      "cell_type": "code",
      "metadata": {
        "colab": {
          "base_uri": "https://localhost:8080/"
        },
        "id": "yS5jyqiIXqx4",
        "outputId": "280f482a-aecd-4869-fc6d-a3dc415f28a0"
      },
      "source": [
        "model2.evaluate(test_images, test_oh_labels, batch_size=128)"
      ],
      "execution_count": 97,
      "outputs": [
        {
          "output_type": "stream",
          "name": "stdout",
          "text": [
            "79/79 [==============================] - 0s 2ms/step - loss: 0.3875 - accuracy: 0.8627\n"
          ]
        },
        {
          "output_type": "execute_result",
          "data": {
            "text/plain": [
              "[0.38750794529914856, 0.8626999855041504]"
            ]
          },
          "metadata": {},
          "execution_count": 97
        }
      ]
    },
    {
      "cell_type": "markdown",
      "metadata": {
        "id": "p1SyqhFCi-RK"
      },
      "source": [
        "* callback - EarlyStopping"
      ]
    },
    {
      "cell_type": "code",
      "metadata": {
        "id": "jnz0qFiJXy3K"
      },
      "source": [
        "early_stopping_cb = EarlyStopping(patience=10, restore_best_weights=True)#가장 좋았던 시점의 가중치로 복구 # 10번을 기다림 좋아지지않으면 그만둔다."
      ],
      "execution_count": 111,
      "outputs": []
    },
    {
      "cell_type": "code",
      "metadata": {
        "colab": {
          "base_uri": "https://localhost:8080/"
        },
        "id": "NOA1SiirjdMK",
        "outputId": "28259d79-afc6-4a70-f8ed-8d23b3b56012"
      },
      "source": [
        "history = model.fit(train_images, train_oh_labels, validation_split=0.2, batch_size=128, epochs=50, verbose=1, callbacks=[early_stopping_cb]) "
      ],
      "execution_count": 114,
      "outputs": [
        {
          "output_type": "stream",
          "name": "stdout",
          "text": [
            "Epoch 1/50\n",
            "375/375 [==============================] - 1s 3ms/step - loss: 0.2026 - accuracy: 0.9311 - val_loss: 0.3309 - val_accuracy: 0.8828\n",
            "Epoch 2/50\n",
            "375/375 [==============================] - 1s 3ms/step - loss: 0.2026 - accuracy: 0.9310 - val_loss: 0.3217 - val_accuracy: 0.8848\n",
            "Epoch 3/50\n",
            "375/375 [==============================] - 1s 3ms/step - loss: 0.2018 - accuracy: 0.9308 - val_loss: 0.3227 - val_accuracy: 0.8860\n",
            "Epoch 4/50\n",
            "375/375 [==============================] - 1s 3ms/step - loss: 0.2013 - accuracy: 0.9319 - val_loss: 0.3235 - val_accuracy: 0.8863\n",
            "Epoch 5/50\n",
            "375/375 [==============================] - 1s 3ms/step - loss: 0.2008 - accuracy: 0.9321 - val_loss: 0.3265 - val_accuracy: 0.8860\n",
            "Epoch 6/50\n",
            "375/375 [==============================] - 1s 3ms/step - loss: 0.2011 - accuracy: 0.9313 - val_loss: 0.3228 - val_accuracy: 0.8850\n",
            "Epoch 7/50\n",
            "375/375 [==============================] - 1s 3ms/step - loss: 0.2006 - accuracy: 0.9315 - val_loss: 0.3241 - val_accuracy: 0.8853\n",
            "Epoch 8/50\n",
            "375/375 [==============================] - 1s 3ms/step - loss: 0.2006 - accuracy: 0.9316 - val_loss: 0.3258 - val_accuracy: 0.8861\n",
            "Epoch 9/50\n",
            "375/375 [==============================] - 1s 3ms/step - loss: 0.1987 - accuracy: 0.9315 - val_loss: 0.3282 - val_accuracy: 0.8857\n",
            "Epoch 10/50\n",
            "375/375 [==============================] - 1s 4ms/step - loss: 0.1983 - accuracy: 0.9317 - val_loss: 0.3255 - val_accuracy: 0.8865\n",
            "Epoch 11/50\n",
            "375/375 [==============================] - 1s 3ms/step - loss: 0.1980 - accuracy: 0.9315 - val_loss: 0.3257 - val_accuracy: 0.8873\n",
            "Epoch 12/50\n",
            "375/375 [==============================] - 1s 3ms/step - loss: 0.1980 - accuracy: 0.9329 - val_loss: 0.3253 - val_accuracy: 0.8860\n"
          ]
        }
      ]
    },
    {
      "cell_type": "markdown",
      "metadata": {
        "id": "nE7qCTecklSC"
      },
      "source": [
        "* Callback - ReduceLROnPlateau"
      ]
    },
    {
      "cell_type": "code",
      "metadata": {
        "id": "kDdJYaZhjpit"
      },
      "source": [
        "reducelr_cb = ReduceLROnPlateau(verbose=1) #기울기에 따른 running rate 조절"
      ],
      "execution_count": 117,
      "outputs": []
    },
    {
      "cell_type": "code",
      "metadata": {
        "colab": {
          "base_uri": "https://localhost:8080/"
        },
        "id": "R6MSQQDalgdc",
        "outputId": "a1be7bb5-e31a-4c25-c587-9ba9af3d607f"
      },
      "source": [
        "history = model.fit(train_images, train_oh_labels, validation_split=0.2, batch_size=128, epochs=20, verbose=1, callbacks=[reducelr_cb])#여러개를 콜백할 수도 있다. "
      ],
      "execution_count": 119,
      "outputs": [
        {
          "output_type": "stream",
          "name": "stdout",
          "text": [
            "Epoch 1/20\n",
            "375/375 [==============================] - 1s 3ms/step - loss: 0.1879 - accuracy: 0.9383 - val_loss: 0.3219 - val_accuracy: 0.8864\n",
            "Epoch 2/20\n",
            "375/375 [==============================] - 1s 3ms/step - loss: 0.1879 - accuracy: 0.9377 - val_loss: 0.3214 - val_accuracy: 0.8855\n",
            "Epoch 3/20\n",
            "375/375 [==============================] - 1s 3ms/step - loss: 0.1878 - accuracy: 0.9374 - val_loss: 0.3217 - val_accuracy: 0.8868\n",
            "Epoch 4/20\n",
            "375/375 [==============================] - 1s 3ms/step - loss: 0.1878 - accuracy: 0.9374 - val_loss: 0.3216 - val_accuracy: 0.8867\n",
            "Epoch 5/20\n",
            "375/375 [==============================] - 1s 3ms/step - loss: 0.1878 - accuracy: 0.9378 - val_loss: 0.3216 - val_accuracy: 0.8866\n",
            "Epoch 6/20\n",
            "375/375 [==============================] - 1s 4ms/step - loss: 0.1878 - accuracy: 0.9377 - val_loss: 0.3213 - val_accuracy: 0.8864\n",
            "Epoch 7/20\n",
            "375/375 [==============================] - 1s 3ms/step - loss: 0.1877 - accuracy: 0.9376 - val_loss: 0.3215 - val_accuracy: 0.8863\n",
            "Epoch 8/20\n",
            "375/375 [==============================] - 1s 3ms/step - loss: 0.1877 - accuracy: 0.9374 - val_loss: 0.3215 - val_accuracy: 0.8867\n",
            "Epoch 9/20\n",
            "375/375 [==============================] - 1s 3ms/step - loss: 0.1876 - accuracy: 0.9375 - val_loss: 0.3217 - val_accuracy: 0.8862\n",
            "Epoch 10/20\n",
            "375/375 [==============================] - 1s 3ms/step - loss: 0.1875 - accuracy: 0.9375 - val_loss: 0.3216 - val_accuracy: 0.8866\n",
            "Epoch 11/20\n",
            "375/375 [==============================] - 1s 3ms/step - loss: 0.1874 - accuracy: 0.9376 - val_loss: 0.3216 - val_accuracy: 0.8867\n",
            "Epoch 12/20\n",
            "375/375 [==============================] - 1s 3ms/step - loss: 0.1874 - accuracy: 0.9379 - val_loss: 0.3220 - val_accuracy: 0.8866\n",
            "Epoch 13/20\n",
            "375/375 [==============================] - 1s 3ms/step - loss: 0.1873 - accuracy: 0.9378 - val_loss: 0.3215 - val_accuracy: 0.8866\n",
            "Epoch 14/20\n",
            "375/375 [==============================] - 1s 3ms/step - loss: 0.1873 - accuracy: 0.9381 - val_loss: 0.3215 - val_accuracy: 0.8869\n",
            "Epoch 15/20\n",
            "375/375 [==============================] - 1s 3ms/step - loss: 0.1872 - accuracy: 0.9373 - val_loss: 0.3217 - val_accuracy: 0.8867\n",
            "Epoch 16/20\n",
            "375/375 [==============================] - 1s 3ms/step - loss: 0.1871 - accuracy: 0.9381 - val_loss: 0.3213 - val_accuracy: 0.8871\n",
            "\n",
            "Epoch 00016: ReduceLROnPlateau reducing learning rate to 0.0009999999776482583.\n",
            "Epoch 17/20\n",
            "375/375 [==============================] - 1s 3ms/step - loss: 0.1866 - accuracy: 0.9385 - val_loss: 0.3211 - val_accuracy: 0.8871\n",
            "Epoch 18/20\n",
            "375/375 [==============================] - 1s 3ms/step - loss: 0.1864 - accuracy: 0.9385 - val_loss: 0.3212 - val_accuracy: 0.8872\n",
            "Epoch 19/20\n",
            "375/375 [==============================] - 1s 3ms/step - loss: 0.1864 - accuracy: 0.9384 - val_loss: 0.3212 - val_accuracy: 0.8871\n",
            "Epoch 20/20\n",
            "375/375 [==============================] - 1s 3ms/step - loss: 0.1864 - accuracy: 0.9379 - val_loss: 0.3212 - val_accuracy: 0.8872\n"
          ]
        }
      ]
    },
    {
      "cell_type": "code",
      "metadata": {
        "colab": {
          "base_uri": "https://localhost:8080/"
        },
        "id": "Jm7M9-Tjll49",
        "outputId": "f612daa3-c7b3-486b-b96d-391d18dccb14"
      },
      "source": [
        "model.evaluate(test_images, test_oh_labels, batch_size=128)"
      ],
      "execution_count": 120,
      "outputs": [
        {
          "output_type": "stream",
          "name": "stdout",
          "text": [
            "79/79 [==============================] - 0s 2ms/step - loss: 0.3460 - accuracy: 0.8799\n"
          ]
        },
        {
          "output_type": "execute_result",
          "data": {
            "text/plain": [
              "[0.3460386395454407, 0.8798999786376953]"
            ]
          },
          "metadata": {},
          "execution_count": 120
        }
      ]
    },
    {
      "cell_type": "markdown",
      "metadata": {
        "id": "10yUKi61oAct"
      },
      "source": [
        "* callback 조합 reducelr, early_stop, checkpoint"
      ]
    },
    {
      "cell_type": "code",
      "metadata": {
        "colab": {
          "base_uri": "https://localhost:8080/"
        },
        "id": "8WjoH230ngQT",
        "outputId": "aa7a386e-f7a7-44c5-ef6e-f56256bcea40"
      },
      "source": [
        "history = model.fit(train_images, train_oh_labels, validation_split=0.2, batch_size=128, epochs=20, verbose=1, callbacks=[reducelr_cb, early_stopping_cb, checkpoint_cb])"
      ],
      "execution_count": 123,
      "outputs": [
        {
          "output_type": "stream",
          "name": "stdout",
          "text": [
            "Epoch 1/20\n",
            "375/375 [==============================] - 1s 4ms/step - loss: 0.1864 - accuracy: 0.9386 - val_loss: 0.3213 - val_accuracy: 0.8873\n",
            "\n",
            "Epoch 00001: val_loss improved from inf to 0.32127, saving model to my_keras_model.h5\n",
            "Epoch 2/20\n",
            "375/375 [==============================] - 1s 3ms/step - loss: 0.1864 - accuracy: 0.9384 - val_loss: 0.3213 - val_accuracy: 0.8870\n",
            "\n",
            "Epoch 00002: val_loss improved from 0.32127 to 0.32125, saving model to my_keras_model.h5\n",
            "Epoch 3/20\n",
            "375/375 [==============================] - 1s 3ms/step - loss: 0.1864 - accuracy: 0.9383 - val_loss: 0.3213 - val_accuracy: 0.8871\n",
            "\n",
            "Epoch 00003: val_loss did not improve from 0.32125\n",
            "Epoch 4/20\n",
            "375/375 [==============================] - 1s 3ms/step - loss: 0.1863 - accuracy: 0.9381 - val_loss: 0.3213 - val_accuracy: 0.8867\n",
            "\n",
            "Epoch 00004: val_loss did not improve from 0.32125\n",
            "Epoch 5/20\n",
            "375/375 [==============================] - 1s 3ms/step - loss: 0.1864 - accuracy: 0.9385 - val_loss: 0.3213 - val_accuracy: 0.8873\n",
            "\n",
            "Epoch 00005: val_loss did not improve from 0.32125\n",
            "Epoch 6/20\n",
            "375/375 [==============================] - 1s 3ms/step - loss: 0.1863 - accuracy: 0.9383 - val_loss: 0.3213 - val_accuracy: 0.8869\n",
            "\n",
            "Epoch 00006: val_loss did not improve from 0.32125\n",
            "Epoch 7/20\n",
            "375/375 [==============================] - 1s 3ms/step - loss: 0.1863 - accuracy: 0.9384 - val_loss: 0.3214 - val_accuracy: 0.8871\n",
            "\n",
            "Epoch 00007: val_loss did not improve from 0.32125\n",
            "Epoch 8/20\n",
            "375/375 [==============================] - 1s 3ms/step - loss: 0.1863 - accuracy: 0.9381 - val_loss: 0.3214 - val_accuracy: 0.8867\n",
            "\n",
            "Epoch 00008: val_loss did not improve from 0.32125\n",
            "Epoch 9/20\n",
            "375/375 [==============================] - 1s 3ms/step - loss: 0.1863 - accuracy: 0.9380 - val_loss: 0.3214 - val_accuracy: 0.8868\n",
            "\n",
            "Epoch 00009: val_loss did not improve from 0.32125\n",
            "Epoch 10/20\n",
            "375/375 [==============================] - 1s 3ms/step - loss: 0.1863 - accuracy: 0.9382 - val_loss: 0.3213 - val_accuracy: 0.8872\n",
            "\n",
            "Epoch 00010: val_loss did not improve from 0.32125\n",
            "Epoch 11/20\n",
            "375/375 [==============================] - 1s 3ms/step - loss: 0.1863 - accuracy: 0.9386 - val_loss: 0.3214 - val_accuracy: 0.8869\n",
            "\n",
            "Epoch 00011: ReduceLROnPlateau reducing learning rate to 9.999999310821295e-05.\n",
            "\n",
            "Epoch 00011: val_loss did not improve from 0.32125\n",
            "Epoch 12/20\n",
            "375/375 [==============================] - 1s 3ms/step - loss: 0.1862 - accuracy: 0.9383 - val_loss: 0.3214 - val_accuracy: 0.8870\n",
            "\n",
            "Epoch 00012: val_loss did not improve from 0.32125\n"
          ]
        }
      ]
    },
    {
      "cell_type": "code",
      "metadata": {
        "colab": {
          "base_uri": "https://localhost:8080/"
        },
        "id": "_qfMyNIjnwte",
        "outputId": "83aacdf0-621f-433d-a7ae-dad4c34695e8"
      },
      "source": [
        "model.evaluate(test_images, test_oh_labels, batch_size=128)"
      ],
      "execution_count": 124,
      "outputs": [
        {
          "output_type": "stream",
          "name": "stdout",
          "text": [
            "79/79 [==============================] - 0s 2ms/step - loss: 0.3460 - accuracy: 0.8801\n"
          ]
        },
        {
          "output_type": "execute_result",
          "data": {
            "text/plain": [
              "[0.3460492193698883, 0.8801000118255615]"
            ]
          },
          "metadata": {},
          "execution_count": 124
        }
      ]
    },
    {
      "cell_type": "markdown",
      "metadata": {
        "id": "JhHD9jaSo0j9"
      },
      "source": [
        "# 하이퍼 파라미터 튜닝"
      ]
    },
    {
      "cell_type": "code",
      "metadata": {
        "id": "9nCVc4OIozz9"
      },
      "source": [
        "def build_model(n_neurons=50):\n",
        "  input_tensor = Input(shape=(28, 28))\n",
        "  x = Flatten()(input_tensor) # 이런식으로 함수를 어떤 함수에 적용할 지 사용가능하다.\n",
        "  x = Dense(n_neurons, activation='sigmoid')(x)\n",
        "  output = Dense(10, activation='softmax')(x)\n",
        "\n",
        "\n",
        "\n",
        "  model = Model(inputs=input_tensor, outputs=output)\n",
        "  model.compile(optimizer=SGD(0.1), loss='categorical_crossentropy', metrics=['accuracy'])\n",
        "  \n",
        "  return model"
      ],
      "execution_count": 136,
      "outputs": []
    },
    {
      "cell_type": "code",
      "metadata": {
        "id": "xwBrqPJgpOIc"
      },
      "source": [
        "from tensorflow.keras.wrappers.scikit_learn import KerasClassifier, KerasRegressor #텐서 안에도 사이킷런이 있다."
      ],
      "execution_count": 137,
      "outputs": []
    },
    {
      "cell_type": "code",
      "metadata": {
        "id": "7CZMBCNJpm6k"
      },
      "source": [
        "keras_clf = KerasClassifier(build_model)"
      ],
      "execution_count": 138,
      "outputs": []
    },
    {
      "cell_type": "code",
      "metadata": {
        "id": "PPaTJJ2KogyY"
      },
      "source": [
        "from sklearn.model_selection import GridSearchCV, RandomizedSearchCV"
      ],
      "execution_count": 139,
      "outputs": []
    },
    {
      "cell_type": "code",
      "metadata": {
        "colab": {
          "base_uri": "https://localhost:8080/"
        },
        "id": "cHyBj6hrplHx",
        "outputId": "db0a5f52-7f65-414f-b3ae-8de1cd005fcc"
      },
      "source": [
        "parm_grid = {\n",
        "    'n_neurons' : [50, 100]\n",
        "}\n",
        "grid_search = GridSearchCV(keras_clf, parm_grid, cv=3)\n",
        "grid_search.fit(train_images, train_oh_labels, validation_split=0.2, batch_size=128, epochs=5, verbose=1)"
      ],
      "execution_count": 144,
      "outputs": [
        {
          "output_type": "stream",
          "name": "stdout",
          "text": [
            "Epoch 1/5\n",
            "250/250 [==============================] - 54s 4ms/step - loss: 1.2725 - accuracy: 0.6634 - val_loss: 0.8577 - val_accuracy: 0.7412\n",
            "Epoch 2/5\n",
            "250/250 [==============================] - 1s 3ms/step - loss: 0.7563 - accuracy: 0.7582 - val_loss: 0.6809 - val_accuracy: 0.7673\n",
            "Epoch 3/5\n",
            "250/250 [==============================] - 1s 4ms/step - loss: 0.6411 - accuracy: 0.7843 - val_loss: 0.6076 - val_accuracy: 0.7896\n",
            "Epoch 4/5\n",
            "250/250 [==============================] - 1s 3ms/step - loss: 0.5817 - accuracy: 0.8024 - val_loss: 0.5703 - val_accuracy: 0.8006\n",
            "Epoch 5/5\n",
            "250/250 [==============================] - 1s 4ms/step - loss: 0.5433 - accuracy: 0.8143 - val_loss: 0.5356 - val_accuracy: 0.8124\n",
            "625/625 [==============================] - 1s 2ms/step - loss: 0.5357 - accuracy: 0.8135\n",
            "Epoch 1/5\n",
            "250/250 [==============================] - 1s 4ms/step - loss: 1.2677 - accuracy: 0.6521 - val_loss: 0.8610 - val_accuracy: 0.7510\n",
            "Epoch 2/5\n",
            "250/250 [==============================] - 1s 3ms/step - loss: 0.7613 - accuracy: 0.7587 - val_loss: 0.6852 - val_accuracy: 0.7648\n",
            "Epoch 3/5\n",
            "250/250 [==============================] - 1s 3ms/step - loss: 0.6443 - accuracy: 0.7849 - val_loss: 0.6090 - val_accuracy: 0.7893\n",
            "Epoch 4/5\n",
            "250/250 [==============================] - 1s 4ms/step - loss: 0.5834 - accuracy: 0.8020 - val_loss: 0.5637 - val_accuracy: 0.8074\n",
            "Epoch 5/5\n",
            "250/250 [==============================] - 1s 3ms/step - loss: 0.5446 - accuracy: 0.8127 - val_loss: 0.5366 - val_accuracy: 0.8124\n",
            "625/625 [==============================] - 1s 2ms/step - loss: 0.5343 - accuracy: 0.8166\n",
            "Epoch 1/5\n",
            "250/250 [==============================] - 1s 4ms/step - loss: 1.2400 - accuracy: 0.6679 - val_loss: 0.8513 - val_accuracy: 0.7536\n",
            "Epoch 2/5\n",
            "250/250 [==============================] - 1s 3ms/step - loss: 0.7525 - accuracy: 0.7581 - val_loss: 0.6795 - val_accuracy: 0.7720\n",
            "Epoch 3/5\n",
            "250/250 [==============================] - 1s 3ms/step - loss: 0.6386 - accuracy: 0.7847 - val_loss: 0.6052 - val_accuracy: 0.7959\n",
            "Epoch 4/5\n",
            "250/250 [==============================] - 1s 3ms/step - loss: 0.5798 - accuracy: 0.8035 - val_loss: 0.5617 - val_accuracy: 0.8127\n",
            "Epoch 5/5\n",
            "250/250 [==============================] - 1s 4ms/step - loss: 0.5426 - accuracy: 0.8142 - val_loss: 0.5323 - val_accuracy: 0.8236\n",
            "625/625 [==============================] - 1s 2ms/step - loss: 0.5309 - accuracy: 0.8178\n",
            "Epoch 1/5\n",
            "250/250 [==============================] - 1s 4ms/step - loss: 1.1621 - accuracy: 0.6837 - val_loss: 0.7782 - val_accuracy: 0.7480\n",
            "Epoch 2/5\n",
            "250/250 [==============================] - 1s 4ms/step - loss: 0.7012 - accuracy: 0.7671 - val_loss: 0.6402 - val_accuracy: 0.7775\n",
            "Epoch 3/5\n",
            "250/250 [==============================] - 1s 4ms/step - loss: 0.6086 - accuracy: 0.7927 - val_loss: 0.5824 - val_accuracy: 0.7966\n",
            "Epoch 4/5\n",
            "250/250 [==============================] - 1s 4ms/step - loss: 0.5597 - accuracy: 0.8073 - val_loss: 0.5541 - val_accuracy: 0.8050\n",
            "Epoch 5/5\n",
            "250/250 [==============================] - 1s 5ms/step - loss: 0.5277 - accuracy: 0.8173 - val_loss: 0.5228 - val_accuracy: 0.8138\n",
            "625/625 [==============================] - 1s 2ms/step - loss: 0.5232 - accuracy: 0.8160\n",
            "Epoch 1/5\n",
            "250/250 [==============================] - 1s 4ms/step - loss: 1.1698 - accuracy: 0.6741 - val_loss: 0.7975 - val_accuracy: 0.7526\n",
            "Epoch 2/5\n",
            "250/250 [==============================] - 1s 3ms/step - loss: 0.7132 - accuracy: 0.7644 - val_loss: 0.6538 - val_accuracy: 0.7656\n",
            "Epoch 3/5\n",
            "250/250 [==============================] - 1s 4ms/step - loss: 0.6163 - accuracy: 0.7880 - val_loss: 0.5890 - val_accuracy: 0.7931\n",
            "Epoch 4/5\n",
            "250/250 [==============================] - 1s 4ms/step - loss: 0.5647 - accuracy: 0.8039 - val_loss: 0.5501 - val_accuracy: 0.8091\n",
            "Epoch 5/5\n",
            "250/250 [==============================] - 1s 4ms/step - loss: 0.5316 - accuracy: 0.8142 - val_loss: 0.5296 - val_accuracy: 0.8109\n",
            "625/625 [==============================] - 1s 2ms/step - loss: 0.5265 - accuracy: 0.8170\n",
            "Epoch 1/5\n",
            "250/250 [==============================] - 2s 5ms/step - loss: 1.1874 - accuracy: 0.6716 - val_loss: 0.7963 - val_accuracy: 0.7595\n",
            "Epoch 2/5\n",
            "250/250 [==============================] - 1s 5ms/step - loss: 0.7142 - accuracy: 0.7612 - val_loss: 0.6517 - val_accuracy: 0.7738\n",
            "Epoch 3/5\n",
            "250/250 [==============================] - 1s 5ms/step - loss: 0.6167 - accuracy: 0.7874 - val_loss: 0.5868 - val_accuracy: 0.8001\n",
            "Epoch 4/5\n",
            "250/250 [==============================] - 1s 4ms/step - loss: 0.5648 - accuracy: 0.8042 - val_loss: 0.5481 - val_accuracy: 0.8117\n",
            "Epoch 5/5\n",
            "250/250 [==============================] - 1s 3ms/step - loss: 0.5317 - accuracy: 0.8152 - val_loss: 0.5234 - val_accuracy: 0.8201\n",
            "625/625 [==============================] - 1s 2ms/step - loss: 0.5227 - accuracy: 0.8162\n",
            "Epoch 1/5\n",
            "375/375 [==============================] - 2s 4ms/step - loss: 1.0412 - accuracy: 0.6963 - val_loss: 0.7035 - val_accuracy: 0.7660\n",
            "Epoch 2/5\n",
            "375/375 [==============================] - 1s 4ms/step - loss: 0.6378 - accuracy: 0.7837 - val_loss: 0.5834 - val_accuracy: 0.8002\n",
            "Epoch 3/5\n",
            "375/375 [==============================] - 1s 4ms/step - loss: 0.5565 - accuracy: 0.8083 - val_loss: 0.5313 - val_accuracy: 0.8148\n",
            "Epoch 4/5\n",
            "375/375 [==============================] - 2s 4ms/step - loss: 0.5157 - accuracy: 0.8205 - val_loss: 0.5015 - val_accuracy: 0.8217\n",
            "Epoch 5/5\n",
            "375/375 [==============================] - 1s 4ms/step - loss: 0.4898 - accuracy: 0.8291 - val_loss: 0.4877 - val_accuracy: 0.8249\n"
          ]
        },
        {
          "output_type": "execute_result",
          "data": {
            "text/plain": [
              "GridSearchCV(cv=3, error_score=nan,\n",
              "             estimator=<keras.wrappers.scikit_learn.KerasClassifier object at 0x7f370449bc10>,\n",
              "             iid='deprecated', n_jobs=None, param_grid={'n_neurons': [50, 100]},\n",
              "             pre_dispatch='2*n_jobs', refit=True, return_train_score=False,\n",
              "             scoring=None, verbose=0)"
            ]
          },
          "metadata": {},
          "execution_count": 144
        }
      ]
    },
    {
      "cell_type": "code",
      "metadata": {
        "colab": {
          "base_uri": "https://localhost:8080/"
        },
        "id": "ajOKk7LFqeFW",
        "outputId": "22f22375-e1bf-4ae7-9cdd-6c7023acbe25"
      },
      "source": [
        "grid_search.best_params_"
      ],
      "execution_count": 146,
      "outputs": [
        {
          "output_type": "execute_result",
          "data": {
            "text/plain": [
              "{'n_neurons': 100}"
            ]
          },
          "metadata": {},
          "execution_count": 146
        }
      ]
    },
    {
      "cell_type": "code",
      "metadata": {
        "id": "vDtOBca7CpnP"
      },
      "source": [
        " "
      ],
      "execution_count": null,
      "outputs": []
    }
  ]
}