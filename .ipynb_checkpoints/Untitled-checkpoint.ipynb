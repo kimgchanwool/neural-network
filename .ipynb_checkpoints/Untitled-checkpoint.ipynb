{
 "cells": [
  {
   "cell_type": "code",
   "execution_count": 7,
   "id": "3b529e3d",
   "metadata": {},
   "outputs": [],
   "source": [
    "import cv2\n",
    "import numpy as np\n",
    "import os\n",
    "\n",
    "def ascii(inp):\n",
    "    nw, nh = 200, 200 #width\n",
    "    CHARS = '   .,-_`~+=*^)(&%$#@' #해당 숫자들로 색 표현\n",
    "    CHARS = sorted(CHARS, reverse=True) #밀도 재배치\n",
    "\n",
    "    vid = cv2.VideoCapture('\\sweet\\Desktop\\코딩\\python 기초(ipynb)\\man_output.mp4') #0~255  16\n",
    "    os.system('cls')\n",
    "    while vid.isOpened:\n",
    "        ret, img = vid.read()\n",
    "        if not ret:\n",
    "            break\n",
    " #,3\n",
    "        print(img)\n",
    "        img = cv2.cvtColor(img, cv2.COLOR_BGR2GRAY) #화이트 블랙\n",
    "\n",
    "    #h, w = img.shape\n",
    "    #nh = int(h / (2 * w) * nw) #높이/(2*너비) = 높이 대 너비 비율 * 너비\n",
    "\n",
    "        img = cv2.resize(img, (nw, nh)) #이미지 사이즈를 nw와 nh에 맞게 조정\n",
    "\n",
    "\n",
    "#for문 돌면서 출력11\n"
   ]
  },
  {
   "cell_type": "code",
   "execution_count": 8,
   "id": "949a718c",
   "metadata": {},
   "outputs": [],
   "source": [
    "if __name__ == '__main__':\n",
    "  #inp = input('what r u want tracking?(only name plz, not .mp4...) : ') #나중에 입력도 받을 수 있게끔함.\n",
    "  ascii('man')"
   ]
  },
  {
   "cell_type": "code",
   "execution_count": null,
   "id": "08573fdc",
   "metadata": {},
   "outputs": [],
   "source": [
    "    for pixels in img:\n",
    "      for pixel in pixels: #256 0 16\n",
    "        index = int(pixel / 256 * len(CHARS)) #256으로 나눠서 1이나오는 것을 방지 len(CHARS)를 곱하여 인덱스로 사용.\n",
    "        print(CHARS[index], end='') #줄바꿈 없어야함\n",
    "      print()\n",
    "    os.system('cls') #터미널에서는 clear"
   ]
  }
 ],
 "metadata": {
  "kernelspec": {
   "display_name": "Python 3",
   "language": "python",
   "name": "python3"
  },
  "language_info": {
   "codemirror_mode": {
    "name": "ipython",
    "version": 3
   },
   "file_extension": ".py",
   "mimetype": "text/x-python",
   "name": "python",
   "nbconvert_exporter": "python",
   "pygments_lexer": "ipython3",
   "version": "3.8.8"
  }
 },
 "nbformat": 4,
 "nbformat_minor": 5
}
