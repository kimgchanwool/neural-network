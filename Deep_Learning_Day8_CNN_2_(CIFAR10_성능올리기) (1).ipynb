{
  "nbformat": 4,
  "nbformat_minor": 0,
  "metadata": {
    "colab": {
      "name": "Deep Learning Day8 - CNN 2 (CIFAR10_성능올리기).ipynb",
      "provenance": [],
      "collapsed_sections": []
    },
    "kernelspec": {
      "name": "python3",
      "display_name": "Python 3"
    },
    "language_info": {
      "name": "python"
    },
    "accelerator": "GPU"
  },
  "cells": [
    {
      "cell_type": "markdown",
      "metadata": {
        "id": "wGPaTYIaPLGu"
      },
      "source": [
        "# CIFAR10 데이터로 신경한 훈련"
      ]
    },
    {
      "cell_type": "code",
      "metadata": {
        "id": "FZl0C-zgM7WC"
      },
      "source": [
        "import tensorflow as tf\n",
        "import numpy as np\n",
        "import matplotlib.pyplot as plt\n",
        "from tensorflow.keras.utils import to_categorical\n",
        "from tensorflow.keras.datasets import cifar10\n",
        "from tensorflow.keras.layers import Input, Flatten, Dense\n",
        "from tensorflow.keras.models import Model"
      ],
      "execution_count": null,
      "outputs": []
    },
    {
      "cell_type": "code",
      "metadata": {
        "id": "Izdyote3NwjV",
        "colab": {
          "base_uri": "https://localhost:8080/"
        },
        "outputId": "775c6a61-43f2-4613-9061-9f99508615ac"
      },
      "source": [
        "(train_images, train_labels), (test_images, test_labels) = cifar10.load_data()"
      ],
      "execution_count": null,
      "outputs": [
        {
          "output_type": "stream",
          "name": "stdout",
          "text": [
            "Downloading data from https://www.cs.toronto.edu/~kriz/cifar-10-python.tar.gz\n",
            "170500096/170498071 [==============================] - 3s 0us/step\n",
            "170508288/170498071 [==============================] - 3s 0us/step\n"
          ]
        }
      ]
    },
    {
      "cell_type": "code",
      "metadata": {
        "id": "SihKUzI7N1od",
        "colab": {
          "base_uri": "https://localhost:8080/"
        },
        "outputId": "8592c779-acf1-4a68-91cc-19a8515e0808"
      },
      "source": [
        "print(train_images.shape, train_labels.shape) #airplane, automobile, bird, cat, deer, dog, frog, horse, ship, truck 순으로 10개의 라벨\n",
        "print(test_images.shape, test_labels.shape)"
      ],
      "execution_count": null,
      "outputs": [
        {
          "output_type": "stream",
          "name": "stdout",
          "text": [
            "(50000, 32, 32, 3) (50000, 1)\n",
            "(10000, 32, 32, 3) (10000, 1)\n"
          ]
        }
      ]
    },
    {
      "cell_type": "code",
      "metadata": {
        "id": "dQM4TurHORsQ"
      },
      "source": [
        "class_names = ['airplane', 'automobile', 'bird', 'cat', 'deer', 'dog', 'frog', 'horse', 'ship', 'truck']"
      ],
      "execution_count": null,
      "outputs": []
    },
    {
      "cell_type": "code",
      "metadata": {
        "id": "7CpKemkiO1wl",
        "colab": {
          "base_uri": "https://localhost:8080/"
        },
        "outputId": "08e5adf2-a51f-45d1-f17c-7980c58f9ff5"
      },
      "source": [
        "train_labels[:10]"
      ],
      "execution_count": null,
      "outputs": [
        {
          "output_type": "execute_result",
          "data": {
            "text/plain": [
              "array([[6],\n",
              "       [9],\n",
              "       [9],\n",
              "       [4],\n",
              "       [1],\n",
              "       [1],\n",
              "       [2],\n",
              "       [7],\n",
              "       [8],\n",
              "       [3]], dtype=uint8)"
            ]
          },
          "metadata": {},
          "execution_count": 5
        }
      ]
    },
    {
      "cell_type": "markdown",
      "metadata": {
        "id": "F2KlOixgPIim"
      },
      "source": [
        "### 데이터 시각화"
      ]
    },
    {
      "cell_type": "code",
      "metadata": {
        "id": "qfkf7awTO42Q",
        "colab": {
          "base_uri": "https://localhost:8080/",
          "height": 372
        },
        "outputId": "27a644f6-2674-48e8-a57b-9a0cee6fee10"
      },
      "source": [
        "plt.figure(figsize = (22,6))\n",
        "\n",
        "for i in range(16):\n",
        "    ax = plt.subplot(2, 8, i+1)\n",
        "    ax.set_title(class_names[train_labels.flatten()[i]])\n",
        "    ax.imshow(train_images[i])"
      ],
      "execution_count": null,
      "outputs": [
        {
          "output_type": "display_data",
          "data": {
            "image/png": "[encoded data removed]",
            "text/plain": [
              "<Figure size 1584x432 with 16 Axes>"
            ]
          },
          "metadata": {
            "needs_background": "light"
          }
        }
      ]
    },
    {
      "cell_type": "markdown",
      "metadata": {
        "id": "Aali55-aRhzb"
      },
      "source": [
        "### 데이터 전처리"
      ]
    },
    {
      "cell_type": "code",
      "metadata": {
        "id": "-x39zmOuPl-e"
      },
      "source": [
        "train_images = np.array(train_images/255.0, dtype=np.float32)\n",
        "train_labels = np.array(train_labels, dtype=np.float32)\n",
        "test_images = np.array(test_images/255.0, dtype=np.float32)\n",
        "test_labels = np.array(test_labels, dtype=np.float32)\n",
        "\n",
        "train_oh_labels = to_categorical(train_labels)\n",
        "test_oh_labels = to_categorical(test_labels)"
      ],
      "execution_count": null,
      "outputs": []
    },
    {
      "cell_type": "markdown",
      "metadata": {
        "id": "6IXIx0LQUmhy"
      },
      "source": [
        "### 모델 생성"
      ]
    },
    {
      "cell_type": "code",
      "metadata": {
        "id": "d-a3uFJWVcXt"
      },
      "source": [
        "from tensorflow.keras.optimizers import SGD, Adam\n",
        "from tensorflow.keras.losses import CategoricalCrossentropy\n",
        "from tensorflow.keras.metrics import Accuracy\n",
        "from tensorflow.keras.models import Sequential\n",
        "from tensorflow.keras.layers import Input, Conv2D, MaxPooling2D, Dropout, MaxPooling3D, BatchNormalization, Activation"
      ],
      "execution_count": null,
      "outputs": []
    },
    {
      "cell_type": "code",
      "metadata": {
        "id": "Zdu7L1m7UmOo"
      },
      "source": [
        "def build_model():\n",
        "  tf.keras.backend.clear_session() #기존에 있던 모델 클리어\n",
        "\n",
        "  input_tensor = Input(shape = (32, 32, 3))\n",
        "  x = Conv2D(filters=32, kernel_size=(3, 3), strides=1, padding='same')(input_tensor)\n",
        "  x = BatchNormalization()(x)\n",
        "  x = Activation('relu')(x)\n",
        "  x = Conv2D(filters=32, kernel_size=(3, 3), strides=1, padding='same')(x) # valid는 패딩 False와 같음\n",
        "  x = Activation('relu')(x)\n",
        "  x = MaxPooling2D(pool_size=(2,2))(x)   ## 이런 모양새 하나를 블럭이라고 한다.\n",
        "\n",
        "\n",
        "  x = Conv2D(filters=64, kernel_size=(3, 3), strides=1, padding='same')(x)\n",
        "  x = Activation('relu')(x)\n",
        "  x = Conv2D(filters=64, kernel_size=(3, 3), strides=1, padding='same')(x) # valid는 패딩 False와 같음\n",
        "  x = Activation('relu')(x)\n",
        "  x = MaxPooling2D(pool_size=(2,2))(x)\n",
        "\n",
        "\n",
        "  x = Conv2D(filters=128, kernel_size=(3, 3), strides=1, padding='same')(x)\n",
        "  x = Activation('relu')(x)\n",
        "  x = Conv2D(filters=128, kernel_size=(3, 3), strides=1, padding='same')(x) # valid는 패딩 False와 같음\n",
        "  x = Activation('relu')(x)\n",
        "  x = MaxPooling2D(pool_size=(2,2))(x)\n",
        "\n",
        "\n",
        "  #x = Conv2D(filters=256, kernel_size=(2, 2), strides=1, padding='same', activation='relu')(x)\n",
        "  #x = Conv2D(filters=256, kernel_size=(2, 2), strides=1, padding='same', activation='relu')(x) # valid는 패딩 False와 같음\n",
        "  #x = MaxPooling2D(pool_size=(2,2))(x)\n",
        "\n",
        "  print(x.shape)\n",
        "  x = Flatten()(x)\n",
        "  print(x.shape)\n",
        "  x = Dropout(0.5)(x)\n",
        "  x = Dense(300, activation='relu')(x)\n",
        "  x = Dropout(0.3)(x)\n",
        "  x = Dense(100, activation='relu')(x)\n",
        "  x = Dropout(0.3)(x)\n",
        "  output = Dense(10, activation='softmax')(x)\n",
        "\n",
        "  model = Model(inputs=input_tensor, outputs=output)\n",
        "  \n",
        "  return model"
      ],
      "execution_count": null,
      "outputs": []
    },
    {
      "cell_type": "code",
      "metadata": {
        "colab": {
          "base_uri": "https://localhost:8080/"
        },
        "id": "vwYVVwzMwRsF",
        "outputId": "0227275c-46b4-4de7-9d60-c6d3ec2990c7"
      },
      "source": [
        "model = build_model()"
      ],
      "execution_count": null,
      "outputs": [
        {
          "output_type": "stream",
          "name": "stdout",
          "text": [
            "(None, 4, 4, 128)\n",
            "(None, 2048)\n"
          ]
        }
      ]
    },
    {
      "cell_type": "markdown",
      "metadata": {
        "id": "xCDmGzIcwQX2"
      },
      "source": [
        "## 모델 컴파일"
      ]
    },
    {
      "cell_type": "code",
      "metadata": {
        "id": "SttOSFT5RtAM"
      },
      "source": [
        "model.compile(optimizer=Adam(0.001), loss='categorical_crossentropy', metrics=['accuracy']) #원-핫 인코딩을 안쓰면 categorical을 굳이 안써도 된다. binary_cateogorical"
      ],
      "execution_count": null,
      "outputs": []
    },
    {
      "cell_type": "code",
      "metadata": {
        "id": "BebQUJYMvLrY"
      },
      "source": [
        "from tensorflow.keras.callbacks import ModelCheckpoint, EarlyStopping, ReduceLROnPlateau"
      ],
      "execution_count": null,
      "outputs": []
    },
    {
      "cell_type": "code",
      "metadata": {
        "id": "gx1Gv0YZvLjl"
      },
      "source": [
        "checkpoint_cb = ModelCheckpoint(\"my_keras_model.h5\", save_best_only=True, verbose=1) \n",
        "early_stopping_cb = EarlyStopping(patience=15, restore_best_weights=True)\n",
        "reducelr_cb = ReduceLROnPlateau(monitor='val_loss', factor=0.2, patience=5, mode='min', verbose=1)"
      ],
      "execution_count": null,
      "outputs": []
    },
    {
      "cell_type": "code",
      "metadata": {
        "id": "T0okHdmvYBIL",
        "colab": {
          "base_uri": "https://localhost:8080/"
        },
        "outputId": "7c6b18b0-7f2d-4cf3-bb18-36ff74b8e03b"
      },
      "source": [
        "history = model.fit(x=train_images, y=train_oh_labels, validation_data=(test_images, test_oh_labels), epochs=30, batch_size=64, callbacks=[checkpoint_cb, reducelr_cb]) "
      ],
      "execution_count": null,
      "outputs": [
        {
          "output_type": "stream",
          "name": "stdout",
          "text": [
            "Epoch 1/30\n",
            "391/391 [==============================] - 14s 33ms/step - loss: 1.6476 - accuracy: 0.3882 - val_loss: 1.5330 - val_accuracy: 0.4737\n",
            "\n",
            "Epoch 00001: val_loss improved from inf to 1.53298, saving model to my_keras_model.h5\n",
            "Epoch 2/30\n",
            "391/391 [==============================] - 13s 33ms/step - loss: 1.1725 - accuracy: 0.5848 - val_loss: 1.0083 - val_accuracy: 0.6450\n",
            "\n",
            "Epoch 00002: val_loss improved from 1.53298 to 1.00827, saving model to my_keras_model.h5\n",
            "Epoch 3/30\n",
            "391/391 [==============================] - 13s 32ms/step - loss: 0.9602 - accuracy: 0.6644 - val_loss: 0.8940 - val_accuracy: 0.7038\n",
            "\n",
            "Epoch 00003: val_loss improved from 1.00827 to 0.89402, saving model to my_keras_model.h5\n",
            "Epoch 4/30\n",
            "391/391 [==============================] - 13s 33ms/step - loss: 0.8451 - accuracy: 0.7068 - val_loss: 0.8012 - val_accuracy: 0.7241\n",
            "\n",
            "Epoch 00004: val_loss improved from 0.89402 to 0.80122, saving model to my_keras_model.h5\n",
            "Epoch 5/30\n",
            "391/391 [==============================] - 13s 32ms/step - loss: 0.7499 - accuracy: 0.7419 - val_loss: 0.9240 - val_accuracy: 0.6817\n",
            "\n",
            "Epoch 00005: val_loss did not improve from 0.80122\n",
            "Epoch 6/30\n",
            "391/391 [==============================] - 13s 32ms/step - loss: 0.6827 - accuracy: 0.7640 - val_loss: 0.7265 - val_accuracy: 0.7527\n",
            "\n",
            "Epoch 00006: val_loss improved from 0.80122 to 0.72646, saving model to my_keras_model.h5\n",
            "Epoch 7/30\n",
            "391/391 [==============================] - 13s 32ms/step - loss: 0.6274 - accuracy: 0.7844 - val_loss: 0.7117 - val_accuracy: 0.7563\n",
            "\n",
            "Epoch 00007: val_loss improved from 0.72646 to 0.71172, saving model to my_keras_model.h5\n",
            "Epoch 8/30\n",
            "391/391 [==============================] - 13s 32ms/step - loss: 0.5839 - accuracy: 0.8002 - val_loss: 0.7149 - val_accuracy: 0.7644\n",
            "\n",
            "Epoch 00008: val_loss did not improve from 0.71172\n",
            "Epoch 9/30\n",
            "391/391 [==============================] - 13s 32ms/step - loss: 0.5383 - accuracy: 0.8154 - val_loss: 0.7128 - val_accuracy: 0.7612\n",
            "\n",
            "Epoch 00009: val_loss did not improve from 0.71172\n",
            "Epoch 10/30\n",
            "391/391 [==============================] - 13s 32ms/step - loss: 0.5083 - accuracy: 0.8259 - val_loss: 0.6595 - val_accuracy: 0.7765\n",
            "\n",
            "Epoch 00010: val_loss improved from 0.71172 to 0.65947, saving model to my_keras_model.h5\n",
            "Epoch 11/30\n",
            "391/391 [==============================] - 13s 32ms/step - loss: 0.4837 - accuracy: 0.8341 - val_loss: 0.6316 - val_accuracy: 0.7940\n",
            "\n",
            "Epoch 00011: val_loss improved from 0.65947 to 0.63162, saving model to my_keras_model.h5\n",
            "Epoch 12/30\n",
            "391/391 [==============================] - 13s 33ms/step - loss: 0.4521 - accuracy: 0.8443 - val_loss: 0.6505 - val_accuracy: 0.7807\n",
            "\n",
            "Epoch 00012: val_loss did not improve from 0.63162\n",
            "Epoch 13/30\n",
            "391/391 [==============================] - 13s 32ms/step - loss: 0.4223 - accuracy: 0.8536 - val_loss: 0.6384 - val_accuracy: 0.7930\n",
            "\n",
            "Epoch 00013: val_loss did not improve from 0.63162\n",
            "Epoch 14/30\n",
            "391/391 [==============================] - 13s 33ms/step - loss: 0.4050 - accuracy: 0.8606 - val_loss: 0.7231 - val_accuracy: 0.7735\n",
            "\n",
            "Epoch 00014: val_loss did not improve from 0.63162\n",
            "Epoch 15/30\n",
            "391/391 [==============================] - 13s 32ms/step - loss: 0.3930 - accuracy: 0.8646 - val_loss: 0.6410 - val_accuracy: 0.7949\n",
            "\n",
            "Epoch 00015: val_loss did not improve from 0.63162\n",
            "Epoch 16/30\n",
            "391/391 [==============================] - 13s 34ms/step - loss: 0.3756 - accuracy: 0.8712 - val_loss: 0.6567 - val_accuracy: 0.7924\n",
            "\n",
            "Epoch 00016: val_loss did not improve from 0.63162\n",
            "\n",
            "Epoch 00016: ReduceLROnPlateau reducing learning rate to 0.00020000000949949026.\n",
            "Epoch 17/30\n",
            "391/391 [==============================] - 13s 32ms/step - loss: 0.2497 - accuracy: 0.9122 - val_loss: 0.6276 - val_accuracy: 0.8193\n",
            "\n",
            "Epoch 00017: val_loss improved from 0.63162 to 0.62761, saving model to my_keras_model.h5\n",
            "Epoch 18/30\n",
            "391/391 [==============================] - 13s 33ms/step - loss: 0.2113 - accuracy: 0.9255 - val_loss: 0.6631 - val_accuracy: 0.8191\n",
            "\n",
            "Epoch 00018: val_loss did not improve from 0.62761\n",
            "Epoch 19/30\n",
            "391/391 [==============================] - 13s 32ms/step - loss: 0.1876 - accuracy: 0.9355 - val_loss: 0.6841 - val_accuracy: 0.8207\n",
            "\n",
            "Epoch 00019: val_loss did not improve from 0.62761\n",
            "Epoch 20/30\n",
            "391/391 [==============================] - 13s 32ms/step - loss: 0.1763 - accuracy: 0.9387 - val_loss: 0.7074 - val_accuracy: 0.8200\n",
            "\n",
            "Epoch 00020: val_loss did not improve from 0.62761\n",
            "Epoch 21/30\n",
            "391/391 [==============================] - 13s 32ms/step - loss: 0.1618 - accuracy: 0.9432 - val_loss: 0.7277 - val_accuracy: 0.8201\n",
            "\n",
            "Epoch 00021: val_loss did not improve from 0.62761\n",
            "Epoch 22/30\n",
            "391/391 [==============================] - 13s 33ms/step - loss: 0.1535 - accuracy: 0.9474 - val_loss: 0.7225 - val_accuracy: 0.8248\n",
            "\n",
            "Epoch 00022: val_loss did not improve from 0.62761\n",
            "\n",
            "Epoch 00022: ReduceLROnPlateau reducing learning rate to 4.0000001899898055e-05.\n",
            "Epoch 23/30\n",
            "391/391 [==============================] - 13s 33ms/step - loss: 0.1268 - accuracy: 0.9557 - val_loss: 0.7413 - val_accuracy: 0.8248\n",
            "\n",
            "Epoch 00023: val_loss did not improve from 0.62761\n",
            "Epoch 24/30\n",
            "391/391 [==============================] - 13s 34ms/step - loss: 0.1210 - accuracy: 0.9573 - val_loss: 0.7606 - val_accuracy: 0.8253\n",
            "\n",
            "Epoch 00024: val_loss did not improve from 0.62761\n",
            "Epoch 25/30\n",
            "391/391 [==============================] - 13s 34ms/step - loss: 0.1161 - accuracy: 0.9592 - val_loss: 0.7666 - val_accuracy: 0.8237\n",
            "\n",
            "Epoch 00025: val_loss did not improve from 0.62761\n",
            "Epoch 26/30\n",
            "391/391 [==============================] - 13s 33ms/step - loss: 0.1123 - accuracy: 0.9603 - val_loss: 0.7775 - val_accuracy: 0.8226\n",
            "\n",
            "Epoch 00026: val_loss did not improve from 0.62761\n",
            "Epoch 27/30\n",
            "391/391 [==============================] - 13s 33ms/step - loss: 0.1110 - accuracy: 0.9610 - val_loss: 0.7798 - val_accuracy: 0.8246\n",
            "\n",
            "Epoch 00027: val_loss did not improve from 0.62761\n",
            "\n",
            "Epoch 00027: ReduceLROnPlateau reducing learning rate to 8.000000525498762e-06.\n",
            "Epoch 28/30\n",
            "391/391 [==============================] - 13s 32ms/step - loss: 0.1030 - accuracy: 0.9634 - val_loss: 0.7817 - val_accuracy: 0.8241\n",
            "\n",
            "Epoch 00028: val_loss did not improve from 0.62761\n",
            "Epoch 29/30\n",
            "391/391 [==============================] - 13s 33ms/step - loss: 0.1032 - accuracy: 0.9642 - val_loss: 0.7863 - val_accuracy: 0.8240\n",
            "\n",
            "Epoch 00029: val_loss did not improve from 0.62761\n",
            "Epoch 30/30\n",
            "391/391 [==============================] - 13s 33ms/step - loss: 0.1065 - accuracy: 0.9624 - val_loss: 0.7871 - val_accuracy: 0.8244\n",
            "\n",
            "Epoch 00030: val_loss did not improve from 0.62761\n"
          ]
        }
      ]
    },
    {
      "cell_type": "code",
      "metadata": {
        "colab": {
          "base_uri": "https://localhost:8080/",
          "height": 283
        },
        "id": "lrwseMBJxXuk",
        "outputId": "4479c2ba-f866-47f4-bf68-557fabbca24d"
      },
      "source": [
        "plt.plot(history.history['accuracy'], label = 'train')\n",
        "plt.plot(history.history['val_accuracy'], label = 'valid')\n",
        "plt.legend()"
      ],
      "execution_count": null,
      "outputs": [
        {
          "output_type": "execute_result",
          "data": {
            "text/plain": [
              "<matplotlib.legend.Legend at 0x7efbb0330310>"
            ]
          },
          "metadata": {},
          "execution_count": 50
        },
        {
          "output_type": "display_data",
          "data": {
            "image/png": "[encoded data removed]",
            "text/plain": [
              "<Figure size 432x288 with 1 Axes>"
            ]
          },
          "metadata": {
            "needs_background": "light"
          }
        }
      ]
    },
    {
      "cell_type": "markdown",
      "metadata": {
        "id": "TQ0rEKQHxajn"
      },
      "source": [
        "## 테이스 데이터에서 검증"
      ]
    },
    {
      "cell_type": "code",
      "metadata": {
        "colab": {
          "base_uri": "https://localhost:8080/"
        },
        "id": "wgZdAjkAl67_",
        "outputId": "13367618-47f0-474e-a28d-b126e4248fdd"
      },
      "source": [
        "predict_proba = model.predict(np.reshape(test_images[0], (-1, 32, 32, 3)))\n",
        "predict = np.argmax(predict_proba, axis=1)\n",
        "predict"
      ],
      "execution_count": null,
      "outputs": [
        {
          "output_type": "execute_result",
          "data": {
            "text/plain": [
              "array([3])"
            ]
          },
          "metadata": {},
          "execution_count": 51
        }
      ]
    },
    {
      "cell_type": "code",
      "metadata": {
        "colab": {
          "base_uri": "https://localhost:8080/"
        },
        "id": "8dC-DwuCmRJd",
        "outputId": "682d0c70-09b3-4b13-c5a2-f82252ca92df"
      },
      "source": [
        "np.argmax(test_oh_labels, axis=1)"
      ],
      "execution_count": null,
      "outputs": [
        {
          "output_type": "execute_result",
          "data": {
            "text/plain": [
              "array([3, 8, 8, ..., 5, 1, 7])"
            ]
          },
          "metadata": {},
          "execution_count": 52
        }
      ]
    },
    {
      "cell_type": "code",
      "metadata": {
        "colab": {
          "base_uri": "https://localhost:8080/"
        },
        "id": "KfMYWjNBm0xm",
        "outputId": "27a2cca6-1545-4878-d0ef-df46998a1904"
      },
      "source": [
        "model.evaluate(test_images, test_oh_labels, batch_size=64, verbose=1)"
      ],
      "execution_count": null,
      "outputs": [
        {
          "output_type": "stream",
          "name": "stdout",
          "text": [
            "157/157 [==============================] - 2s 11ms/step - loss: 0.7871 - accuracy: 0.8244\n"
          ]
        },
        {
          "output_type": "execute_result",
          "data": {
            "text/plain": [
              "[0.7870912551879883, 0.824400007724762]"
            ]
          },
          "metadata": {},
          "execution_count": 49
        }
      ]
    },
    {
      "cell_type": "markdown",
      "metadata": {
        "id": "NrrNC_lY6-Bp"
      },
      "source": [
        "## 필터수, 은닉층 수 증가"
      ]
    },
    {
      "cell_type": "markdown",
      "metadata": {
        "id": "4nDTu-DT7MxM"
      },
      "source": [
        "#### 모델 생성"
      ]
    },
    {
      "cell_type": "code",
      "metadata": {
        "id": "TAfFLDy37LyE"
      },
      "source": [
        "def build_extended_model():\n",
        "  tf.keras.backend.clear_session() #기존에 있던 모델 클리어\n",
        "\n",
        "  input_tensor = Input(shape = (32, 32, 3))\n",
        "  x = Conv2D(filters=32, kernel_size=(3, 3), strides=1, padding='same')(input_tensor)\n",
        "  x = BatchNormalization()(x)\n",
        "  x = Activation('relu')(x)\n",
        "  x = Conv2D(filters=64, kernel_size=(3, 3), strides=1, padding='same')(x) # valid는 패딩 False와 같음\n",
        "  x = BatchNormalization()(x)\n",
        "  x = Activation('relu')(x)\n",
        "  x = MaxPooling2D(pool_size=(2,2))(x)   ## 이런 모양새 하나를 블럭이라고 한다.\n",
        "\n",
        "\n",
        "  x = Conv2D(filters=128, kernel_size=(3, 3), strides=1, padding='same')(x)\n",
        "  x = BatchNormalization()(x)\n",
        "  x = Activation('relu')(x)\n",
        "  x = Conv2D(filters=128, kernel_size=(3, 3), strides=1, padding='same')(x) # valid는 패딩 False와 같음\n",
        "  x = BatchNormalization()(x)\n",
        "  x = Activation('relu')(x)\n",
        "  x = MaxPooling2D(pool_size=(2,2))(x)\n",
        "\n",
        "\n",
        "  x = Conv2D(filters=256, kernel_size=(3, 3), strides=1, padding='same')(x)\n",
        "  x = BatchNormalization()(x)\n",
        "  x = Activation('relu')(x)\n",
        "  x = Conv2D(filters=256, kernel_size=(3, 3), strides=1, padding='same')(x) # valid는 패딩 False와 같음\n",
        "  x = BatchNormalization()(x)\n",
        "  x = Activation('relu')(x)\n",
        "  x = MaxPooling2D(pool_size=(2,2))(x)\n",
        "\n",
        "  x = Conv2D(filters=512, kernel_size=(3, 3), strides=1, padding='same')(x) # valid는 패딩 False와 같음\n",
        "  x = BatchNormalization()(x)\n",
        "  x = Activation('relu')(x)\n",
        "  x = MaxPooling2D(pool_size=(2,2))(x)\n",
        "\n",
        "\n",
        "  #x = Conv2D(filters=256, kernel_size=(2, 2), strides=1, padding='same', activation='relu')(x)\n",
        "  #x = Conv2D(filters=256, kernel_size=(2, 2), strides=1, padding='same', activation='relu')(x) # valid는 패딩 False와 같음\n",
        "  #x = MaxPooling2D(pool_size=(2,2))(x)\n",
        "\n",
        "  print(x.shape)\n",
        "  x = Flatten()(x)\n",
        "  print(x.shape)\n",
        "  x = Dropout(0.5)(x)\n",
        "  x = Dense(300, activation='relu')(x)\n",
        "  x = Dropout(0.3)(x)\n",
        "  x = Dense(100, activation='relu')(x)\n",
        "  x = Dropout(0.3)(x)\n",
        "  output = Dense(10, activation='softmax')(x)\n",
        "\n",
        "  model = Model(inputs=input_tensor, outputs=output)\n",
        "  \n",
        "  return model"
      ],
      "execution_count": null,
      "outputs": []
    },
    {
      "cell_type": "markdown",
      "metadata": {
        "id": "KzPxoVTg9arA"
      },
      "source": [
        "### 모델 생성 및 컴파일"
      ]
    },
    {
      "cell_type": "code",
      "metadata": {
        "colab": {
          "base_uri": "https://localhost:8080/"
        },
        "id": "3A6kkZb38ohO",
        "outputId": "830d4b85-159b-4cdc-b29d-d66f6aeb7079"
      },
      "source": [
        "model = build_extended_model()"
      ],
      "execution_count": null,
      "outputs": [
        {
          "output_type": "stream",
          "name": "stdout",
          "text": [
            "(None, 2, 2, 512)\n",
            "(None, 2048)\n"
          ]
        }
      ]
    },
    {
      "cell_type": "code",
      "metadata": {
        "colab": {
          "base_uri": "https://localhost:8080/"
        },
        "id": "JwSscCel-qx2",
        "outputId": "591b2b08-11f2-4f06-8f6e-fd9d8845644e"
      },
      "source": [
        "model.summary()"
      ],
      "execution_count": null,
      "outputs": [
        {
          "output_type": "stream",
          "name": "stdout",
          "text": [
            "Model: \"model\"\n",
            "_________________________________________________________________\n",
            "Layer (type)                 Output Shape              Param #   \n",
            "=================================================================\n",
            "input_1 (InputLayer)         [(None, 32, 32, 3)]       0         \n",
            "_________________________________________________________________\n",
            "conv2d (Conv2D)              (None, 32, 32, 32)        896       \n",
            "_________________________________________________________________\n",
            "batch_normalization (BatchNo (None, 32, 32, 32)        128       \n",
            "_________________________________________________________________\n",
            "activation (Activation)      (None, 32, 32, 32)        0         \n",
            "_________________________________________________________________\n",
            "conv2d_1 (Conv2D)            (None, 32, 32, 64)        18496     \n",
            "_________________________________________________________________\n",
            "batch_normalization_1 (Batch (None, 32, 32, 64)        256       \n",
            "_________________________________________________________________\n",
            "activation_1 (Activation)    (None, 32, 32, 64)        0         \n",
            "_________________________________________________________________\n",
            "max_pooling2d (MaxPooling2D) (None, 16, 16, 64)        0         \n",
            "_________________________________________________________________\n",
            "conv2d_2 (Conv2D)            (None, 16, 16, 128)       73856     \n",
            "_________________________________________________________________\n",
            "batch_normalization_2 (Batch (None, 16, 16, 128)       512       \n",
            "_________________________________________________________________\n",
            "activation_2 (Activation)    (None, 16, 16, 128)       0         \n",
            "_________________________________________________________________\n",
            "conv2d_3 (Conv2D)            (None, 16, 16, 128)       147584    \n",
            "_________________________________________________________________\n",
            "batch_normalization_3 (Batch (None, 16, 16, 128)       512       \n",
            "_________________________________________________________________\n",
            "activation_3 (Activation)    (None, 16, 16, 128)       0         \n",
            "_________________________________________________________________\n",
            "max_pooling2d_1 (MaxPooling2 (None, 8, 8, 128)         0         \n",
            "_________________________________________________________________\n",
            "conv2d_4 (Conv2D)            (None, 8, 8, 256)         295168    \n",
            "_________________________________________________________________\n",
            "batch_normalization_4 (Batch (None, 8, 8, 256)         1024      \n",
            "_________________________________________________________________\n",
            "activation_4 (Activation)    (None, 8, 8, 256)         0         \n",
            "_________________________________________________________________\n",
            "conv2d_5 (Conv2D)            (None, 8, 8, 256)         590080    \n",
            "_________________________________________________________________\n",
            "batch_normalization_5 (Batch (None, 8, 8, 256)         1024      \n",
            "_________________________________________________________________\n",
            "activation_5 (Activation)    (None, 8, 8, 256)         0         \n",
            "_________________________________________________________________\n",
            "max_pooling2d_2 (MaxPooling2 (None, 4, 4, 256)         0         \n",
            "_________________________________________________________________\n",
            "conv2d_6 (Conv2D)            (None, 4, 4, 512)         1180160   \n",
            "_________________________________________________________________\n",
            "batch_normalization_6 (Batch (None, 4, 4, 512)         2048      \n",
            "_________________________________________________________________\n",
            "activation_6 (Activation)    (None, 4, 4, 512)         0         \n",
            "_________________________________________________________________\n",
            "max_pooling2d_3 (MaxPooling2 (None, 2, 2, 512)         0         \n",
            "_________________________________________________________________\n",
            "flatten (Flatten)            (None, 2048)              0         \n",
            "_________________________________________________________________\n",
            "dropout (Dropout)            (None, 2048)              0         \n",
            "_________________________________________________________________\n",
            "dense (Dense)                (None, 300)               614700    \n",
            "_________________________________________________________________\n",
            "dropout_1 (Dropout)          (None, 300)               0         \n",
            "_________________________________________________________________\n",
            "dense_1 (Dense)              (None, 100)               30100     \n",
            "_________________________________________________________________\n",
            "dropout_2 (Dropout)          (None, 100)               0         \n",
            "_________________________________________________________________\n",
            "dense_2 (Dense)              (None, 10)                1010      \n",
            "=================================================================\n",
            "Total params: 2,957,554\n",
            "Trainable params: 2,954,802\n",
            "Non-trainable params: 2,752\n",
            "_________________________________________________________________\n"
          ]
        }
      ]
    },
    {
      "cell_type": "code",
      "metadata": {
        "id": "JA66M1AT9cZp"
      },
      "source": [
        "model.compile(optimizer=Adam(0.001), loss='categorical_crossentropy', metrics=['accuracy']) "
      ],
      "execution_count": null,
      "outputs": []
    },
    {
      "cell_type": "markdown",
      "metadata": {
        "id": "_KQ9NIkL_Hoq"
      },
      "source": [
        "#### callback정의"
      ]
    },
    {
      "cell_type": "code",
      "metadata": {
        "id": "rD2GWZ2g9yVn"
      },
      "source": [
        "checkpoint_cb = ModelCheckpoint(\"my_keras_model.h5\", save_best_only=True, verbose=1) \n",
        "early_stopping_cb = EarlyStopping(patience=10, restore_best_weights=True)\n",
        "reducelr_cb = ReduceLROnPlateau(monitor='val_loss', factor=0.2, patience=5, mode='min', verbose=1)"
      ],
      "execution_count": null,
      "outputs": []
    },
    {
      "cell_type": "markdown",
      "metadata": {
        "id": "cUuHelC0_RgK"
      },
      "source": [
        "### 모델 학습"
      ]
    },
    {
      "cell_type": "code",
      "metadata": {
        "colab": {
          "base_uri": "https://localhost:8080/"
        },
        "id": "xYkBo9oM-J5Q",
        "outputId": "336d9433-df8f-4d17-bc6f-3a2a8c817215"
      },
      "source": [
        "history = model.fit(x=train_images, y=train_oh_labels, validation_data=(test_images, test_oh_labels), epochs=40, batch_size=32, callbacks=[checkpoint_cb, reducelr_cb]) "
      ],
      "execution_count": null,
      "outputs": [
        {
          "output_type": "stream",
          "name": "stdout",
          "text": [
            "Epoch 1/40\n",
            "1563/1563 [==============================] - 50s 31ms/step - loss: 1.6673 - accuracy: 0.3826 - val_loss: 1.5569 - val_accuracy: 0.4247\n",
            "\n",
            "Epoch 00001: val_loss improved from inf to 1.55687, saving model to my_keras_model.h5\n",
            "Epoch 2/40\n",
            "1563/1563 [==============================] - 47s 30ms/step - loss: 1.1372 - accuracy: 0.6077 - val_loss: 1.1376 - val_accuracy: 0.6145\n",
            "\n",
            "Epoch 00002: val_loss improved from 1.55687 to 1.13758, saving model to my_keras_model.h5\n",
            "Epoch 3/40\n",
            "1563/1563 [==============================] - 47s 30ms/step - loss: 0.9091 - accuracy: 0.6951 - val_loss: 0.9000 - val_accuracy: 0.6973\n",
            "\n",
            "Epoch 00003: val_loss improved from 1.13758 to 0.89999, saving model to my_keras_model.h5\n",
            "Epoch 4/40\n",
            "1563/1563 [==============================] - 47s 30ms/step - loss: 0.7609 - accuracy: 0.7479 - val_loss: 0.7147 - val_accuracy: 0.7615\n",
            "\n",
            "Epoch 00004: val_loss improved from 0.89999 to 0.71466, saving model to my_keras_model.h5\n",
            "Epoch 5/40\n",
            "1563/1563 [==============================] - 47s 30ms/step - loss: 0.6520 - accuracy: 0.7888 - val_loss: 0.7699 - val_accuracy: 0.7482\n",
            "\n",
            "Epoch 00005: val_loss did not improve from 0.71466\n",
            "Epoch 6/40\n",
            "1563/1563 [==============================] - 47s 30ms/step - loss: 0.5653 - accuracy: 0.8165 - val_loss: 0.6332 - val_accuracy: 0.7964\n",
            "\n",
            "Epoch 00006: val_loss improved from 0.71466 to 0.63316, saving model to my_keras_model.h5\n",
            "Epoch 7/40\n",
            "1563/1563 [==============================] - 47s 30ms/step - loss: 0.4920 - accuracy: 0.8397 - val_loss: 0.6382 - val_accuracy: 0.7915\n",
            "\n",
            "Epoch 00007: val_loss did not improve from 0.63316\n",
            "Epoch 8/40\n",
            "1563/1563 [==============================] - 49s 31ms/step - loss: 0.4311 - accuracy: 0.8613 - val_loss: 0.7049 - val_accuracy: 0.7636\n",
            "\n",
            "Epoch 00008: val_loss did not improve from 0.63316\n",
            "Epoch 9/40\n",
            "1563/1563 [==============================] - 47s 30ms/step - loss: 0.3751 - accuracy: 0.8800 - val_loss: 0.6329 - val_accuracy: 0.7954\n",
            "\n",
            "Epoch 00009: val_loss improved from 0.63316 to 0.63294, saving model to my_keras_model.h5\n",
            "Epoch 10/40\n",
            "1563/1563 [==============================] - 47s 30ms/step - loss: 0.3248 - accuracy: 0.8959 - val_loss: 0.6150 - val_accuracy: 0.8010\n",
            "\n",
            "Epoch 00010: val_loss improved from 0.63294 to 0.61497, saving model to my_keras_model.h5\n",
            "Epoch 11/40\n",
            "1563/1563 [==============================] - 47s 30ms/step - loss: 0.2902 - accuracy: 0.9079 - val_loss: 0.5459 - val_accuracy: 0.8390\n",
            "\n",
            "Epoch 00011: val_loss improved from 0.61497 to 0.54588, saving model to my_keras_model.h5\n",
            "Epoch 12/40\n",
            "1563/1563 [==============================] - 47s 30ms/step - loss: 0.2500 - accuracy: 0.9210 - val_loss: 0.6237 - val_accuracy: 0.8174\n",
            "\n",
            "Epoch 00012: val_loss did not improve from 0.54588\n",
            "Epoch 13/40\n",
            "1563/1563 [==============================] - 47s 30ms/step - loss: 0.2278 - accuracy: 0.9286 - val_loss: 0.7455 - val_accuracy: 0.7886\n",
            "\n",
            "Epoch 00013: val_loss did not improve from 0.54588\n",
            "Epoch 14/40\n",
            "1563/1563 [==============================] - 47s 30ms/step - loss: 0.1985 - accuracy: 0.9386 - val_loss: 0.6982 - val_accuracy: 0.8329\n",
            "\n",
            "Epoch 00014: val_loss did not improve from 0.54588\n",
            "Epoch 15/40\n",
            "1563/1563 [==============================] - 47s 30ms/step - loss: 0.1785 - accuracy: 0.9449 - val_loss: 0.6521 - val_accuracy: 0.8266\n",
            "\n",
            "Epoch 00015: val_loss did not improve from 0.54588\n",
            "Epoch 16/40\n",
            "1563/1563 [==============================] - 47s 30ms/step - loss: 0.1577 - accuracy: 0.9515 - val_loss: 0.6140 - val_accuracy: 0.8232\n",
            "\n",
            "Epoch 00016: val_loss did not improve from 0.54588\n",
            "\n",
            "Epoch 00016: ReduceLROnPlateau reducing learning rate to 0.00020000000949949026.\n",
            "Epoch 17/40\n",
            "1563/1563 [==============================] - 47s 30ms/step - loss: 0.0783 - accuracy: 0.9768 - val_loss: 0.5350 - val_accuracy: 0.8747\n",
            "\n",
            "Epoch 00017: val_loss improved from 0.54588 to 0.53497, saving model to my_keras_model.h5\n",
            "Epoch 18/40\n",
            "1563/1563 [==============================] - 47s 30ms/step - loss: 0.0510 - accuracy: 0.9842 - val_loss: 0.6276 - val_accuracy: 0.8733\n",
            "\n",
            "Epoch 00018: val_loss did not improve from 0.53497\n",
            "Epoch 19/40\n",
            "1563/1563 [==============================] - 47s 30ms/step - loss: 0.0406 - accuracy: 0.9879 - val_loss: 0.7091 - val_accuracy: 0.8711\n",
            "\n",
            "Epoch 00019: val_loss did not improve from 0.53497\n",
            "Epoch 20/40\n",
            "1563/1563 [==============================] - 47s 30ms/step - loss: 0.0312 - accuracy: 0.9904 - val_loss: 0.7133 - val_accuracy: 0.8767\n",
            "\n",
            "Epoch 00020: val_loss did not improve from 0.53497\n",
            "Epoch 21/40\n",
            "1563/1563 [==============================] - 47s 30ms/step - loss: 0.0289 - accuracy: 0.9911 - val_loss: 0.7405 - val_accuracy: 0.8734\n",
            "\n",
            "Epoch 00021: val_loss did not improve from 0.53497\n",
            "Epoch 22/40\n",
            "1563/1563 [==============================] - 47s 30ms/step - loss: 0.0247 - accuracy: 0.9924 - val_loss: 0.8175 - val_accuracy: 0.8713\n",
            "\n",
            "Epoch 00022: val_loss did not improve from 0.53497\n",
            "\n",
            "Epoch 00022: ReduceLROnPlateau reducing learning rate to 4.0000001899898055e-05.\n",
            "Epoch 23/40\n",
            "1563/1563 [==============================] - 49s 32ms/step - loss: 0.0169 - accuracy: 0.9948 - val_loss: 0.7767 - val_accuracy: 0.8782\n",
            "\n",
            "Epoch 00023: val_loss did not improve from 0.53497\n",
            "Epoch 24/40\n",
            "1563/1563 [==============================] - 47s 30ms/step - loss: 0.0127 - accuracy: 0.9962 - val_loss: 0.8093 - val_accuracy: 0.8788\n",
            "\n",
            "Epoch 00024: val_loss did not improve from 0.53497\n",
            "Epoch 25/40\n",
            "1563/1563 [==============================] - 47s 30ms/step - loss: 0.0128 - accuracy: 0.9964 - val_loss: 0.8615 - val_accuracy: 0.8792\n",
            "\n",
            "Epoch 00025: val_loss did not improve from 0.53497\n",
            "Epoch 26/40\n",
            "1563/1563 [==============================] - 47s 30ms/step - loss: 0.0107 - accuracy: 0.9967 - val_loss: 0.8733 - val_accuracy: 0.8793\n",
            "\n",
            "Epoch 00026: val_loss did not improve from 0.53497\n",
            "Epoch 27/40\n",
            "1563/1563 [==============================] - 47s 30ms/step - loss: 0.0100 - accuracy: 0.9969 - val_loss: 0.8904 - val_accuracy: 0.8802\n",
            "\n",
            "Epoch 00027: val_loss did not improve from 0.53497\n",
            "\n",
            "Epoch 00027: ReduceLROnPlateau reducing learning rate to 8.000000525498762e-06.\n",
            "Epoch 28/40\n",
            "1563/1563 [==============================] - 47s 30ms/step - loss: 0.0090 - accuracy: 0.9973 - val_loss: 0.8902 - val_accuracy: 0.8804\n",
            "\n",
            "Epoch 00028: val_loss did not improve from 0.53497\n",
            "Epoch 29/40\n",
            "1563/1563 [==============================] - 47s 30ms/step - loss: 0.0087 - accuracy: 0.9973 - val_loss: 0.8889 - val_accuracy: 0.8805\n",
            "\n",
            "Epoch 00029: val_loss did not improve from 0.53497\n",
            "Epoch 30/40\n",
            "1563/1563 [==============================] - 47s 30ms/step - loss: 0.0078 - accuracy: 0.9976 - val_loss: 0.8867 - val_accuracy: 0.8808\n",
            "\n",
            "Epoch 00030: val_loss did not improve from 0.53497\n",
            "Epoch 31/40\n",
            "1563/1563 [==============================] - 47s 30ms/step - loss: 0.0090 - accuracy: 0.9969 - val_loss: 0.8914 - val_accuracy: 0.8815\n",
            "\n",
            "Epoch 00031: val_loss did not improve from 0.53497\n",
            "Epoch 32/40\n",
            "1563/1563 [==============================] - 47s 30ms/step - loss: 0.0081 - accuracy: 0.9973 - val_loss: 0.9101 - val_accuracy: 0.8814\n",
            "\n",
            "Epoch 00032: val_loss did not improve from 0.53497\n",
            "\n",
            "Epoch 00032: ReduceLROnPlateau reducing learning rate to 1.6000001778593287e-06.\n",
            "Epoch 33/40\n",
            "1563/1563 [==============================] - 50s 32ms/step - loss: 0.0068 - accuracy: 0.9978 - val_loss: 0.9094 - val_accuracy: 0.8810\n",
            "\n",
            "Epoch 00033: val_loss did not improve from 0.53497\n",
            "Epoch 34/40\n",
            "1563/1563 [==============================] - 47s 30ms/step - loss: 0.0068 - accuracy: 0.9978 - val_loss: 0.9111 - val_accuracy: 0.8816\n",
            "\n",
            "Epoch 00034: val_loss did not improve from 0.53497\n",
            "Epoch 35/40\n",
            "1563/1563 [==============================] - 50s 32ms/step - loss: 0.0074 - accuracy: 0.9975 - val_loss: 0.9184 - val_accuracy: 0.8810\n",
            "\n",
            "Epoch 00035: val_loss did not improve from 0.53497\n",
            "Epoch 36/40\n",
            "1563/1563 [==============================] - 47s 30ms/step - loss: 0.0079 - accuracy: 0.9976 - val_loss: 0.9131 - val_accuracy: 0.8814\n",
            "\n",
            "Epoch 00036: val_loss did not improve from 0.53497\n",
            "Epoch 37/40\n",
            "1563/1563 [==============================] - 47s 30ms/step - loss: 0.0079 - accuracy: 0.9977 - val_loss: 0.9173 - val_accuracy: 0.8812\n",
            "\n",
            "Epoch 00037: val_loss did not improve from 0.53497\n",
            "\n",
            "Epoch 00037: ReduceLROnPlateau reducing learning rate to 3.200000264769187e-07.\n",
            "Epoch 38/40\n",
            "1563/1563 [==============================] - 47s 30ms/step - loss: 0.0079 - accuracy: 0.9974 - val_loss: 0.9112 - val_accuracy: 0.8812\n",
            "\n",
            "Epoch 00038: val_loss did not improve from 0.53497\n",
            "Epoch 39/40\n",
            "1563/1563 [==============================] - 47s 30ms/step - loss: 0.0073 - accuracy: 0.9976 - val_loss: 0.9157 - val_accuracy: 0.8808\n",
            "\n",
            "Epoch 00039: val_loss did not improve from 0.53497\n",
            "Epoch 40/40\n",
            "1563/1563 [==============================] - 47s 30ms/step - loss: 0.0072 - accuracy: 0.9978 - val_loss: 0.9227 - val_accuracy: 0.8813\n",
            "\n",
            "Epoch 00040: val_loss did not improve from 0.53497\n"
          ]
        }
      ]
    },
    {
      "cell_type": "code",
      "metadata": {
        "colab": {
          "base_uri": "https://localhost:8080/",
          "height": 283
        },
        "id": "UvC7BwxD_Uie",
        "outputId": "b1e89e23-80a4-4c0f-e109-eeccb20b85e4"
      },
      "source": [
        "plt.plot(history.history['accuracy'], label = 'train')\n",
        "plt.plot(history.history['val_accuracy'], label = 'valid')\n",
        "plt.legend()"
      ],
      "execution_count": null,
      "outputs": [
        {
          "output_type": "execute_result",
          "data": {
            "text/plain": [
              "<matplotlib.legend.Legend at 0x7efb18055f10>"
            ]
          },
          "metadata": {},
          "execution_count": 74
        },
        {
          "output_type": "display_data",
          "data": {
            "image/png": "[encoded data removed]",
            "text/plain": [
              "<Figure size 432x288 with 1 Axes>"
            ]
          },
          "metadata": {
            "needs_background": "light"
          }
        }
      ]
    },
    {
      "cell_type": "markdown",
      "metadata": {
        "id": "Y0CRqkB8AahN"
      },
      "source": [
        "### 테스트 에서 평가"
      ]
    },
    {
      "cell_type": "code",
      "metadata": {
        "colab": {
          "base_uri": "https://localhost:8080/"
        },
        "id": "84_lcJGjAb1l",
        "outputId": "617fa2c8-92c4-4ed9-c7ed-fc18ef1249c0"
      },
      "source": [
        "model.evaluate(test_images, test_oh_labels, batch_size=64, verbose=1)"
      ],
      "execution_count": null,
      "outputs": [
        {
          "output_type": "stream",
          "name": "stdout",
          "text": [
            "157/157 [==============================] - 3s 15ms/step - loss: 0.9227 - accuracy: 0.8813\n"
          ]
        },
        {
          "output_type": "execute_result",
          "data": {
            "text/plain": [
              "[0.9226551651954651, 0.8812999725341797]"
            ]
          },
          "metadata": {},
          "execution_count": 75
        }
      ]
    },
    {
      "cell_type": "code",
      "metadata": {
        "id": "i_eYNxbiKaOY"
      },
      "source": [
        ""
      ],
      "execution_count": null,
      "outputs": []
    },
    {
      "cell_type": "markdown",
      "metadata": {
        "id": "fXH_g-r8KcX3"
      },
      "source": [
        "# global Average Pooling"
      ]
    },
    {
      "cell_type": "markdown",
      "metadata": {
        "id": "7z3uFGKTKaY5"
      },
      "source": [
        "#### 모델 생성"
      ]
    },
    {
      "cell_type": "code",
      "metadata": {
        "id": "hjT-afUaK_Gb"
      },
      "source": [
        "from tensorflow.keras.layers import Input, Conv2D, MaxPooling2D, Dropout, MaxPooling3D, BatchNormalization, Activation, GlobalAveragePooling2D"
      ],
      "execution_count": null,
      "outputs": []
    },
    {
      "cell_type": "code",
      "metadata": {
        "id": "3tKG0G7MKaY5"
      },
      "source": [
        "def build_extended_gap_model():\n",
        "  tf.keras.backend.clear_session() #기존에 있던 모델 클리어\n",
        "\n",
        "  input_tensor = Input(shape = (32, 32, 3))\n",
        "  x = Conv2D(filters=32, kernel_size=(3, 3), strides=1, padding='same')(input_tensor)\n",
        "  x = BatchNormalization()(x)\n",
        "  x = Activation('relu')(x)\n",
        "  x = Conv2D(filters=64, kernel_size=(3, 3), strides=1, padding='same')(x) # valid는 패딩 False와 같음\n",
        "  x = BatchNormalization()(x)\n",
        "  x = Activation('relu')(x)\n",
        "  #x = MaxPooling2D(pool_size=(2,2))(x)\n",
        "\n",
        "\n",
        "  x = Conv2D(filters=128, kernel_size=(3, 3), strides=1, padding='same')(x)\n",
        "  x = BatchNormalization()(x)\n",
        "  x = Activation('relu')(x)\n",
        "  x = Conv2D(filters=128, kernel_size=(3, 3), strides=1, padding='same')(x) # valid는 패딩 False와 같음\n",
        "  x = BatchNormalization()(x)\n",
        "  x = Activation('relu')(x)\n",
        "  x = MaxPooling2D(pool_size=(2,2))(x)\n",
        "\n",
        "\n",
        "  x = Conv2D(filters=256, kernel_size=(3, 3), strides=1, padding='same')(x)\n",
        "  x = BatchNormalization()(x)\n",
        "  x = Activation('relu')(x)\n",
        "  x = Conv2D(filters=256, kernel_size=(3, 3), strides=1, padding='same')(x) # valid는 패딩 False와 같음\n",
        "  x = BatchNormalization()(x)\n",
        "  x = Activation('relu')(x)\n",
        "  x = MaxPooling2D(pool_size=(2,2))(x)\n",
        "\n",
        "  x = Conv2D(filters=512, kernel_size=(3, 3), strides=1, padding='same')(x) # valid는 패딩 False와 같음\n",
        "  x = BatchNormalization()(x)\n",
        "  x = Activation('relu')(x)\n",
        "  x = MaxPooling2D(pool_size=(2,2))(x)\n",
        "\n",
        "  #x = Flatten()(x)\n",
        "  x = GlobalAveragePooling2D()(x)\n",
        "  x = Dropout(0.5)(x)\n",
        "  x = Dense(300, activation='relu')(x)\n",
        "  x = Dropout(0.3)(x)\n",
        "  x = Dense(100, activation='relu')(x)\n",
        "  x = Dropout(0.3)(x)\n",
        "  output = Dense(10, activation='softmax')(x)\n",
        "\n",
        "  model = Model(inputs=input_tensor, outputs=output)\n",
        "  \n",
        "  return model"
      ],
      "execution_count": null,
      "outputs": []
    },
    {
      "cell_type": "markdown",
      "metadata": {
        "id": "yYIKFir_KaY6"
      },
      "source": [
        "### 모델 생성 및 컴파일"
      ]
    },
    {
      "cell_type": "code",
      "metadata": {
        "id": "O130TvdmKaY6"
      },
      "source": [
        "model = build_extended_gap_model()"
      ],
      "execution_count": null,
      "outputs": []
    },
    {
      "cell_type": "code",
      "metadata": {
        "colab": {
          "base_uri": "https://localhost:8080/"
        },
        "id": "YY9eE3IAKaY7",
        "outputId": "05ff39c4-63ce-405e-bea3-634aaf014b0b"
      },
      "source": [
        "model.summary() #global_average_pooling2d (Gl (None, 512) 이런 모습임을 알 수 있다.   params 또한 50만개 가까이 줄었다."
      ],
      "execution_count": null,
      "outputs": [
        {
          "output_type": "stream",
          "name": "stdout",
          "text": [
            "Model: \"model\"\n",
            "_________________________________________________________________\n",
            "Layer (type)                 Output Shape              Param #   \n",
            "=================================================================\n",
            "input_1 (InputLayer)         [(None, 32, 32, 3)]       0         \n",
            "_________________________________________________________________\n",
            "conv2d (Conv2D)              (None, 32, 32, 32)        896       \n",
            "_________________________________________________________________\n",
            "batch_normalization (BatchNo (None, 32, 32, 32)        128       \n",
            "_________________________________________________________________\n",
            "activation (Activation)      (None, 32, 32, 32)        0         \n",
            "_________________________________________________________________\n",
            "conv2d_1 (Conv2D)            (None, 32, 32, 64)        18496     \n",
            "_________________________________________________________________\n",
            "batch_normalization_1 (Batch (None, 32, 32, 64)        256       \n",
            "_________________________________________________________________\n",
            "activation_1 (Activation)    (None, 32, 32, 64)        0         \n",
            "_________________________________________________________________\n",
            "conv2d_2 (Conv2D)            (None, 32, 32, 128)       73856     \n",
            "_________________________________________________________________\n",
            "batch_normalization_2 (Batch (None, 32, 32, 128)       512       \n",
            "_________________________________________________________________\n",
            "activation_2 (Activation)    (None, 32, 32, 128)       0         \n",
            "_________________________________________________________________\n",
            "conv2d_3 (Conv2D)            (None, 32, 32, 128)       147584    \n",
            "_________________________________________________________________\n",
            "batch_normalization_3 (Batch (None, 32, 32, 128)       512       \n",
            "_________________________________________________________________\n",
            "activation_3 (Activation)    (None, 32, 32, 128)       0         \n",
            "_________________________________________________________________\n",
            "max_pooling2d (MaxPooling2D) (None, 16, 16, 128)       0         \n",
            "_________________________________________________________________\n",
            "conv2d_4 (Conv2D)            (None, 16, 16, 256)       295168    \n",
            "_________________________________________________________________\n",
            "batch_normalization_4 (Batch (None, 16, 16, 256)       1024      \n",
            "_________________________________________________________________\n",
            "activation_4 (Activation)    (None, 16, 16, 256)       0         \n",
            "_________________________________________________________________\n",
            "conv2d_5 (Conv2D)            (None, 16, 16, 256)       590080    \n",
            "_________________________________________________________________\n",
            "batch_normalization_5 (Batch (None, 16, 16, 256)       1024      \n",
            "_________________________________________________________________\n",
            "activation_5 (Activation)    (None, 16, 16, 256)       0         \n",
            "_________________________________________________________________\n",
            "max_pooling2d_1 (MaxPooling2 (None, 8, 8, 256)         0         \n",
            "_________________________________________________________________\n",
            "conv2d_6 (Conv2D)            (None, 8, 8, 512)         1180160   \n",
            "_________________________________________________________________\n",
            "batch_normalization_6 (Batch (None, 8, 8, 512)         2048      \n",
            "_________________________________________________________________\n",
            "activation_6 (Activation)    (None, 8, 8, 512)         0         \n",
            "_________________________________________________________________\n",
            "max_pooling2d_2 (MaxPooling2 (None, 4, 4, 512)         0         \n",
            "_________________________________________________________________\n",
            "global_average_pooling2d (Gl (None, 512)               0         \n",
            "_________________________________________________________________\n",
            "dropout (Dropout)            (None, 512)               0         \n",
            "_________________________________________________________________\n",
            "dense (Dense)                (None, 300)               153900    \n",
            "_________________________________________________________________\n",
            "dropout_1 (Dropout)          (None, 300)               0         \n",
            "_________________________________________________________________\n",
            "dense_1 (Dense)              (None, 100)               30100     \n",
            "_________________________________________________________________\n",
            "dropout_2 (Dropout)          (None, 100)               0         \n",
            "_________________________________________________________________\n",
            "dense_2 (Dense)              (None, 10)                1010      \n",
            "=================================================================\n",
            "Total params: 2,496,754\n",
            "Trainable params: 2,494,002\n",
            "Non-trainable params: 2,752\n",
            "_________________________________________________________________\n"
          ]
        }
      ]
    },
    {
      "cell_type": "code",
      "metadata": {
        "id": "e_CT8sZGKaY8"
      },
      "source": [
        "model.compile(optimizer=Adam(0.001), loss='categorical_crossentropy', metrics=['accuracy']) "
      ],
      "execution_count": null,
      "outputs": []
    },
    {
      "cell_type": "markdown",
      "metadata": {
        "id": "HQ6YUZMQKaY8"
      },
      "source": [
        "#### callback정의"
      ]
    },
    {
      "cell_type": "code",
      "metadata": {
        "id": "EBMlgfcaKaY8"
      },
      "source": [
        "checkpoint_cb = ModelCheckpoint(\"my_keras_model.h5\", save_best_only=True, verbose=1) \n",
        "early_stopping_cb = EarlyStopping(patience=10, restore_best_weights=True)\n",
        "reducelr_cb = ReduceLROnPlateau(monitor='val_loss', factor=0.2, patience=5, mode='min', verbose=1)"
      ],
      "execution_count": null,
      "outputs": []
    },
    {
      "cell_type": "markdown",
      "metadata": {
        "id": "hwDsX0q2KaY9"
      },
      "source": [
        "### 모델 학습"
      ]
    },
    {
      "cell_type": "code",
      "metadata": {
        "colab": {
          "base_uri": "https://localhost:8080/"
        },
        "id": "Ngv0YCNuKaY9",
        "outputId": "60cebe68-df2e-4a57-ccda-ccfb16479a37"
      },
      "source": [
        "history = model.fit(x=train_images, y=train_oh_labels, validation_data=(test_images, test_oh_labels), epochs=40, batch_size=32, callbacks=[checkpoint_cb, reducelr_cb]) "
      ],
      "execution_count": null,
      "outputs": [
        {
          "output_type": "stream",
          "name": "stdout",
          "text": [
            "Epoch 1/40\n",
            "1563/1563 [==============================] - 86s 54ms/step - loss: 1.6369 - accuracy: 0.3806 - val_loss: 1.5325 - val_accuracy: 0.4237\n",
            "\n",
            "Epoch 00001: val_loss improved from inf to 1.53254, saving model to my_keras_model.h5\n",
            "Epoch 2/40\n",
            "1563/1563 [==============================] - 84s 54ms/step - loss: 1.2322 - accuracy: 0.5595 - val_loss: 1.6464 - val_accuracy: 0.4575\n",
            "\n",
            "Epoch 00002: val_loss did not improve from 1.53254\n",
            "Epoch 3/40\n",
            "1563/1563 [==============================] - 84s 54ms/step - loss: 1.0236 - accuracy: 0.6413 - val_loss: 1.6955 - val_accuracy: 0.4608\n",
            "\n",
            "Epoch 00003: val_loss did not improve from 1.53254\n",
            "Epoch 4/40\n",
            "1563/1563 [==============================] - 83s 53ms/step - loss: 0.8876 - accuracy: 0.6963 - val_loss: 1.2194 - val_accuracy: 0.5940\n",
            "\n",
            "Epoch 00004: val_loss improved from 1.53254 to 1.21937, saving model to my_keras_model.h5\n",
            "Epoch 5/40\n",
            "1563/1563 [==============================] - 83s 53ms/step - loss: 0.7785 - accuracy: 0.7334 - val_loss: 1.1355 - val_accuracy: 0.6165\n",
            "\n",
            "Epoch 00005: val_loss improved from 1.21937 to 1.13547, saving model to my_keras_model.h5\n",
            "Epoch 6/40\n",
            "1563/1563 [==============================] - 84s 54ms/step - loss: 0.6773 - accuracy: 0.7720 - val_loss: 1.1353 - val_accuracy: 0.6414\n",
            "\n",
            "Epoch 00006: val_loss improved from 1.13547 to 1.13530, saving model to my_keras_model.h5\n",
            "Epoch 7/40\n",
            "1563/1563 [==============================] - 84s 53ms/step - loss: 0.5960 - accuracy: 0.8025 - val_loss: 0.6286 - val_accuracy: 0.7839\n",
            "\n",
            "Epoch 00007: val_loss improved from 1.13530 to 0.62860, saving model to my_keras_model.h5\n",
            "Epoch 8/40\n",
            "1563/1563 [==============================] - 83s 53ms/step - loss: 0.5234 - accuracy: 0.8268 - val_loss: 0.8939 - val_accuracy: 0.7099\n",
            "\n",
            "Epoch 00008: val_loss did not improve from 0.62860\n",
            "Epoch 9/40\n",
            "1563/1563 [==============================] - 83s 53ms/step - loss: 0.4614 - accuracy: 0.8498 - val_loss: 0.6874 - val_accuracy: 0.7813\n",
            "\n",
            "Epoch 00009: val_loss did not improve from 0.62860\n",
            "Epoch 10/40\n",
            "1563/1563 [==============================] - 83s 53ms/step - loss: 0.4075 - accuracy: 0.8671 - val_loss: 0.7114 - val_accuracy: 0.7572\n",
            "\n",
            "Epoch 00010: val_loss did not improve from 0.62860\n",
            "Epoch 11/40\n",
            "1563/1563 [==============================] - 83s 53ms/step - loss: 0.3633 - accuracy: 0.8805 - val_loss: 0.7982 - val_accuracy: 0.7671\n",
            "\n",
            "Epoch 00011: val_loss did not improve from 0.62860\n",
            "Epoch 12/40\n",
            "1563/1563 [==============================] - 83s 53ms/step - loss: 0.3149 - accuracy: 0.8968 - val_loss: 0.7232 - val_accuracy: 0.7820\n",
            "\n",
            "Epoch 00012: val_loss did not improve from 0.62860\n",
            "\n",
            "Epoch 00012: ReduceLROnPlateau reducing learning rate to 0.00020000000949949026.\n",
            "Epoch 13/40\n",
            "1563/1563 [==============================] - 83s 53ms/step - loss: 0.1835 - accuracy: 0.9402 - val_loss: 0.4436 - val_accuracy: 0.8709\n",
            "\n",
            "Epoch 00013: val_loss improved from 0.62860 to 0.44356, saving model to my_keras_model.h5\n",
            "Epoch 14/40\n",
            "1563/1563 [==============================] - 84s 54ms/step - loss: 0.1410 - accuracy: 0.9529 - val_loss: 0.4731 - val_accuracy: 0.8690\n",
            "\n",
            "Epoch 00014: val_loss did not improve from 0.44356\n",
            "Epoch 15/40\n",
            "1563/1563 [==============================] - 83s 53ms/step - loss: 0.1231 - accuracy: 0.9601 - val_loss: 0.4929 - val_accuracy: 0.8724\n",
            "\n",
            "Epoch 00015: val_loss did not improve from 0.44356\n",
            "Epoch 16/40\n",
            "1563/1563 [==============================] - 83s 53ms/step - loss: 0.1064 - accuracy: 0.9660 - val_loss: 0.4923 - val_accuracy: 0.8742\n",
            "\n",
            "Epoch 00016: val_loss did not improve from 0.44356\n",
            "Epoch 17/40\n",
            "1563/1563 [==============================] - 84s 54ms/step - loss: 0.0947 - accuracy: 0.9692 - val_loss: 0.6363 - val_accuracy: 0.8523\n",
            "\n",
            "Epoch 00017: val_loss did not improve from 0.44356\n",
            "Epoch 18/40\n",
            "1563/1563 [==============================] - 83s 53ms/step - loss: 0.0829 - accuracy: 0.9729 - val_loss: 0.5421 - val_accuracy: 0.8716\n",
            "\n",
            "Epoch 00018: val_loss did not improve from 0.44356\n",
            "\n",
            "Epoch 00018: ReduceLROnPlateau reducing learning rate to 4.0000001899898055e-05.\n",
            "Epoch 19/40\n",
            "1563/1563 [==============================] - 83s 53ms/step - loss: 0.0585 - accuracy: 0.9813 - val_loss: 0.5189 - val_accuracy: 0.8799\n",
            "\n",
            "Epoch 00019: val_loss did not improve from 0.44356\n",
            "Epoch 20/40\n",
            "1563/1563 [==============================] - 84s 53ms/step - loss: 0.0520 - accuracy: 0.9831 - val_loss: 0.5368 - val_accuracy: 0.8807\n",
            "\n",
            "Epoch 00020: val_loss did not improve from 0.44356\n",
            "Epoch 21/40\n",
            "1563/1563 [==============================] - 84s 54ms/step - loss: 0.0467 - accuracy: 0.9844 - val_loss: 0.5512 - val_accuracy: 0.8796\n",
            "\n",
            "Epoch 00021: val_loss did not improve from 0.44356\n",
            "Epoch 22/40\n",
            "1563/1563 [==============================] - 83s 53ms/step - loss: 0.0470 - accuracy: 0.9844 - val_loss: 0.5574 - val_accuracy: 0.8784\n",
            "\n",
            "Epoch 00022: val_loss did not improve from 0.44356\n",
            "Epoch 23/40\n",
            "1563/1563 [==============================] - 84s 54ms/step - loss: 0.0414 - accuracy: 0.9870 - val_loss: 0.5670 - val_accuracy: 0.8794\n",
            "\n",
            "Epoch 00023: val_loss did not improve from 0.44356\n",
            "\n",
            "Epoch 00023: ReduceLROnPlateau reducing learning rate to 8.000000525498762e-06.\n",
            "Epoch 24/40\n",
            "1563/1563 [==============================] - 84s 53ms/step - loss: 0.0394 - accuracy: 0.9877 - val_loss: 0.5610 - val_accuracy: 0.8815\n",
            "\n",
            "Epoch 00024: val_loss did not improve from 0.44356\n",
            "Epoch 25/40\n",
            "1563/1563 [==============================] - 83s 53ms/step - loss: 0.0385 - accuracy: 0.9874 - val_loss: 0.5678 - val_accuracy: 0.8799\n",
            "\n",
            "Epoch 00025: val_loss did not improve from 0.44356\n",
            "Epoch 26/40\n",
            "1563/1563 [==============================] - 84s 53ms/step - loss: 0.0374 - accuracy: 0.9885 - val_loss: 0.5740 - val_accuracy: 0.8803\n",
            "\n",
            "Epoch 00026: val_loss did not improve from 0.44356\n",
            "Epoch 27/40\n",
            "1563/1563 [==============================] - 83s 53ms/step - loss: 0.0366 - accuracy: 0.9881 - val_loss: 0.5736 - val_accuracy: 0.8806\n",
            "\n",
            "Epoch 00027: val_loss did not improve from 0.44356\n",
            "Epoch 28/40\n",
            "1563/1563 [==============================] - 84s 53ms/step - loss: 0.0351 - accuracy: 0.9886 - val_loss: 0.5812 - val_accuracy: 0.8806\n",
            "\n",
            "Epoch 00028: val_loss did not improve from 0.44356\n",
            "\n",
            "Epoch 00028: ReduceLROnPlateau reducing learning rate to 1.6000001778593287e-06.\n",
            "Epoch 29/40\n",
            "1563/1563 [==============================] - 84s 54ms/step - loss: 0.0337 - accuracy: 0.9895 - val_loss: 0.5799 - val_accuracy: 0.8807\n",
            "\n",
            "Epoch 00029: val_loss did not improve from 0.44356\n",
            "Epoch 30/40\n",
            "1563/1563 [==============================] - 83s 53ms/step - loss: 0.0339 - accuracy: 0.9893 - val_loss: 0.5829 - val_accuracy: 0.8810\n",
            "\n",
            "Epoch 00030: val_loss did not improve from 0.44356\n",
            "Epoch 31/40\n",
            "1563/1563 [==============================] - 83s 53ms/step - loss: 0.0363 - accuracy: 0.9887 - val_loss: 0.5807 - val_accuracy: 0.8799\n",
            "\n",
            "Epoch 00031: val_loss did not improve from 0.44356\n",
            "Epoch 32/40\n",
            "1563/1563 [==============================] - 83s 53ms/step - loss: 0.0355 - accuracy: 0.9880 - val_loss: 0.5829 - val_accuracy: 0.8807\n",
            "\n",
            "Epoch 00032: val_loss did not improve from 0.44356\n",
            "Epoch 33/40\n",
            "1563/1563 [==============================] - 83s 53ms/step - loss: 0.0354 - accuracy: 0.9891 - val_loss: 0.5838 - val_accuracy: 0.8798\n",
            "\n",
            "Epoch 00033: val_loss did not improve from 0.44356\n",
            "\n",
            "Epoch 00033: ReduceLROnPlateau reducing learning rate to 3.200000264769187e-07.\n",
            "Epoch 34/40\n",
            "1563/1563 [==============================] - 83s 53ms/step - loss: 0.0341 - accuracy: 0.9890 - val_loss: 0.5828 - val_accuracy: 0.8805\n",
            "\n",
            "Epoch 00034: val_loss did not improve from 0.44356\n",
            "Epoch 35/40\n",
            "1563/1563 [==============================] - 83s 53ms/step - loss: 0.0334 - accuracy: 0.9895 - val_loss: 0.5797 - val_accuracy: 0.8804\n",
            "\n",
            "Epoch 00035: val_loss did not improve from 0.44356\n",
            "Epoch 36/40\n",
            "1563/1563 [==============================] - 84s 54ms/step - loss: 0.0342 - accuracy: 0.9891 - val_loss: 0.5816 - val_accuracy: 0.8805\n",
            "\n",
            "Epoch 00036: val_loss did not improve from 0.44356\n",
            "Epoch 37/40\n",
            "1563/1563 [==============================] - 84s 53ms/step - loss: 0.0341 - accuracy: 0.9889 - val_loss: 0.5838 - val_accuracy: 0.8801\n",
            "\n",
            "Epoch 00037: val_loss did not improve from 0.44356\n",
            "Epoch 38/40\n",
            "1563/1563 [==============================] - 83s 53ms/step - loss: 0.0330 - accuracy: 0.9894 - val_loss: 0.5836 - val_accuracy: 0.8808\n",
            "\n",
            "Epoch 00038: val_loss did not improve from 0.44356\n",
            "\n",
            "Epoch 00038: ReduceLROnPlateau reducing learning rate to 6.400000529538374e-08.\n",
            "Epoch 39/40\n",
            "1563/1563 [==============================] - 84s 54ms/step - loss: 0.0334 - accuracy: 0.9891 - val_loss: 0.5822 - val_accuracy: 0.8806\n",
            "\n",
            "Epoch 00039: val_loss did not improve from 0.44356\n",
            "Epoch 40/40\n",
            "1563/1563 [==============================] - 84s 54ms/step - loss: 0.0341 - accuracy: 0.9893 - val_loss: 0.5860 - val_accuracy: 0.8804\n",
            "\n",
            "Epoch 00040: val_loss did not improve from 0.44356\n"
          ]
        }
      ]
    },
    {
      "cell_type": "code",
      "metadata": {
        "colab": {
          "base_uri": "https://localhost:8080/",
          "height": 283
        },
        "id": "s4I-IEYSKaY9",
        "outputId": "b1e89e23-80a4-4c0f-e109-eeccb20b85e4"
      },
      "source": [
        "plt.plot(history.history['accuracy'], label = 'train')\n",
        "plt.plot(history.history['val_accuracy'], label = 'valid')\n",
        "plt.legend()"
      ],
      "execution_count": null,
      "outputs": [
        {
          "output_type": "execute_result",
          "data": {
            "text/plain": [
              "<matplotlib.legend.Legend at 0x7efb18055f10>"
            ]
          },
          "metadata": {},
          "execution_count": 74
        },
        {
          "output_type": "display_data",
          "data": {
            "image/png": "[encoded data removed]",
            "text/plain": [
              "<Figure size 432x288 with 1 Axes>"
            ]
          },
          "metadata": {
            "needs_background": "light"
          }
        }
      ]
    },
    {
      "cell_type": "markdown",
      "metadata": {
        "id": "04Ym0tZvKaY-"
      },
      "source": [
        "### 테스트 에서 평가"
      ]
    },
    {
      "cell_type": "code",
      "metadata": {
        "colab": {
          "base_uri": "https://localhost:8080/"
        },
        "id": "bR_XSDPhKaY_",
        "outputId": "617fa2c8-92c4-4ed9-c7ed-fc18ef1249c0"
      },
      "source": [
        "model.evaluate(test_images, test_oh_labels, batch_size=64, verbose=1)"
      ],
      "execution_count": null,
      "outputs": [
        {
          "output_type": "stream",
          "name": "stdout",
          "text": [
            "157/157 [==============================] - 3s 15ms/step - loss: 0.9227 - accuracy: 0.8813\n"
          ]
        },
        {
          "output_type": "execute_result",
          "data": {
            "text/plain": [
              "[0.9226551651954651, 0.8812999725341797]"
            ]
          },
          "metadata": {},
          "execution_count": 75
        }
      ]
    }
  ]
}