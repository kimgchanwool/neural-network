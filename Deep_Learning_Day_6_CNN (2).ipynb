{
  "nbformat": 4,
  "nbformat_minor": 0,
  "metadata": {
    "colab": {
      "name": "Deep Learning Day 6 - CNN.ipynb",
      "provenance": [],
      "collapsed_sections": []
    },
    "kernelspec": {
      "name": "python3",
      "display_name": "Python 3"
    },
    "language_info": {
      "name": "python"
    },
    "accelerator": "GPU"
  },
  "cells": [
    {
      "cell_type": "markdown",
      "metadata": {
        "id": "jHqAnWZ4ZZPs"
      },
      "source": [
        "### Fashion MNIST 데이터 셋 - CNN 망 훈련하기 "
      ]
    },
    {
      "cell_type": "code",
      "metadata": {
        "id": "Bx6zEGQ-ZeMC"
      },
      "source": [
        "from tensorflow.keras.layers import Input, Conv2D, MaxPooling2D, Dropout"
      ],
      "execution_count": 37,
      "outputs": []
    },
    {
      "cell_type": "code",
      "metadata": {
        "id": "kJtDq4J0Zn1U"
      },
      "source": [
        "from tensorflow.keras.models import Model"
      ],
      "execution_count": 2,
      "outputs": []
    },
    {
      "cell_type": "code",
      "metadata": {
        "id": "v8qV9nKLZ9CJ"
      },
      "source": [
        "input_tensor = Input(shape=(28, 28, 1)) # 여기서 Flatten이 필요 없고 채널을 추가해줌.\n",
        "x = Conv2D(4, kernel_size=(3, 3), strides=1, padding='same', activation='relu')(input_tensor) #파라미터는 아웃풋 개수, 커널사이즈(커널 크기), 스트라이드(간격), 패딩(크기 맞추기) 등등이 있다. 또한 activation으로 아웃풋에대한 처리 가능"
      ],
      "execution_count": 3,
      "outputs": []
    },
    {
      "cell_type": "code",
      "metadata": {
        "colab": {
          "base_uri": "https://localhost:8080/"
        },
        "id": "fXHzv5gWaFnN",
        "outputId": "cb7eec18-3b2b-49aa-cd77-a4f5f60218ae"
      },
      "source": [
        "x # 28, 28이 4개가 나옴"
      ],
      "execution_count": 4,
      "outputs": [
        {
          "output_type": "execute_result",
          "data": {
            "text/plain": [
              "<KerasTensor: shape=(None, 28, 28, 4) dtype=float32 (created by layer 'conv2d')>"
            ]
          },
          "metadata": {},
          "execution_count": 4
        }
      ]
    },
    {
      "cell_type": "code",
      "metadata": {
        "id": "t9AhkQztbFwD"
      },
      "source": [
        "from tensorflow.keras.datasets import fashion_mnist\n",
        "from tensorflow.keras.utils import to_categorical"
      ],
      "execution_count": 5,
      "outputs": []
    },
    {
      "cell_type": "code",
      "metadata": {
        "colab": {
          "base_uri": "https://localhost:8080/"
        },
        "id": "MjDURDJcbLH1",
        "outputId": "fc2a16d5-2213-4d81-d1ab-0bec405c6ad4"
      },
      "source": [
        "(train_images, train_labels), (test_images, test_labels) = fashion_mnist.load_data()"
      ],
      "execution_count": 6,
      "outputs": [
        {
          "output_type": "stream",
          "name": "stdout",
          "text": [
            "Downloading data from https://storage.googleapis.com/tensorflow/tf-keras-datasets/train-labels-idx1-ubyte.gz\n",
            "32768/29515 [=================================] - 0s 0us/step\n",
            "40960/29515 [=========================================] - 0s 0us/step\n",
            "Downloading data from https://storage.googleapis.com/tensorflow/tf-keras-datasets/train-images-idx3-ubyte.gz\n",
            "26427392/26421880 [==============================] - 0s 0us/step\n",
            "26435584/26421880 [==============================] - 0s 0us/step\n",
            "Downloading data from https://storage.googleapis.com/tensorflow/tf-keras-datasets/t10k-labels-idx1-ubyte.gz\n",
            "16384/5148 [===============================================================================================] - 0s 0us/step\n",
            "Downloading data from https://storage.googleapis.com/tensorflow/tf-keras-datasets/t10k-images-idx3-ubyte.gz\n",
            "4423680/4422102 [==============================] - 0s 0us/step\n",
            "4431872/4422102 [==============================] - 0s 0us/step\n"
          ]
        }
      ]
    },
    {
      "cell_type": "code",
      "metadata": {
        "id": "KgAr72nkbRKu"
      },
      "source": [
        "import numpy as np\n",
        "train_images = np.array(train_images/255.0, dtype=np.float32) #minmaxscale못함\n",
        "test_images = np.array(test_images/255.0, dtype=np.float32)"
      ],
      "execution_count": 7,
      "outputs": []
    },
    {
      "cell_type": "code",
      "metadata": {
        "id": "btGx1SwQbeXU"
      },
      "source": [
        "train_oh_labels = to_categorical(train_labels)\n",
        "test_oh_labels = to_categorical(test_labels)"
      ],
      "execution_count": 8,
      "outputs": []
    },
    {
      "cell_type": "code",
      "metadata": {
        "colab": {
          "base_uri": "https://localhost:8080/"
        },
        "id": "cOBvwODSb0wI",
        "outputId": "c22393d3-a2b2-4896-d174-1e8c5c2098e2"
      },
      "source": [
        "test_oh_labels.shape"
      ],
      "execution_count": 9,
      "outputs": [
        {
          "output_type": "execute_result",
          "data": {
            "text/plain": [
              "(10000, 10)"
            ]
          },
          "metadata": {},
          "execution_count": 9
        }
      ]
    },
    {
      "cell_type": "markdown",
      "metadata": {
        "id": "aiq4pv6NcRQ5"
      },
      "source": [
        "## Pooling 적용"
      ]
    },
    {
      "cell_type": "code",
      "metadata": {
        "id": "CjAFDoYWbJqu"
      },
      "source": [
        "input_tensor = Input(shape=(28, 28, 1)) # 여기서 Flatten이 필요 없고 채널을 추가해줌.\n",
        "x = Conv2D(4, kernel_size=(3, 3), strides=1, padding='same', activation='relu')(input_tensor)\n",
        "x = MaxPooling2D(2)(x) # 절반으로 줄었다. 대부분 pool_size랑 stride는 동일하게 쓴다. 따로 써도 되긴하는데 왠만해서 동일하다."
      ],
      "execution_count": 10,
      "outputs": []
    },
    {
      "cell_type": "code",
      "metadata": {
        "colab": {
          "base_uri": "https://localhost:8080/"
        },
        "id": "2a7qrrxLcXj2",
        "outputId": "cf4b815a-7d78-4d4f-ec91-0078b9a9330e"
      },
      "source": [
        "x"
      ],
      "execution_count": 11,
      "outputs": [
        {
          "output_type": "execute_result",
          "data": {
            "text/plain": [
              "<KerasTensor: shape=(None, 14, 14, 4) dtype=float32 (created by layer 'max_pooling2d')>"
            ]
          },
          "metadata": {},
          "execution_count": 11
        }
      ]
    },
    {
      "cell_type": "markdown",
      "metadata": {
        "id": "EqvDO8-OeEk0"
      },
      "source": [
        "## CNN 모델 생성"
      ]
    },
    {
      "cell_type": "code",
      "metadata": {
        "id": "NIFdoLcQsE41"
      },
      "source": [
        "from tensorflow.keras.layers import Dense, Flatten\n",
        "from tensorflow.keras.optimizers import SGD\n",
        "from tensorflow.keras.losses import CategoricalCrossentropy #정답이 one-hot encoding 되어 있을 때\n",
        "from tensorflow.keras.metrics import Accuracy\n",
        "from tensorflow.keras.models import Sequential\n",
        "import tensorflow as tf"
      ],
      "execution_count": 56,
      "outputs": []
    },
    {
      "cell_type": "code",
      "metadata": {
        "id": "Hp0Q88WZcX01",
        "colab": {
          "base_uri": "https://localhost:8080/"
        },
        "outputId": "d86543e1-c1f4-484d-b1e8-a3fd73c643ac"
      },
      "source": [
        "tf.keras.backend.clear_session() #기존에 있던 모델 클리어\n",
        "\n",
        "input_tensor = Input(shape = (28, 28, 1))\n",
        "x = Conv2D(filters=32, kernel_size=3, strides=1, padding='same', activation='relu')(input_tensor)\n",
        "x = Conv2D(filters=64, kernel_size=3, strides=1, padding='valid', activation='relu')(x) # valid는 패딩 False와 같음\n",
        "x = MaxPooling2D(2)(x)\n",
        "\n",
        "print(x.shape)\n",
        "x = Flatten()(x)\n",
        "print(x.shape)\n",
        "x = Dropout(0.4)(x)\n",
        "x = Dense(200, activation='relu')(x)\n",
        "x = Dropout(0.2)(x)\n",
        "x = Dense(100, activation='relu')(x)\n",
        "x = Dropout(0.2)(x)\n",
        "output = Dense(10, activation='softmax')(x)\n",
        "model = Model(inputs=input_tensor, outputs=output)\n"
      ],
      "execution_count": 48,
      "outputs": [
        {
          "output_type": "stream",
          "name": "stdout",
          "text": [
            "(None, 13, 13, 64)\n",
            "(None, 10816)\n"
          ]
        }
      ]
    },
    {
      "cell_type": "code",
      "metadata": {
        "colab": {
          "base_uri": "https://localhost:8080/"
        },
        "id": "OB9AirE4fBbu",
        "outputId": "4700517d-e34e-4b74-d048-a3e914c55f32"
      },
      "source": [
        "model.summary()"
      ],
      "execution_count": 49,
      "outputs": [
        {
          "output_type": "stream",
          "name": "stdout",
          "text": [
            "Model: \"model_3\"\n",
            "_________________________________________________________________\n",
            "Layer (type)                 Output Shape              Param #   \n",
            "=================================================================\n",
            "input_6 (InputLayer)         [(None, 28, 28, 1)]       0         \n",
            "_________________________________________________________________\n",
            "conv2d_8 (Conv2D)            (None, 28, 28, 32)        320       \n",
            "_________________________________________________________________\n",
            "conv2d_9 (Conv2D)            (None, 26, 26, 64)        18496     \n",
            "_________________________________________________________________\n",
            "max_pooling2d_4 (MaxPooling2 (None, 13, 13, 64)        0         \n",
            "_________________________________________________________________\n",
            "flatten_3 (Flatten)          (None, 10816)             0         \n",
            "_________________________________________________________________\n",
            "dropout_1 (Dropout)          (None, 10816)             0         \n",
            "_________________________________________________________________\n",
            "dense_9 (Dense)              (None, 200)               2163400   \n",
            "_________________________________________________________________\n",
            "dropout_2 (Dropout)          (None, 200)               0         \n",
            "_________________________________________________________________\n",
            "dense_10 (Dense)             (None, 100)               20100     \n",
            "_________________________________________________________________\n",
            "dense_11 (Dense)             (None, 10)                1010      \n",
            "=================================================================\n",
            "Total params: 2,203,326\n",
            "Trainable params: 2,203,326\n",
            "Non-trainable params: 0\n",
            "_________________________________________________________________\n"
          ]
        }
      ]
    },
    {
      "cell_type": "code",
      "metadata": {
        "id": "igUi8gDufMEB",
        "colab": {
          "base_uri": "https://localhost:8080/"
        },
        "outputId": "b744a106-548e-421b-d840-9857c615766d"
      },
      "source": [
        "model.compile(optimizer=SGD(0.1), loss='categorical_crossentropy', metrics=['accuracy'])\n",
        "history = model.fit(x=train_images, y=train_oh_labels, validation_data=(test_images, test_oh_labels), epochs=20, batch_size=100 ) #validation_split=0.2,"
      ],
      "execution_count": 53,
      "outputs": [
        {
          "output_type": "stream",
          "name": "stdout",
          "text": [
            "Epoch 1/20\n",
            "600/600 [==============================] - 10s 15ms/step - loss: 0.1071 - accuracy: 0.9599 - val_loss: 0.2305 - val_accuracy: 0.9252\n",
            "Epoch 2/20\n",
            "600/600 [==============================] - 9s 15ms/step - loss: 0.1005 - accuracy: 0.9624 - val_loss: 0.2273 - val_accuracy: 0.9257\n",
            "Epoch 3/20\n",
            "600/600 [==============================] - 9s 15ms/step - loss: 0.0966 - accuracy: 0.9642 - val_loss: 0.2264 - val_accuracy: 0.9255\n",
            "Epoch 4/20\n",
            "600/600 [==============================] - 9s 15ms/step - loss: 0.0901 - accuracy: 0.9660 - val_loss: 0.2255 - val_accuracy: 0.9291\n",
            "Epoch 5/20\n",
            "600/600 [==============================] - 9s 15ms/step - loss: 0.0884 - accuracy: 0.9672 - val_loss: 0.2396 - val_accuracy: 0.9262\n",
            "Epoch 6/20\n",
            "600/600 [==============================] - 9s 15ms/step - loss: 0.0817 - accuracy: 0.9696 - val_loss: 0.2470 - val_accuracy: 0.9281\n",
            "Epoch 7/20\n",
            "600/600 [==============================] - 9s 15ms/step - loss: 0.0777 - accuracy: 0.9710 - val_loss: 0.2422 - val_accuracy: 0.9283\n",
            "Epoch 8/20\n",
            "600/600 [==============================] - 9s 15ms/step - loss: 0.0754 - accuracy: 0.9717 - val_loss: 0.2466 - val_accuracy: 0.9254\n",
            "Epoch 9/20\n",
            "600/600 [==============================] - 9s 15ms/step - loss: 0.0702 - accuracy: 0.9734 - val_loss: 0.2569 - val_accuracy: 0.9274\n",
            "Epoch 10/20\n",
            "600/600 [==============================] - 9s 15ms/step - loss: 0.0678 - accuracy: 0.9743 - val_loss: 0.2516 - val_accuracy: 0.9283\n",
            "Epoch 11/20\n",
            "600/600 [==============================] - 9s 15ms/step - loss: 0.0663 - accuracy: 0.9755 - val_loss: 0.2625 - val_accuracy: 0.9279\n",
            "Epoch 12/20\n",
            "600/600 [==============================] - 9s 15ms/step - loss: 0.0629 - accuracy: 0.9767 - val_loss: 0.2580 - val_accuracy: 0.9301\n",
            "Epoch 13/20\n",
            "600/600 [==============================] - 9s 15ms/step - loss: 0.0608 - accuracy: 0.9773 - val_loss: 0.2594 - val_accuracy: 0.9297\n",
            "Epoch 14/20\n",
            "600/600 [==============================] - 9s 15ms/step - loss: 0.0579 - accuracy: 0.9787 - val_loss: 0.2664 - val_accuracy: 0.9277\n",
            "Epoch 15/20\n",
            "600/600 [==============================] - 9s 15ms/step - loss: 0.0553 - accuracy: 0.9792 - val_loss: 0.2686 - val_accuracy: 0.9292\n",
            "Epoch 16/20\n",
            "600/600 [==============================] - 9s 15ms/step - loss: 0.0521 - accuracy: 0.9804 - val_loss: 0.2672 - val_accuracy: 0.9299\n",
            "Epoch 17/20\n",
            "600/600 [==============================] - 9s 15ms/step - loss: 0.0507 - accuracy: 0.9816 - val_loss: 0.2676 - val_accuracy: 0.9294\n",
            "Epoch 18/20\n",
            "600/600 [==============================] - 9s 15ms/step - loss: 0.0487 - accuracy: 0.9819 - val_loss: 0.2720 - val_accuracy: 0.9294\n",
            "Epoch 19/20\n",
            "600/600 [==============================] - 9s 15ms/step - loss: 0.0452 - accuracy: 0.9826 - val_loss: 0.2835 - val_accuracy: 0.9310\n",
            "Epoch 20/20\n",
            "600/600 [==============================] - 9s 15ms/step - loss: 0.0463 - accuracy: 0.9830 - val_loss: 0.2823 - val_accuracy: 0.9311\n"
          ]
        }
      ]
    },
    {
      "cell_type": "code",
      "metadata": {
        "colab": {
          "base_uri": "https://localhost:8080/",
          "height": 283
        },
        "id": "AKWowXdBR8R1",
        "outputId": "c7786501-9e8b-4b7f-b997-b36003710e25"
      },
      "source": [
        "import matplotlib.pyplot as plt\n",
        "\n",
        "plt.plot(history.history['accuracy'], label = 'train')\n",
        "plt.plot(history.history['val_accuracy'], label = 'valid')"
      ],
      "execution_count": 54,
      "outputs": [
        {
          "output_type": "execute_result",
          "data": {
            "text/plain": [
              "[<matplotlib.lines.Line2D at 0x7f52dc5a4750>]"
            ]
          },
          "metadata": {},
          "execution_count": 54
        },
        {
          "output_type": "display_data",
          "data": {
            "image/png": "[encoded data removed]",
            "text/plain": [
              "<Figure size 432x288 with 1 Axes>"
            ]
          },
          "metadata": {
            "needs_background": "light"
          }
        }
      ]
    },
    {
      "cell_type": "code",
      "metadata": {
        "colab": {
          "base_uri": "https://localhost:8080/"
        },
        "id": "Yl0MsGiocTAx",
        "outputId": "0efd73d9-dafc-40c0-8548-703ee95b71c9"
      },
      "source": [
        "model.evaluate(test_images, test_oh_labels, batch_size=256, verbose=1)"
      ],
      "execution_count": 55,
      "outputs": [
        {
          "output_type": "stream",
          "name": "stdout",
          "text": [
            "40/40 [==============================] - 1s 13ms/step - loss: 0.2823 - accuracy: 0.9311\n"
          ]
        },
        {
          "output_type": "execute_result",
          "data": {
            "text/plain": [
              "[0.28228244185447693, 0.9311000108718872]"
            ]
          },
          "metadata": {},
          "execution_count": 55
        }
      ]
    },
    {
      "cell_type": "code",
      "metadata": {
        "colab": {
          "base_uri": "https://localhost:8080/"
        },
        "id": "O1-lKxKRcr_i",
        "outputId": "5ff16f10-ea42-4689-d2b0-cbce609c8aab"
      },
      "source": [
        "train_images.shape\n",
        "#  loss: 0.2365 - accuracy: 0.9238 - 20번"
      ],
      "execution_count": 36,
      "outputs": [
        {
          "output_type": "execute_result",
          "data": {
            "text/plain": [
              "(60000, 28, 28)"
            ]
          },
          "metadata": {},
          "execution_count": 36
        }
      ]
    },
    {
      "cell_type": "code",
      "metadata": {
        "id": "ySFPl7Oyc9Gy"
      },
      "source": [
        ""
      ],
      "execution_count": 17,
      "outputs": []
    }
  ]
}