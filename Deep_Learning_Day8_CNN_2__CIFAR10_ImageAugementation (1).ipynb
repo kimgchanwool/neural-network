{
  "nbformat": 4,
  "nbformat_minor": 0,
  "metadata": {
    "accelerator": "GPU",
    "colab": {
      "name": "Deep_Learning_Day8_CNN_2__CIFAR10_ImageAugementation.ipynb",
      "provenance": [],
      "collapsed_sections": []
    },
    "kernelspec": {
      "display_name": "Python 3",
      "language": "python",
      "name": "python3"
    },
    "language_info": {
      "codemirror_mode": {
        "name": "ipython",
        "version": 3
      },
      "file_extension": ".py",
      "mimetype": "text/x-python",
      "name": "python",
      "nbconvert_exporter": "python",
      "pygments_lexer": "ipython3",
      "version": "3.8.8"
    }
  },
  "cells": [
    {
      "cell_type": "markdown",
      "metadata": {
        "id": "wGPaTYIaPLGu"
      },
      "source": [
        "# CIFAR10 데이터로 신경한 훈련"
      ]
    },
    {
      "cell_type": "code",
      "metadata": {
        "id": "FZl0C-zgM7WC"
      },
      "source": [
        "import tensorflow as tf\n",
        "import numpy as np\n",
        "import matplotlib.pyplot as plt\n",
        "from tensorflow.keras.utils import to_categorical\n",
        "from tensorflow.keras.datasets import cifar10\n",
        "from tensorflow.keras.layers import Input, Flatten, Dense\n",
        "from tensorflow.keras.models import Model"
      ],
      "execution_count": null,
      "outputs": []
    },
    {
      "cell_type": "code",
      "metadata": {
        "id": "ZzXvuCWdOp9W"
      },
      "source": [
        "np.random.seed(42)\n",
        "tf.random.set_seed(42)"
      ],
      "execution_count": null,
      "outputs": []
    },
    {
      "cell_type": "code",
      "metadata": {
        "id": "Izdyote3NwjV"
      },
      "source": [
        "(train_images, train_labels), (test_images, test_labels) = cifar10.load_data()"
      ],
      "execution_count": null,
      "outputs": []
    },
    {
      "cell_type": "code",
      "metadata": {
        "colab": {
          "base_uri": "https://localhost:8080/"
        },
        "id": "SihKUzI7N1od",
        "outputId": "c4c1a78e-169a-4d73-89a6-d1169f40d85f"
      },
      "source": [
        "print(train_images.shape, train_labels.shape) #airplane, automobile, bird, cat, deer, dog, frog, horse, ship, truck 순으로 10개의 라벨\n",
        "print(test_images.shape, test_labels.shape)"
      ],
      "execution_count": null,
      "outputs": [
        {
          "output_type": "stream",
          "name": "stdout",
          "text": [
            "(50000, 32, 32, 3) (50000, 1)\n",
            "(10000, 32, 32, 3) (10000, 1)\n"
          ]
        }
      ]
    },
    {
      "cell_type": "code",
      "metadata": {
        "id": "dQM4TurHORsQ"
      },
      "source": [
        "class_names = ['airplane', 'automobile', 'bird', 'cat', 'deer', 'dog', 'frog', 'horse', 'ship', 'truck']"
      ],
      "execution_count": null,
      "outputs": []
    },
    {
      "cell_type": "code",
      "metadata": {
        "colab": {
          "base_uri": "https://localhost:8080/"
        },
        "id": "7CpKemkiO1wl",
        "outputId": "47da7cf0-7035-4a9d-ab12-bdf9e9c14a7a"
      },
      "source": [
        "train_labels[:10]"
      ],
      "execution_count": null,
      "outputs": [
        {
          "output_type": "execute_result",
          "data": {
            "text/plain": [
              "array([[6],\n",
              "       [9],\n",
              "       [9],\n",
              "       [4],\n",
              "       [1],\n",
              "       [1],\n",
              "       [2],\n",
              "       [7],\n",
              "       [8],\n",
              "       [3]], dtype=uint8)"
            ]
          },
          "metadata": {},
          "execution_count": 61
        }
      ]
    },
    {
      "cell_type": "markdown",
      "metadata": {
        "id": "F2KlOixgPIim"
      },
      "source": [
        "### 데이터 시각화"
      ]
    },
    {
      "cell_type": "code",
      "metadata": {
        "colab": {
          "base_uri": "https://localhost:8080/",
          "height": 372
        },
        "id": "qfkf7awTO42Q",
        "outputId": "1fb276b1-62fd-457a-a208-9f458baf968a"
      },
      "source": [
        "plt.figure(figsize = (22,6))\n",
        "\n",
        "for i in range(16):\n",
        "    ax = plt.subplot(2, 8, i+1)\n",
        "    ax.set_title(class_names[train_labels.flatten()[i]])\n",
        "    ax.imshow(train_images[i])"
      ],
      "execution_count": null,
      "outputs": [
        {
          "output_type": "display_data",
          "data": {
            "image/png": "[encoded data removed]",
            "text/plain": [
              "<Figure size 1584x432 with 16 Axes>"
            ]
          },
          "metadata": {
            "needs_background": "light"
          }
        }
      ]
    },
    {
      "cell_type": "markdown",
      "metadata": {
        "id": "Aali55-aRhzb"
      },
      "source": [
        "### 데이터 전처리"
      ]
    },
    {
      "cell_type": "code",
      "metadata": {
        "id": "-x39zmOuPl-e"
      },
      "source": [
        "train_images = np.array(train_images/255.0, dtype=np.float32)\n",
        "train_labels = np.array(train_labels, dtype=np.float32)\n",
        "test_images = np.array(test_images/255.0, dtype=np.float32)\n",
        "test_labels = np.array(test_labels, dtype=np.float32)\n",
        "\n",
        "train_oh_labels = to_categorical(train_labels)\n",
        "test_oh_labels = to_categorical(test_labels)\n",
        "\n",
        "from sklearn.model_selection import train_test_split\n",
        "train_images, valid_images, train_oh_labels, valid_oh_labels = train_test_split(train_images, train_oh_labels, test_size=0.2, random_state=42)"
      ],
      "execution_count": null,
      "outputs": []
    },
    {
      "cell_type": "markdown",
      "metadata": {
        "id": "BctzlBILpH9y"
      },
      "source": [
        "#### 데이터 증강"
      ]
    },
    {
      "cell_type": "markdown",
      "metadata": {
        "id": "MnVSmZJZpKlQ"
      },
      "source": [
        "데이터 증강은 원본의 개수가 유지되는데 다양한 특성으로 데이터를 가공하는 것임\n",
        "\n",
        "원래라면 전처리(스케일링, lable_encoding) 학습(fit)(batchsize가공 등등)의 형태지만\n",
        "\n",
        "증강을 통해서 데이터 전처리, generator(generate(aug, 스케일링), flow[batchsize, lable_encoder)) 등을 정의한 것을 iterator형태로 전해주면 batchsize만큼 가져와서 fit을 한다."
      ]
    },
    {
      "cell_type": "code",
      "metadata": {
        "id": "JIzkoKLPnRAe"
      },
      "source": [
        "from tensorflow.keras.preprocessing.image import ImageDataGenerator #yield를 이용해서 잠깐 return하고 돌아오는 함수가 generator"
      ],
      "execution_count": null,
      "outputs": []
    },
    {
      "cell_type": "code",
      "metadata": {
        "colab": {
          "base_uri": "https://localhost:8080/"
        },
        "id": "PDj-9xpbqfW0",
        "outputId": "7f828ab2-7722-4979-8241-b871807b1f22"
      },
      "source": [
        "train_images[0].shape"
      ],
      "execution_count": null,
      "outputs": [
        {
          "output_type": "execute_result",
          "data": {
            "text/plain": [
              "(32, 32, 3)"
            ]
          },
          "metadata": {},
          "execution_count": 83
        }
      ]
    },
    {
      "cell_type": "code",
      "metadata": {
        "colab": {
          "base_uri": "https://localhost:8080/",
          "height": 661
        },
        "id": "j69VrEfUnRAe",
        "outputId": "7098f9fa-5e8b-4ece-ba01-d0a7466d20c0"
      },
      "source": [
        "#data_generator = ImageDataGenerator(horizontal_flip = True) #옵션(파라미터)설정\n",
        "#data_generator = ImageDataGenerator(rotation_range = 30)\n",
        "#data_generator = ImageDataGenerator(zoom_range=(0.7, 0.9))\n",
        "#data_generator = ImageDataGenerator(vertical_flip= True)\n",
        "data_generator = ImageDataGenerator(horizontal_flip = True,\n",
        "                                    rotation_range = 30,\n",
        "                                    vertical_flip= True,\n",
        "                                    zoom_range=(0.7, 0.9)\n",
        "                                    )\n",
        "\n",
        "\n",
        "images = train_images[:4]\n",
        "\n",
        "#image = np.expand_dims(train_images[0], axis=0) #열 방향으로 1칸 늘어난다.\n",
        "data_generator_iterator = data_generator.flow(images) #iterator로 변경\n",
        "\n",
        "augmented_images = next(data_generator_iterator) #증강시킨다.\n",
        "#print(augmented_image.shape)\n",
        "\n",
        "#augmented_image = np.squeeze(augmented_image) #차원 축소\n",
        "#print(augmented_image.shape)\n",
        "\n",
        "#image = np.squeeze(image)\n",
        "\n",
        "fig, axes = plt.subplots(nrows=1, ncols=4, figsize=(6*4, 8))\n",
        "for i, image in enumerate(images):\n",
        "  axes[i].imshow(image)\n",
        "\n",
        "fig2, axes = plt.subplots(nrows=1, ncols=4, figsize=(6*4, 8))\n",
        "for i, aug_image in enumerate(augmented_images):\n",
        "  axes[i].imshow(aug_image)"
      ],
      "execution_count": null,
      "outputs": [
        {
          "output_type": "display_data",
          "data": {
            "image/png": "[encoded data removed]",
            "text/plain": [
              "<Figure size 1728x576 with 4 Axes>"
            ]
          },
          "metadata": {
            "needs_background": "light"
          }
        },
        {
          "output_type": "display_data",
          "data": {
            "image/png": "[encoded data removed]",
            "text/plain": [
              "<Figure size 1728x576 with 4 Axes>"
            ]
          },
          "metadata": {
            "needs_background": "light"
          }
        }
      ]
    },
    {
      "cell_type": "code",
      "metadata": {
        "colab": {
          "base_uri": "https://localhost:8080/"
        },
        "id": "-oqT6-IM6Z7Z",
        "outputId": "e961383b-4b4e-4a16-8fad-d68a0497dfd7"
      },
      "source": [
        "train_images.shape"
      ],
      "execution_count": null,
      "outputs": [
        {
          "output_type": "execute_result",
          "data": {
            "text/plain": [
              "(40000, 32, 32, 3)"
            ]
          },
          "metadata": {},
          "execution_count": 121
        }
      ]
    },
    {
      "cell_type": "code",
      "metadata": {
        "id": "sthZwvU20Ki5"
      },
      "source": [
        "BATCH_SIZE = 64\n",
        "train_generator = ImageDataGenerator(horizontal_flip = True)\n",
        "train_generator_iterator = train_generator.flow(train_images, train_oh_labels, batch_size=BATCH_SIZE)\n",
        "valid_generator = ImageDataGenerator()\n",
        "valid_generator_iterator = train_generator.flow(valid_images, valid_oh_labels, batch_size=BATCH_SIZE)"
      ],
      "execution_count": null,
      "outputs": []
    },
    {
      "cell_type": "markdown",
      "metadata": {
        "id": "6IXIx0LQUmhy"
      },
      "source": [
        "### 모델 생성"
      ]
    },
    {
      "cell_type": "code",
      "metadata": {
        "id": "d-a3uFJWVcXt"
      },
      "source": [
        "from tensorflow.keras.optimizers import SGD, Adam\n",
        "from tensorflow.keras.losses import CategoricalCrossentropy\n",
        "from tensorflow.keras.metrics import Accuracy\n",
        "from tensorflow.keras.models import Sequential\n",
        "from tensorflow.keras.layers import Input, Conv2D, MaxPooling2D, Dropout, MaxPooling3D, BatchNormalization, Activation"
      ],
      "execution_count": null,
      "outputs": []
    },
    {
      "cell_type": "code",
      "metadata": {
        "id": "Zdu7L1m7UmOo"
      },
      "source": [
        "def build_model():\n",
        "    tf.keras.backend.clear_session() #기존에 있던 모델 클리어\n",
        "\n",
        "    input_tensor = Input(shape = (32, 32, 3))\n",
        "    x = Conv2D(filters=32, kernel_size=(3, 3), strides=1, padding='same')(input_tensor)\n",
        "    x = BatchNormalization()(x)\n",
        "    x = Activation('relu')(x)\n",
        "    x = Conv2D(filters=32, kernel_size=(3, 3), strides=1, padding='same')(x) # valid는 패딩 False와 같음\n",
        "    x = Activation('relu')(x)\n",
        "    x = MaxPooling2D(pool_size=(2,2))(x)   ## 이런 모양새 하나를 블럭이라고 한다.\n",
        "\n",
        "\n",
        "    x = Conv2D(filters=64, kernel_size=(3, 3), strides=1, padding='same')(x)\n",
        "    x = Activation('relu')(x)\n",
        "    x = Conv2D(filters=64, kernel_size=(3, 3), strides=1, padding='same')(x) # valid는 패딩 False와 같음\n",
        "    x = Activation('relu')(x)\n",
        "    x = MaxPooling2D(pool_size=(2,2))(x)\n",
        "\n",
        "\n",
        "    x = Conv2D(filters=128, kernel_size=(3, 3), strides=1, padding='same')(x)\n",
        "    x = Activation('relu')(x)\n",
        "    x = Conv2D(filters=128, kernel_size=(3, 3), strides=1, padding='same')(x) # valid는 패딩 False와 같음\n",
        "    x = Activation('relu')(x)\n",
        "    x = MaxPooling2D(pool_size=(2,2))(x)\n",
        "\n",
        "\n",
        "  #x = Conv2D(filters=256, kernel_size=(2, 2), strides=1, padding='same', activation='relu')(x)\n",
        "  #x = Conv2D(filters=256, kernel_size=(2, 2), strides=1, padding='same', activation='relu')(x) # valid는 패딩 False와 같음\n",
        "  #x = MaxPooling2D(pool_size=(2,2))(x)\n",
        "\n",
        "    print(x.shape)\n",
        "    x = Flatten()(x)\n",
        "    print(x.shape)\n",
        "    x = Dropout(0.5)(x)\n",
        "    x = Dense(300, activation='relu')(x)\n",
        "    x = Dropout(0.3)(x)\n",
        "    x = Dense(100, activation='relu')(x)\n",
        "    x = Dropout(0.3)(x)\n",
        "    output = Dense(10, activation='softmax')(x)\n",
        "\n",
        "    model = Model(inputs=input_tensor, outputs=output)\n",
        "  \n",
        "    return model"
      ],
      "execution_count": 135,
      "outputs": []
    },
    {
      "cell_type": "code",
      "metadata": {
        "colab": {
          "base_uri": "https://localhost:8080/"
        },
        "id": "vwYVVwzMwRsF",
        "outputId": "218b14de-074d-4618-e381-be50e451449b"
      },
      "source": [
        "model = build_model()"
      ],
      "execution_count": 136,
      "outputs": [
        {
          "output_type": "stream",
          "name": "stdout",
          "text": [
            "(None, 4, 4, 128)\n",
            "(None, 2048)\n"
          ]
        }
      ]
    },
    {
      "cell_type": "markdown",
      "metadata": {
        "id": "xCDmGzIcwQX2"
      },
      "source": [
        "## 모델 컴파일"
      ]
    },
    {
      "cell_type": "code",
      "metadata": {
        "id": "SttOSFT5RtAM"
      },
      "source": [
        "model.compile(optimizer=Adam(0.001), loss='categorical_crossentropy', metrics=['accuracy']) #원-핫 인코딩을 안쓰면 categorical을 굳이 안써도 된다. binary_cateogorical"
      ],
      "execution_count": 137,
      "outputs": []
    },
    {
      "cell_type": "code",
      "metadata": {
        "id": "BebQUJYMvLrY"
      },
      "source": [
        "from tensorflow.keras.callbacks import ModelCheckpoint, EarlyStopping, ReduceLROnPlateau"
      ],
      "execution_count": 138,
      "outputs": []
    },
    {
      "cell_type": "code",
      "metadata": {
        "id": "gx1Gv0YZvLjl"
      },
      "source": [
        "checkpoint_cb = ModelCheckpoint(\"my_keras_model.h5\", save_best_only=True, verbose=1) \n",
        "early_stopping_cb = EarlyStopping(patience=15, restore_best_weights=True)\n",
        "reducelr_cb = ReduceLROnPlateau(monitor='val_loss', factor=0.2, patience=5, mode='min', verbose=1)"
      ],
      "execution_count": 139,
      "outputs": []
    },
    {
      "cell_type": "code",
      "metadata": {
        "colab": {
          "base_uri": "https://localhost:8080/"
        },
        "id": "T0okHdmvYBIL",
        "outputId": "8310f0a0-dd5c-477c-a6ba-9f7e795961c9"
      },
      "source": [
        "history = model.fit(train_generator_iterator, validation_data=valid_generator_iterator,\n",
        "                    epochs=40, callbacks=[checkpoint_cb, reducelr_cb, early_stopping_cb]) "
      ],
      "execution_count": 140,
      "outputs": [
        {
          "output_type": "stream",
          "name": "stdout",
          "text": [
            "Epoch 1/40\n",
            "625/625 [==============================] - 16s 24ms/step - loss: 1.6514 - accuracy: 0.3826 - val_loss: 1.3192 - val_accuracy: 0.5228\n",
            "\n",
            "Epoch 00001: val_loss improved from inf to 1.31917, saving model to my_keras_model.h5\n",
            "Epoch 2/40\n",
            "625/625 [==============================] - 15s 23ms/step - loss: 1.2509 - accuracy: 0.5522 - val_loss: 1.0314 - val_accuracy: 0.6264\n",
            "\n",
            "Epoch 00002: val_loss improved from 1.31917 to 1.03135, saving model to my_keras_model.h5\n",
            "Epoch 3/40\n",
            "625/625 [==============================] - 15s 23ms/step - loss: 1.0555 - accuracy: 0.6311 - val_loss: 0.9229 - val_accuracy: 0.6720\n",
            "\n",
            "Epoch 00003: val_loss improved from 1.03135 to 0.92286, saving model to my_keras_model.h5\n",
            "Epoch 4/40\n",
            "625/625 [==============================] - 15s 23ms/step - loss: 0.9349 - accuracy: 0.6762 - val_loss: 0.9294 - val_accuracy: 0.6845\n",
            "\n",
            "Epoch 00004: val_loss did not improve from 0.92286\n",
            "Epoch 5/40\n",
            "625/625 [==============================] - 15s 23ms/step - loss: 0.8526 - accuracy: 0.7060 - val_loss: 0.7883 - val_accuracy: 0.7233\n",
            "\n",
            "Epoch 00005: val_loss improved from 0.92286 to 0.78827, saving model to my_keras_model.h5\n",
            "Epoch 6/40\n",
            "625/625 [==============================] - 15s 23ms/step - loss: 0.7945 - accuracy: 0.7267 - val_loss: 0.7346 - val_accuracy: 0.7468\n",
            "\n",
            "Epoch 00006: val_loss improved from 0.78827 to 0.73464, saving model to my_keras_model.h5\n",
            "Epoch 7/40\n",
            "625/625 [==============================] - 15s 23ms/step - loss: 0.7371 - accuracy: 0.7495 - val_loss: 0.7574 - val_accuracy: 0.7388\n",
            "\n",
            "Epoch 00007: val_loss did not improve from 0.73464\n",
            "Epoch 8/40\n",
            "625/625 [==============================] - 15s 23ms/step - loss: 0.7039 - accuracy: 0.7620 - val_loss: 0.7351 - val_accuracy: 0.7511\n",
            "\n",
            "Epoch 00008: val_loss did not improve from 0.73464\n",
            "Epoch 9/40\n",
            "625/625 [==============================] - 14s 23ms/step - loss: 0.6803 - accuracy: 0.7690 - val_loss: 0.7030 - val_accuracy: 0.7585\n",
            "\n",
            "Epoch 00009: val_loss improved from 0.73464 to 0.70299, saving model to my_keras_model.h5\n",
            "Epoch 10/40\n",
            "625/625 [==============================] - 14s 23ms/step - loss: 0.6499 - accuracy: 0.7781 - val_loss: 0.6504 - val_accuracy: 0.7809\n",
            "\n",
            "Epoch 00010: val_loss improved from 0.70299 to 0.65044, saving model to my_keras_model.h5\n",
            "Epoch 11/40\n",
            "625/625 [==============================] - 14s 23ms/step - loss: 0.6327 - accuracy: 0.7862 - val_loss: 0.6539 - val_accuracy: 0.7741\n",
            "\n",
            "Epoch 00011: val_loss did not improve from 0.65044\n",
            "Epoch 12/40\n",
            "625/625 [==============================] - 15s 23ms/step - loss: 0.6068 - accuracy: 0.7941 - val_loss: 0.7449 - val_accuracy: 0.7508\n",
            "\n",
            "Epoch 00012: val_loss did not improve from 0.65044\n",
            "Epoch 13/40\n",
            "625/625 [==============================] - 15s 23ms/step - loss: 0.5901 - accuracy: 0.8001 - val_loss: 0.6577 - val_accuracy: 0.7771\n",
            "\n",
            "Epoch 00013: val_loss did not improve from 0.65044\n",
            "Epoch 14/40\n",
            "625/625 [==============================] - 15s 23ms/step - loss: 0.5769 - accuracy: 0.8048 - val_loss: 0.6125 - val_accuracy: 0.7986\n",
            "\n",
            "Epoch 00014: val_loss improved from 0.65044 to 0.61252, saving model to my_keras_model.h5\n",
            "Epoch 15/40\n",
            "625/625 [==============================] - 15s 24ms/step - loss: 0.5564 - accuracy: 0.8137 - val_loss: 0.7179 - val_accuracy: 0.7566\n",
            "\n",
            "Epoch 00015: val_loss did not improve from 0.61252\n",
            "Epoch 16/40\n",
            "625/625 [==============================] - 15s 23ms/step - loss: 0.5516 - accuracy: 0.8145 - val_loss: 0.5984 - val_accuracy: 0.8024\n",
            "\n",
            "Epoch 00016: val_loss improved from 0.61252 to 0.59844, saving model to my_keras_model.h5\n",
            "Epoch 17/40\n",
            "625/625 [==============================] - 15s 23ms/step - loss: 0.5355 - accuracy: 0.8167 - val_loss: 0.6588 - val_accuracy: 0.7825\n",
            "\n",
            "Epoch 00017: val_loss did not improve from 0.59844\n",
            "Epoch 18/40\n",
            "625/625 [==============================] - 15s 23ms/step - loss: 0.5255 - accuracy: 0.8254 - val_loss: 0.6483 - val_accuracy: 0.7795\n",
            "\n",
            "Epoch 00018: val_loss did not improve from 0.59844\n",
            "Epoch 19/40\n",
            "625/625 [==============================] - 15s 23ms/step - loss: 0.5127 - accuracy: 0.8274 - val_loss: 0.6398 - val_accuracy: 0.7839\n",
            "\n",
            "Epoch 00019: val_loss did not improve from 0.59844\n",
            "Epoch 20/40\n",
            "625/625 [==============================] - 15s 23ms/step - loss: 0.5035 - accuracy: 0.8306 - val_loss: 0.6028 - val_accuracy: 0.7997\n",
            "\n",
            "Epoch 00020: val_loss did not improve from 0.59844\n",
            "Epoch 21/40\n",
            "625/625 [==============================] - 15s 23ms/step - loss: 0.4980 - accuracy: 0.8308 - val_loss: 0.5504 - val_accuracy: 0.8161\n",
            "\n",
            "Epoch 00021: val_loss improved from 0.59844 to 0.55041, saving model to my_keras_model.h5\n",
            "Epoch 22/40\n",
            "625/625 [==============================] - 15s 24ms/step - loss: 0.4877 - accuracy: 0.8344 - val_loss: 0.5911 - val_accuracy: 0.7992\n",
            "\n",
            "Epoch 00022: val_loss did not improve from 0.55041\n",
            "Epoch 23/40\n",
            "625/625 [==============================] - 15s 23ms/step - loss: 0.4744 - accuracy: 0.8379 - val_loss: 0.5733 - val_accuracy: 0.8111\n",
            "\n",
            "Epoch 00023: val_loss did not improve from 0.55041\n",
            "Epoch 24/40\n",
            "625/625 [==============================] - 15s 23ms/step - loss: 0.4679 - accuracy: 0.8421 - val_loss: 0.6076 - val_accuracy: 0.8064\n",
            "\n",
            "Epoch 00024: val_loss did not improve from 0.55041\n",
            "Epoch 25/40\n",
            "625/625 [==============================] - 15s 23ms/step - loss: 0.4703 - accuracy: 0.8426 - val_loss: 0.5893 - val_accuracy: 0.8045\n",
            "\n",
            "Epoch 00025: val_loss did not improve from 0.55041\n",
            "Epoch 26/40\n",
            "625/625 [==============================] - 15s 24ms/step - loss: 0.4512 - accuracy: 0.8475 - val_loss: 0.6008 - val_accuracy: 0.8046\n",
            "\n",
            "Epoch 00026: val_loss did not improve from 0.55041\n",
            "\n",
            "Epoch 00026: ReduceLROnPlateau reducing learning rate to 0.00020000000949949026.\n",
            "Epoch 27/40\n",
            "625/625 [==============================] - 15s 23ms/step - loss: 0.3629 - accuracy: 0.8774 - val_loss: 0.5232 - val_accuracy: 0.8318\n",
            "\n",
            "Epoch 00027: val_loss improved from 0.55041 to 0.52319, saving model to my_keras_model.h5\n",
            "Epoch 28/40\n",
            "625/625 [==============================] - 15s 23ms/step - loss: 0.3198 - accuracy: 0.8914 - val_loss: 0.5133 - val_accuracy: 0.8391\n",
            "\n",
            "Epoch 00028: val_loss improved from 0.52319 to 0.51327, saving model to my_keras_model.h5\n",
            "Epoch 29/40\n",
            "625/625 [==============================] - 15s 24ms/step - loss: 0.3046 - accuracy: 0.8959 - val_loss: 0.5232 - val_accuracy: 0.8387\n",
            "\n",
            "Epoch 00029: val_loss did not improve from 0.51327\n",
            "Epoch 30/40\n",
            "625/625 [==============================] - 15s 24ms/step - loss: 0.2888 - accuracy: 0.8997 - val_loss: 0.5353 - val_accuracy: 0.8389\n",
            "\n",
            "Epoch 00030: val_loss did not improve from 0.51327\n",
            "Epoch 31/40\n",
            "625/625 [==============================] - 15s 24ms/step - loss: 0.2805 - accuracy: 0.9021 - val_loss: 0.5378 - val_accuracy: 0.8409\n",
            "\n",
            "Epoch 00031: val_loss did not improve from 0.51327\n",
            "Epoch 32/40\n",
            "625/625 [==============================] - 15s 24ms/step - loss: 0.2707 - accuracy: 0.9062 - val_loss: 0.5267 - val_accuracy: 0.8417\n",
            "\n",
            "Epoch 00032: val_loss did not improve from 0.51327\n",
            "Epoch 33/40\n",
            "625/625 [==============================] - 15s 24ms/step - loss: 0.2597 - accuracy: 0.9088 - val_loss: 0.5561 - val_accuracy: 0.8392\n",
            "\n",
            "Epoch 00033: val_loss did not improve from 0.51327\n",
            "\n",
            "Epoch 00033: ReduceLROnPlateau reducing learning rate to 4.0000001899898055e-05.\n",
            "Epoch 34/40\n",
            "625/625 [==============================] - 15s 24ms/step - loss: 0.2383 - accuracy: 0.9158 - val_loss: 0.5340 - val_accuracy: 0.8421\n",
            "\n",
            "Epoch 00034: val_loss did not improve from 0.51327\n",
            "Epoch 35/40\n",
            "625/625 [==============================] - 15s 24ms/step - loss: 0.2338 - accuracy: 0.9179 - val_loss: 0.5313 - val_accuracy: 0.8420\n",
            "\n",
            "Epoch 00035: val_loss did not improve from 0.51327\n",
            "Epoch 36/40\n",
            "625/625 [==============================] - 15s 24ms/step - loss: 0.2264 - accuracy: 0.9214 - val_loss: 0.5497 - val_accuracy: 0.8405\n",
            "\n",
            "Epoch 00036: val_loss did not improve from 0.51327\n",
            "Epoch 37/40\n",
            "625/625 [==============================] - 15s 24ms/step - loss: 0.2230 - accuracy: 0.9226 - val_loss: 0.5493 - val_accuracy: 0.8404\n",
            "\n",
            "Epoch 00037: val_loss did not improve from 0.51327\n",
            "Epoch 38/40\n",
            "625/625 [==============================] - 15s 24ms/step - loss: 0.2237 - accuracy: 0.9229 - val_loss: 0.5459 - val_accuracy: 0.8429\n",
            "\n",
            "Epoch 00038: val_loss did not improve from 0.51327\n",
            "\n",
            "Epoch 00038: ReduceLROnPlateau reducing learning rate to 8.000000525498762e-06.\n",
            "Epoch 39/40\n",
            "625/625 [==============================] - 15s 23ms/step - loss: 0.2180 - accuracy: 0.9238 - val_loss: 0.5478 - val_accuracy: 0.8443\n",
            "\n",
            "Epoch 00039: val_loss did not improve from 0.51327\n",
            "Epoch 40/40\n",
            "625/625 [==============================] - 15s 24ms/step - loss: 0.2132 - accuracy: 0.9252 - val_loss: 0.5474 - val_accuracy: 0.8441\n",
            "\n",
            "Epoch 00040: val_loss did not improve from 0.51327\n"
          ]
        }
      ]
    },
    {
      "cell_type": "code",
      "metadata": {
        "colab": {
          "base_uri": "https://localhost:8080/",
          "height": 283
        },
        "id": "lrwseMBJxXuk",
        "outputId": "f242c973-7d1e-4271-e2e7-c26ed05e30c6"
      },
      "source": [
        "plt.plot(history.history['accuracy'], label = 'train')\n",
        "plt.plot(history.history['val_accuracy'], label = 'valid')\n",
        "plt.legend()"
      ],
      "execution_count": null,
      "outputs": [
        {
          "output_type": "execute_result",
          "data": {
            "text/plain": [
              "<matplotlib.legend.Legend at 0x7f1084474a90>"
            ]
          },
          "metadata": {},
          "execution_count": 97
        },
        {
          "output_type": "display_data",
          "data": {
            "image/png": "[encoded data removed]",
            "text/plain": [
              "<Figure size 432x288 with 1 Axes>"
            ]
          },
          "metadata": {
            "needs_background": "light"
          }
        }
      ]
    },
    {
      "cell_type": "markdown",
      "metadata": {
        "id": "TQ0rEKQHxajn"
      },
      "source": [
        "## 테이스 데이터에서 검증"
      ]
    },
    {
      "cell_type": "code",
      "metadata": {
        "colab": {
          "base_uri": "https://localhost:8080/"
        },
        "id": "wgZdAjkAl67_",
        "outputId": "254d18f1-2fe8-4c5d-8b6c-c5d74cdb071b"
      },
      "source": [
        "predict_proba = model.predict(np.reshape(test_images[0], (-1, 32, 32, 3)))\n",
        "predict = np.argmax(predict_proba, axis=1)\n",
        "predict"
      ],
      "execution_count": null,
      "outputs": [
        {
          "output_type": "execute_result",
          "data": {
            "text/plain": [
              "array([3])"
            ]
          },
          "metadata": {},
          "execution_count": 98
        }
      ]
    },
    {
      "cell_type": "code",
      "metadata": {
        "colab": {
          "base_uri": "https://localhost:8080/"
        },
        "id": "8dC-DwuCmRJd",
        "outputId": "64dfef79-2f83-4327-8eea-b518d4bb8ef6"
      },
      "source": [
        "np.argmax(test_oh_labels, axis=1)"
      ],
      "execution_count": null,
      "outputs": [
        {
          "output_type": "execute_result",
          "data": {
            "text/plain": [
              "array([3, 8, 8, ..., 5, 1, 7])"
            ]
          },
          "metadata": {},
          "execution_count": 99
        }
      ]
    },
    {
      "cell_type": "code",
      "metadata": {
        "colab": {
          "base_uri": "https://localhost:8080/"
        },
        "id": "KfMYWjNBm0xm",
        "outputId": "3dbeab17-b3a3-416b-ad69-3f5f3b273820"
      },
      "source": [
        "model.evaluate(test_images, test_oh_labels, batch_size=64, verbose=1)"
      ],
      "execution_count": 134,
      "outputs": [
        {
          "output_type": "stream",
          "name": "stdout",
          "text": [
            "157/157 [==============================] - 2s 11ms/step - loss: 0.5359 - accuracy: 0.8332\n"
          ]
        },
        {
          "output_type": "execute_result",
          "data": {
            "text/plain": [
              "[0.5358559489250183, 0.8331999778747559]"
            ]
          },
          "metadata": {},
          "execution_count": 134
        }
      ]
    },
    {
      "cell_type": "markdown",
      "metadata": {
        "id": "NrrNC_lY6-Bp"
      },
      "source": [
        "## 필터수, 은닉층 수 증가"
      ]
    },
    {
      "cell_type": "markdown",
      "metadata": {
        "id": "4nDTu-DT7MxM"
      },
      "source": [
        "#### 모델 생성"
      ]
    },
    {
      "cell_type": "code",
      "metadata": {
        "id": "TAfFLDy37LyE"
      },
      "source": [
        "def build_extended_model():\n",
        "  tf.keras.backend.clear_session() #기존에 있던 모델 클리어\n",
        "\n",
        "  input_tensor = Input(shape = (32, 32, 3))\n",
        "  x = Conv2D(filters=32, kernel_size=(3, 3), strides=1, padding='same')(input_tensor)\n",
        "  x = BatchNormalization()(x)\n",
        "  x = Activation('relu')(x)\n",
        "  x = Conv2D(filters=64, kernel_size=(3, 3), strides=1, padding='same')(x) # valid는 패딩 False와 같음\n",
        "  x = BatchNormalization()(x)\n",
        "  x = Activation('relu')(x)\n",
        "  x = MaxPooling2D(pool_size=(2,2))(x)   ## 이런 모양새 하나를 블럭이라고 한다.\n",
        "\n",
        "\n",
        "  x = Conv2D(filters=128, kernel_size=(3, 3), strides=1, padding='same')(x)\n",
        "  x = BatchNormalization()(x)\n",
        "  x = Activation('relu')(x)\n",
        "  x = Conv2D(filters=128, kernel_size=(3, 3), strides=1, padding='same')(x) # valid는 패딩 False와 같음\n",
        "  x = BatchNormalization()(x)\n",
        "  x = Activation('relu')(x)\n",
        "  x = MaxPooling2D(pool_size=(2,2))(x)\n",
        "\n",
        "\n",
        "  x = Conv2D(filters=256, kernel_size=(3, 3), strides=1, padding='same')(x)\n",
        "  x = BatchNormalization()(x)\n",
        "  x = Activation('relu')(x)\n",
        "  x = Conv2D(filters=256, kernel_size=(3, 3), strides=1, padding='same')(x) # valid는 패딩 False와 같음\n",
        "  x = BatchNormalization()(x)\n",
        "  x = Activation('relu')(x)\n",
        "  x = MaxPooling2D(pool_size=(2,2))(x)\n",
        "\n",
        "  x = Conv2D(filters=512, kernel_size=(3, 3), strides=1, padding='same')(x) # valid는 패딩 False와 같음\n",
        "  x = BatchNormalization()(x)\n",
        "  x = Activation('relu')(x)\n",
        "  x = MaxPooling2D(pool_size=(2,2))(x)\n",
        "\n",
        "\n",
        "  #x = Conv2D(filters=256, kernel_size=(2, 2), strides=1, padding='same', activation='relu')(x)\n",
        "  #x = Conv2D(filters=256, kernel_size=(2, 2), strides=1, padding='same', activation='relu')(x) # valid는 패딩 False와 같음\n",
        "  #x = MaxPooling2D(pool_size=(2,2))(x)\n",
        "\n",
        "  print(x.shape)\n",
        "  x = Flatten()(x)\n",
        "  print(x.shape)\n",
        "  x = Dropout(0.5)(x)\n",
        "  x = Dense(300, activation='relu')(x)\n",
        "  x = Dropout(0.3)(x)\n",
        "  x = Dense(100, activation='relu')(x)\n",
        "  x = Dropout(0.3)(x)\n",
        "  output = Dense(10, activation='softmax')(x)\n",
        "\n",
        "  model = Model(inputs=input_tensor, outputs=output)\n",
        "  \n",
        "  return model"
      ],
      "execution_count": null,
      "outputs": []
    },
    {
      "cell_type": "markdown",
      "metadata": {
        "id": "KzPxoVTg9arA"
      },
      "source": [
        "### 모델 생성 및 컴파일"
      ]
    },
    {
      "cell_type": "code",
      "metadata": {
        "colab": {
          "base_uri": "https://localhost:8080/"
        },
        "id": "3A6kkZb38ohO",
        "outputId": "830d4b85-159b-4cdc-b29d-d66f6aeb7079"
      },
      "source": [
        "model = build_extended_model()"
      ],
      "execution_count": null,
      "outputs": [
        {
          "name": "stdout",
          "output_type": "stream",
          "text": [
            "(None, 2, 2, 512)\n",
            "(None, 2048)\n"
          ]
        }
      ]
    },
    {
      "cell_type": "code",
      "metadata": {
        "colab": {
          "base_uri": "https://localhost:8080/"
        },
        "id": "JwSscCel-qx2",
        "outputId": "591b2b08-11f2-4f06-8f6e-fd9d8845644e"
      },
      "source": [
        "model.summary()"
      ],
      "execution_count": null,
      "outputs": [
        {
          "name": "stdout",
          "output_type": "stream",
          "text": [
            "Model: \"model\"\n",
            "_________________________________________________________________\n",
            "Layer (type)                 Output Shape              Param #   \n",
            "=================================================================\n",
            "input_1 (InputLayer)         [(None, 32, 32, 3)]       0         \n",
            "_________________________________________________________________\n",
            "conv2d (Conv2D)              (None, 32, 32, 32)        896       \n",
            "_________________________________________________________________\n",
            "batch_normalization (BatchNo (None, 32, 32, 32)        128       \n",
            "_________________________________________________________________\n",
            "activation (Activation)      (None, 32, 32, 32)        0         \n",
            "_________________________________________________________________\n",
            "conv2d_1 (Conv2D)            (None, 32, 32, 64)        18496     \n",
            "_________________________________________________________________\n",
            "batch_normalization_1 (Batch (None, 32, 32, 64)        256       \n",
            "_________________________________________________________________\n",
            "activation_1 (Activation)    (None, 32, 32, 64)        0         \n",
            "_________________________________________________________________\n",
            "max_pooling2d (MaxPooling2D) (None, 16, 16, 64)        0         \n",
            "_________________________________________________________________\n",
            "conv2d_2 (Conv2D)            (None, 16, 16, 128)       73856     \n",
            "_________________________________________________________________\n",
            "batch_normalization_2 (Batch (None, 16, 16, 128)       512       \n",
            "_________________________________________________________________\n",
            "activation_2 (Activation)    (None, 16, 16, 128)       0         \n",
            "_________________________________________________________________\n",
            "conv2d_3 (Conv2D)            (None, 16, 16, 128)       147584    \n",
            "_________________________________________________________________\n",
            "batch_normalization_3 (Batch (None, 16, 16, 128)       512       \n",
            "_________________________________________________________________\n",
            "activation_3 (Activation)    (None, 16, 16, 128)       0         \n",
            "_________________________________________________________________\n",
            "max_pooling2d_1 (MaxPooling2 (None, 8, 8, 128)         0         \n",
            "_________________________________________________________________\n",
            "conv2d_4 (Conv2D)            (None, 8, 8, 256)         295168    \n",
            "_________________________________________________________________\n",
            "batch_normalization_4 (Batch (None, 8, 8, 256)         1024      \n",
            "_________________________________________________________________\n",
            "activation_4 (Activation)    (None, 8, 8, 256)         0         \n",
            "_________________________________________________________________\n",
            "conv2d_5 (Conv2D)            (None, 8, 8, 256)         590080    \n",
            "_________________________________________________________________\n",
            "batch_normalization_5 (Batch (None, 8, 8, 256)         1024      \n",
            "_________________________________________________________________\n",
            "activation_5 (Activation)    (None, 8, 8, 256)         0         \n",
            "_________________________________________________________________\n",
            "max_pooling2d_2 (MaxPooling2 (None, 4, 4, 256)         0         \n",
            "_________________________________________________________________\n",
            "conv2d_6 (Conv2D)            (None, 4, 4, 512)         1180160   \n",
            "_________________________________________________________________\n",
            "batch_normalization_6 (Batch (None, 4, 4, 512)         2048      \n",
            "_________________________________________________________________\n",
            "activation_6 (Activation)    (None, 4, 4, 512)         0         \n",
            "_________________________________________________________________\n",
            "max_pooling2d_3 (MaxPooling2 (None, 2, 2, 512)         0         \n",
            "_________________________________________________________________\n",
            "flatten (Flatten)            (None, 2048)              0         \n",
            "_________________________________________________________________\n",
            "dropout (Dropout)            (None, 2048)              0         \n",
            "_________________________________________________________________\n",
            "dense (Dense)                (None, 300)               614700    \n",
            "_________________________________________________________________\n",
            "dropout_1 (Dropout)          (None, 300)               0         \n",
            "_________________________________________________________________\n",
            "dense_1 (Dense)              (None, 100)               30100     \n",
            "_________________________________________________________________\n",
            "dropout_2 (Dropout)          (None, 100)               0         \n",
            "_________________________________________________________________\n",
            "dense_2 (Dense)              (None, 10)                1010      \n",
            "=================================================================\n",
            "Total params: 2,957,554\n",
            "Trainable params: 2,954,802\n",
            "Non-trainable params: 2,752\n",
            "_________________________________________________________________\n"
          ]
        }
      ]
    },
    {
      "cell_type": "code",
      "metadata": {
        "id": "JA66M1AT9cZp"
      },
      "source": [
        "model.compile(optimizer=Adam(0.001), loss='categorical_crossentropy', metrics=['accuracy']) "
      ],
      "execution_count": null,
      "outputs": []
    },
    {
      "cell_type": "markdown",
      "metadata": {
        "id": "_KQ9NIkL_Hoq"
      },
      "source": [
        "#### callback정의"
      ]
    },
    {
      "cell_type": "code",
      "metadata": {
        "id": "rD2GWZ2g9yVn"
      },
      "source": [
        "checkpoint_cb = ModelCheckpoint(\"my_keras_model.h5\", save_best_only=True, verbose=1) \n",
        "early_stopping_cb = EarlyStopping(patience=10, restore_best_weights=True)\n",
        "reducelr_cb = ReduceLROnPlateau(monitor='val_loss', factor=0.2, patience=5, mode='min', verbose=1)"
      ],
      "execution_count": null,
      "outputs": []
    },
    {
      "cell_type": "markdown",
      "metadata": {
        "id": "cUuHelC0_RgK"
      },
      "source": [
        "### 모델 학습"
      ]
    },
    {
      "cell_type": "code",
      "metadata": {
        "colab": {
          "base_uri": "https://localhost:8080/"
        },
        "id": "xYkBo9oM-J5Q",
        "outputId": "336d9433-df8f-4d17-bc6f-3a2a8c817215"
      },
      "source": [
        "history = model.fit(x=train_images, y=train_oh_labels, validation_data=(test_images, test_oh_labels), epochs=40, batch_size=32, callbacks=[checkpoint_cb, reducelr_cb]) "
      ],
      "execution_count": null,
      "outputs": [
        {
          "name": "stdout",
          "output_type": "stream",
          "text": [
            "Epoch 1/40\n",
            "1563/1563 [==============================] - 50s 31ms/step - loss: 1.6673 - accuracy: 0.3826 - val_loss: 1.5569 - val_accuracy: 0.4247\n",
            "\n",
            "Epoch 00001: val_loss improved from inf to 1.55687, saving model to my_keras_model.h5\n",
            "Epoch 2/40\n",
            "1563/1563 [==============================] - 47s 30ms/step - loss: 1.1372 - accuracy: 0.6077 - val_loss: 1.1376 - val_accuracy: 0.6145\n",
            "\n",
            "Epoch 00002: val_loss improved from 1.55687 to 1.13758, saving model to my_keras_model.h5\n",
            "Epoch 3/40\n",
            "1563/1563 [==============================] - 47s 30ms/step - loss: 0.9091 - accuracy: 0.6951 - val_loss: 0.9000 - val_accuracy: 0.6973\n",
            "\n",
            "Epoch 00003: val_loss improved from 1.13758 to 0.89999, saving model to my_keras_model.h5\n",
            "Epoch 4/40\n",
            "1563/1563 [==============================] - 47s 30ms/step - loss: 0.7609 - accuracy: 0.7479 - val_loss: 0.7147 - val_accuracy: 0.7615\n",
            "\n",
            "Epoch 00004: val_loss improved from 0.89999 to 0.71466, saving model to my_keras_model.h5\n",
            "Epoch 5/40\n",
            "1563/1563 [==============================] - 47s 30ms/step - loss: 0.6520 - accuracy: 0.7888 - val_loss: 0.7699 - val_accuracy: 0.7482\n",
            "\n",
            "Epoch 00005: val_loss did not improve from 0.71466\n",
            "Epoch 6/40\n",
            "1563/1563 [==============================] - 47s 30ms/step - loss: 0.5653 - accuracy: 0.8165 - val_loss: 0.6332 - val_accuracy: 0.7964\n",
            "\n",
            "Epoch 00006: val_loss improved from 0.71466 to 0.63316, saving model to my_keras_model.h5\n",
            "Epoch 7/40\n",
            "1563/1563 [==============================] - 47s 30ms/step - loss: 0.4920 - accuracy: 0.8397 - val_loss: 0.6382 - val_accuracy: 0.7915\n",
            "\n",
            "Epoch 00007: val_loss did not improve from 0.63316\n",
            "Epoch 8/40\n",
            "1563/1563 [==============================] - 49s 31ms/step - loss: 0.4311 - accuracy: 0.8613 - val_loss: 0.7049 - val_accuracy: 0.7636\n",
            "\n",
            "Epoch 00008: val_loss did not improve from 0.63316\n",
            "Epoch 9/40\n",
            "1563/1563 [==============================] - 47s 30ms/step - loss: 0.3751 - accuracy: 0.8800 - val_loss: 0.6329 - val_accuracy: 0.7954\n",
            "\n",
            "Epoch 00009: val_loss improved from 0.63316 to 0.63294, saving model to my_keras_model.h5\n",
            "Epoch 10/40\n",
            "1563/1563 [==============================] - 47s 30ms/step - loss: 0.3248 - accuracy: 0.8959 - val_loss: 0.6150 - val_accuracy: 0.8010\n",
            "\n",
            "Epoch 00010: val_loss improved from 0.63294 to 0.61497, saving model to my_keras_model.h5\n",
            "Epoch 11/40\n",
            "1563/1563 [==============================] - 47s 30ms/step - loss: 0.2902 - accuracy: 0.9079 - val_loss: 0.5459 - val_accuracy: 0.8390\n",
            "\n",
            "Epoch 00011: val_loss improved from 0.61497 to 0.54588, saving model to my_keras_model.h5\n",
            "Epoch 12/40\n",
            "1563/1563 [==============================] - 47s 30ms/step - loss: 0.2500 - accuracy: 0.9210 - val_loss: 0.6237 - val_accuracy: 0.8174\n",
            "\n",
            "Epoch 00012: val_loss did not improve from 0.54588\n",
            "Epoch 13/40\n",
            "1563/1563 [==============================] - 47s 30ms/step - loss: 0.2278 - accuracy: 0.9286 - val_loss: 0.7455 - val_accuracy: 0.7886\n",
            "\n",
            "Epoch 00013: val_loss did not improve from 0.54588\n",
            "Epoch 14/40\n",
            "1563/1563 [==============================] - 47s 30ms/step - loss: 0.1985 - accuracy: 0.9386 - val_loss: 0.6982 - val_accuracy: 0.8329\n",
            "\n",
            "Epoch 00014: val_loss did not improve from 0.54588\n",
            "Epoch 15/40\n",
            "1563/1563 [==============================] - 47s 30ms/step - loss: 0.1785 - accuracy: 0.9449 - val_loss: 0.6521 - val_accuracy: 0.8266\n",
            "\n",
            "Epoch 00015: val_loss did not improve from 0.54588\n",
            "Epoch 16/40\n",
            "1563/1563 [==============================] - 47s 30ms/step - loss: 0.1577 - accuracy: 0.9515 - val_loss: 0.6140 - val_accuracy: 0.8232\n",
            "\n",
            "Epoch 00016: val_loss did not improve from 0.54588\n",
            "\n",
            "Epoch 00016: ReduceLROnPlateau reducing learning rate to 0.00020000000949949026.\n",
            "Epoch 17/40\n",
            "1563/1563 [==============================] - 47s 30ms/step - loss: 0.0783 - accuracy: 0.9768 - val_loss: 0.5350 - val_accuracy: 0.8747\n",
            "\n",
            "Epoch 00017: val_loss improved from 0.54588 to 0.53497, saving model to my_keras_model.h5\n",
            "Epoch 18/40\n",
            "1563/1563 [==============================] - 47s 30ms/step - loss: 0.0510 - accuracy: 0.9842 - val_loss: 0.6276 - val_accuracy: 0.8733\n",
            "\n",
            "Epoch 00018: val_loss did not improve from 0.53497\n",
            "Epoch 19/40\n",
            "1563/1563 [==============================] - 47s 30ms/step - loss: 0.0406 - accuracy: 0.9879 - val_loss: 0.7091 - val_accuracy: 0.8711\n",
            "\n",
            "Epoch 00019: val_loss did not improve from 0.53497\n",
            "Epoch 20/40\n",
            "1563/1563 [==============================] - 47s 30ms/step - loss: 0.0312 - accuracy: 0.9904 - val_loss: 0.7133 - val_accuracy: 0.8767\n",
            "\n",
            "Epoch 00020: val_loss did not improve from 0.53497\n",
            "Epoch 21/40\n",
            "1563/1563 [==============================] - 47s 30ms/step - loss: 0.0289 - accuracy: 0.9911 - val_loss: 0.7405 - val_accuracy: 0.8734\n",
            "\n",
            "Epoch 00021: val_loss did not improve from 0.53497\n",
            "Epoch 22/40\n",
            "1563/1563 [==============================] - 47s 30ms/step - loss: 0.0247 - accuracy: 0.9924 - val_loss: 0.8175 - val_accuracy: 0.8713\n",
            "\n",
            "Epoch 00022: val_loss did not improve from 0.53497\n",
            "\n",
            "Epoch 00022: ReduceLROnPlateau reducing learning rate to 4.0000001899898055e-05.\n",
            "Epoch 23/40\n",
            "1563/1563 [==============================] - 49s 32ms/step - loss: 0.0169 - accuracy: 0.9948 - val_loss: 0.7767 - val_accuracy: 0.8782\n",
            "\n",
            "Epoch 00023: val_loss did not improve from 0.53497\n",
            "Epoch 24/40\n",
            "1563/1563 [==============================] - 47s 30ms/step - loss: 0.0127 - accuracy: 0.9962 - val_loss: 0.8093 - val_accuracy: 0.8788\n",
            "\n",
            "Epoch 00024: val_loss did not improve from 0.53497\n",
            "Epoch 25/40\n",
            "1563/1563 [==============================] - 47s 30ms/step - loss: 0.0128 - accuracy: 0.9964 - val_loss: 0.8615 - val_accuracy: 0.8792\n",
            "\n",
            "Epoch 00025: val_loss did not improve from 0.53497\n",
            "Epoch 26/40\n",
            "1563/1563 [==============================] - 47s 30ms/step - loss: 0.0107 - accuracy: 0.9967 - val_loss: 0.8733 - val_accuracy: 0.8793\n",
            "\n",
            "Epoch 00026: val_loss did not improve from 0.53497\n",
            "Epoch 27/40\n",
            "1563/1563 [==============================] - 47s 30ms/step - loss: 0.0100 - accuracy: 0.9969 - val_loss: 0.8904 - val_accuracy: 0.8802\n",
            "\n",
            "Epoch 00027: val_loss did not improve from 0.53497\n",
            "\n",
            "Epoch 00027: ReduceLROnPlateau reducing learning rate to 8.000000525498762e-06.\n",
            "Epoch 28/40\n",
            "1563/1563 [==============================] - 47s 30ms/step - loss: 0.0090 - accuracy: 0.9973 - val_loss: 0.8902 - val_accuracy: 0.8804\n",
            "\n",
            "Epoch 00028: val_loss did not improve from 0.53497\n",
            "Epoch 29/40\n",
            "1563/1563 [==============================] - 47s 30ms/step - loss: 0.0087 - accuracy: 0.9973 - val_loss: 0.8889 - val_accuracy: 0.8805\n",
            "\n",
            "Epoch 00029: val_loss did not improve from 0.53497\n",
            "Epoch 30/40\n",
            "1563/1563 [==============================] - 47s 30ms/step - loss: 0.0078 - accuracy: 0.9976 - val_loss: 0.8867 - val_accuracy: 0.8808\n",
            "\n",
            "Epoch 00030: val_loss did not improve from 0.53497\n",
            "Epoch 31/40\n",
            "1563/1563 [==============================] - 47s 30ms/step - loss: 0.0090 - accuracy: 0.9969 - val_loss: 0.8914 - val_accuracy: 0.8815\n",
            "\n",
            "Epoch 00031: val_loss did not improve from 0.53497\n",
            "Epoch 32/40\n",
            "1563/1563 [==============================] - 47s 30ms/step - loss: 0.0081 - accuracy: 0.9973 - val_loss: 0.9101 - val_accuracy: 0.8814\n",
            "\n",
            "Epoch 00032: val_loss did not improve from 0.53497\n",
            "\n",
            "Epoch 00032: ReduceLROnPlateau reducing learning rate to 1.6000001778593287e-06.\n",
            "Epoch 33/40\n",
            "1563/1563 [==============================] - 50s 32ms/step - loss: 0.0068 - accuracy: 0.9978 - val_loss: 0.9094 - val_accuracy: 0.8810\n",
            "\n",
            "Epoch 00033: val_loss did not improve from 0.53497\n",
            "Epoch 34/40\n",
            "1563/1563 [==============================] - 47s 30ms/step - loss: 0.0068 - accuracy: 0.9978 - val_loss: 0.9111 - val_accuracy: 0.8816\n",
            "\n",
            "Epoch 00034: val_loss did not improve from 0.53497\n",
            "Epoch 35/40\n",
            "1563/1563 [==============================] - 50s 32ms/step - loss: 0.0074 - accuracy: 0.9975 - val_loss: 0.9184 - val_accuracy: 0.8810\n",
            "\n",
            "Epoch 00035: val_loss did not improve from 0.53497\n",
            "Epoch 36/40\n",
            "1563/1563 [==============================] - 47s 30ms/step - loss: 0.0079 - accuracy: 0.9976 - val_loss: 0.9131 - val_accuracy: 0.8814\n",
            "\n",
            "Epoch 00036: val_loss did not improve from 0.53497\n",
            "Epoch 37/40\n",
            "1563/1563 [==============================] - 47s 30ms/step - loss: 0.0079 - accuracy: 0.9977 - val_loss: 0.9173 - val_accuracy: 0.8812\n",
            "\n",
            "Epoch 00037: val_loss did not improve from 0.53497\n",
            "\n",
            "Epoch 00037: ReduceLROnPlateau reducing learning rate to 3.200000264769187e-07.\n",
            "Epoch 38/40\n",
            "1563/1563 [==============================] - 47s 30ms/step - loss: 0.0079 - accuracy: 0.9974 - val_loss: 0.9112 - val_accuracy: 0.8812\n",
            "\n",
            "Epoch 00038: val_loss did not improve from 0.53497\n",
            "Epoch 39/40\n",
            "1563/1563 [==============================] - 47s 30ms/step - loss: 0.0073 - accuracy: 0.9976 - val_loss: 0.9157 - val_accuracy: 0.8808\n",
            "\n",
            "Epoch 00039: val_loss did not improve from 0.53497\n",
            "Epoch 40/40\n",
            "1563/1563 [==============================] - 47s 30ms/step - loss: 0.0072 - accuracy: 0.9978 - val_loss: 0.9227 - val_accuracy: 0.8813\n",
            "\n",
            "Epoch 00040: val_loss did not improve from 0.53497\n"
          ]
        }
      ]
    },
    {
      "cell_type": "code",
      "metadata": {
        "colab": {
          "base_uri": "https://localhost:8080/",
          "height": 283
        },
        "id": "UvC7BwxD_Uie",
        "outputId": "6e0e6857-77c6-48a3-add7-fe8920a0a26f"
      },
      "source": [
        "plt.plot(history.history['accuracy'], label = 'train')\n",
        "plt.plot(history.history['val_accuracy'], label = 'valid')\n",
        "plt.legend()"
      ],
      "execution_count": 141,
      "outputs": [
        {
          "output_type": "execute_result",
          "data": {
            "text/plain": [
              "<matplotlib.legend.Legend at 0x7f103993c950>"
            ]
          },
          "metadata": {},
          "execution_count": 141
        },
        {
          "output_type": "display_data",
          "data": {
            "image/png": "[encoded data removed]",
            "text/plain": [
              "<Figure size 432x288 with 1 Axes>"
            ]
          },
          "metadata": {
            "needs_background": "light"
          }
        }
      ]
    },
    {
      "cell_type": "markdown",
      "metadata": {
        "id": "Y0CRqkB8AahN"
      },
      "source": [
        "### 테스트 에서 평가"
      ]
    },
    {
      "cell_type": "code",
      "metadata": {
        "colab": {
          "base_uri": "https://localhost:8080/"
        },
        "id": "84_lcJGjAb1l",
        "outputId": "7af14a8d-ec33-457b-e08a-0879b2ceec53"
      },
      "source": [
        "model.evaluate(test_images, test_oh_labels, batch_size=64, verbose=1)"
      ],
      "execution_count": 142,
      "outputs": [
        {
          "output_type": "stream",
          "name": "stdout",
          "text": [
            "157/157 [==============================] - 2s 9ms/step - loss: 0.5885 - accuracy: 0.8409\n"
          ]
        },
        {
          "output_type": "execute_result",
          "data": {
            "text/plain": [
              "[0.5885376334190369, 0.8409000039100647]"
            ]
          },
          "metadata": {},
          "execution_count": 142
        }
      ]
    },
    {
      "cell_type": "markdown",
      "metadata": {
        "id": "Ecm0d-UnAkaT"
      },
      "source": [
        "오버 피팅요소는 dropout, global avarge pooling, data_augementation으로 억제할 수 있다."
      ]
    },
    {
      "cell_type": "code",
      "metadata": {
        "id": "i_eYNxbiKaOY"
      },
      "source": [
        ""
      ],
      "execution_count": null,
      "outputs": []
    }
  ]
}