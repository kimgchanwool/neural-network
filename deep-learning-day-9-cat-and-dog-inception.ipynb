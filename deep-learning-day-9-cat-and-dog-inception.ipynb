{
 "cells": [
  {
   "cell_type": "markdown",
   "metadata": {
    "id": "7a56b757"
   },
   "source": [
    "# Cat and Dog DataSet"
   ]
  },
  {
   "cell_type": "markdown",
   "metadata": {
    "id": "501c1661"
   },
   "source": [
    "- Cats and Dogs dataset to train a DL model\n",
    "- [캐글](https://www.kaggle.com)의 [Cat and Dog](https://www.kaggle.com/tongpython/cat-and-dog)\n"
   ]
  },
  {
   "cell_type": "markdown",
   "metadata": {
    "id": "9b0709c3"
   },
   "source": [
    "## Import"
   ]
  },
  {
   "cell_type": "code",
   "execution_count": null,
   "metadata": {
    "id": "247b5fcb"
   },
   "outputs": [],
   "source": [
    "import numpy as np\n",
    "import pandas as pd\n",
    "import matplotlib.pyplot as plt\n",
    "import tensorflow as tf\n",
    "import cv2\n",
    "import glob"
   ]
  },
  {
   "cell_type": "code",
   "execution_count": null,
   "metadata": {
    "id": "a6ca727f"
   },
   "outputs": [],
   "source": [
    "np.random.seed(42)\n",
    "tf.random.set_seed(42)"
   ]
  },
  {
   "cell_type": "code",
   "execution_count": null,
   "metadata": {
    "id": "GSkrmPagA-Rp",
    "outputId": "09395f21-53d3-4b15-f313-185259cb88ec"
   },
   "outputs": [],
   "source": [
    "from google.colab import drive\n",
    "drive.mount('/content/drive')"
   ]
  },
  {
   "cell_type": "code",
   "execution_count": null,
   "metadata": {
    "id": "5d73PF_gDKzW"
   },
   "outputs": [],
   "source": [
    "!unzip -q -d 'cat_and_dog' '/content/drive/MyDrive/archive.zip'"
   ]
  },
  {
   "cell_type": "code",
   "execution_count": null,
   "metadata": {
    "id": "CJUv8oskEDIy",
    "outputId": "1808eab6-fd81-48b9-9a7c-e39f731e0487"
   },
   "outputs": [],
   "source": [
    "!ls"
   ]
  },
  {
   "cell_type": "markdown",
   "metadata": {
    "id": "0dff6460"
   },
   "source": [
    "## load Data"
   ]
  },
  {
   "cell_type": "code",
   "execution_count": null,
   "metadata": {
    "id": "8e5e5a48",
    "outputId": "708f70a1-c863-48a5-be23-5b0f7ad8f5ec"
   },
   "outputs": [],
   "source": [
    "## in training_set directory\n",
    "training_cats = glob.glob('./cat_and_dog/training_set/training_set/cats/*.jpg')\n",
    "training_dogs = glob.glob('./cat_and_dog/training_set/training_set/dogs/*.jpg')\n",
    "\n",
    "print(len(training_cats), len(training_dogs))"
   ]
  },
  {
   "cell_type": "code",
   "execution_count": null,
   "metadata": {
    "id": "9319a738",
    "outputId": "782bf4f5-6584-47ac-a74c-31f1c0d0880e"
   },
   "outputs": [],
   "source": [
    "## in test_set directory\n",
    "test_cats = glob.glob('./cat_and_dog/test_set/test_set/cats/*.jpg')\n",
    "test_dogs = glob.glob('./cat_and_dog/test_set/test_set/dogs/*.jpg')\n",
    "\n",
    "print(len(test_cats), len(test_dogs))"
   ]
  },
  {
   "cell_type": "code",
   "execution_count": null,
   "metadata": {
    "id": "f9269636",
    "outputId": "36692b10-c593-4291-de3a-3219c15106f6"
   },
   "outputs": [],
   "source": [
    "fig, axes = plt.subplots(nrows=1, ncols=4, figsize=(22, 6))\n",
    "dog_images = training_dogs[:4]\n",
    "for i in range(4):\n",
    "    image = cv2.cvtColor(cv2.imread(dog_images[i]), cv2.COLOR_BGR2RGB)\n",
    "    axes[i].imshow(image)\n",
    "    \n",
    "fig, axes = plt.subplots(nrows=1, ncols=4, figsize=(22, 6))\n",
    "cat_images = training_cats[:4]\n",
    "for i in range(4):\n",
    "    image = cv2.cvtColor(cv2.imread(cat_images[i]), cv2.COLOR_BGR2RGB)\n",
    "    axes[i].imshow(image)"
   ]
  },
  {
   "cell_type": "markdown",
   "metadata": {
    "id": "b8a048fa"
   },
   "source": [
    "## Preprocess Data (from dataframe)"
   ]
  },
  {
   "cell_type": "code",
   "execution_count": null,
   "metadata": {
    "id": "2790a6a7"
   },
   "outputs": [],
   "source": [
    "from tensorflow.keras.preprocessing.image import ImageDataGenerator\n",
    "from tensorflow.keras.utils import to_categorical\n",
    "from tensorflow.keras.datasets import cifar10\n",
    "from tensorflow.keras.layers import Input, Flatten, Dense\n",
    "from tensorflow.keras.models import Model\n",
    "\n",
    "from tensorflow.keras.optimizers import SGD, Adam\n",
    "from tensorflow.keras.losses import CategoricalCrossentropy\n",
    "from tensorflow.keras.metrics import Accuracy\n",
    "from tensorflow.keras.models import Sequential\n",
    "from tensorflow.keras.layers import Input, Conv2D, MaxPooling2D, Dropout, MaxPooling3D, BatchNormalization, Activation"
   ]
  },
  {
   "cell_type": "code",
   "execution_count": null,
   "metadata": {
    "id": "de5536e4",
    "outputId": "3d633f14-0771-4c0a-8b8e-9284c02ba556"
   },
   "outputs": [],
   "source": [
    "test_cats[:3] # only file name"
   ]
  },
  {
   "cell_type": "code",
   "execution_count": null,
   "metadata": {
    "id": "6O0WlvO1SOo9"
   },
   "outputs": [],
   "source": [
    "training_cats\n",
    "training_dogs\n",
    "#############\n",
    "test_cats\n",
    "test_dogs"
   ]
  },
  {
   "cell_type": "code",
   "execution_count": null,
   "metadata": {
    "id": "S4iKeyzUTSjz"
   },
   "outputs": [],
   "source": [
    "train_paths = training_cats + training_dogs\n",
    "train_labels = ['CAT' for _ in range(len(training_cats))] + ['DOG' for _ in range(len(training_dogs))]\n",
    "\n",
    "pd.set_option('display.max_colwidth', 200) # 200글자 제한"
   ]
  },
  {
   "cell_type": "code",
   "execution_count": null,
   "metadata": {
    "id": "dNYdStQ7Tw0B",
    "outputId": "63831ce5-fc82-498a-ec23-178eee418f0c"
   },
   "outputs": [],
   "source": [
    "train_df = pd.DataFrame({'path':train_paths, 'label':train_labels})"
   ]
  },
  {
   "cell_type": "code",
   "execution_count": null,
   "metadata": {
    "id": "-tLS5cAjTO-y"
   },
   "outputs": [],
   "source": [
    "training_cats[:5] + training_dogs[:5]"
   ]
  },
  {
   "cell_type": "code",
   "execution_count": null,
   "metadata": {
    "id": "23d7fd06",
    "outputId": "4c9d1f72-6c3c-4e1b-d6b1-9dff22ab179a"
   },
   "outputs": [],
   "source": [
    "BATCH_SIZE = 32\n",
    "train_generator = ImageDataGenerator(horizontal_flip = True, rescale=1/255.0) #Scale 조정 scale을 재조정하는데 255.0으로 나눌 것이다.\n",
    "train_generator_iterator = train_generator.flow_from_directory(directory='./cat_and_dog/training_set/training_set', target_size=(224, 224), batch_size=BATCH_SIZE, class_mode='binary') #binary label Encoding\n",
    "\n",
    "# categorical, sparse, binary로 label을 encoding하는 것에 따라 loss도 바뀐다. ~~~_crossentropy 이런 모습의 loss"
   ]
  },
  {
   "cell_type": "code",
   "execution_count": null,
   "metadata": {
    "id": "uSor_CvRQEci",
    "outputId": "666fc961-9793-4583-8913-06ab1e9c3095"
   },
   "outputs": [],
   "source": [
    "test_generator = ImageDataGenerator(rescale=1/255.0)\n",
    "test_generator_iterator = train_generator.flow_from_directory(directory='./cat_and_dog/test_set/test_set', target_size=(224, 224), batch_size=BATCH_SIZE, class_mode='binary')"
   ]
  },
  {
   "cell_type": "markdown",
   "metadata": {
    "id": "b294be58"
   },
   "source": [
    "* fetch some data"
   ]
  },
  {
   "cell_type": "code",
   "execution_count": null,
   "metadata": {
    "id": "52368ea7"
   },
   "outputs": [],
   "source": [
    "image_array, label_array = next(train_generator_iterator)"
   ]
  },
  {
   "cell_type": "code",
   "execution_count": null,
   "metadata": {
    "id": "8b3653e1",
    "outputId": "d5e05db7-2d1d-4805-c262-e1a4435f77a0"
   },
   "outputs": [],
   "source": [
    "image_array.shape"
   ]
  },
  {
   "cell_type": "code",
   "execution_count": null,
   "metadata": {
    "id": "0bf7e39b"
   },
   "outputs": [],
   "source": [
    "from tensorflow.keras.layers import Input, Conv2D, MaxPooling2D, Dropout, MaxPooling3D, BatchNormalization, Activation, GlobalAveragePooling2D\n",
    "from tensorflow.keras.layers import Conv2D, Dense, Flatten,  MaxPooling2D, Concatenate"
   ]
  },
  {
   "cell_type": "code",
   "execution_count": null,
   "metadata": {},
   "outputs": [],
   "source": [
    "def inception_module(x, filters_1x1, filters_3x3_reduce, filters_3x3, filters_5x5_reduce, filters_5x5, filters_pool, name='None'): #인셉션 모듈 구현\n",
    "\n",
    "    # 첫번째 1X1 Conv\n",
    "    conv_1x1 = Conv2D(filters_1x1, (1, 1), padding='same', activation='relu')(x)\n",
    "    \n",
    "    # 3X3 적용전 1X1 Conv\n",
    "    conv_3x3 = Conv2D(filters_3x3_reduce, (1, 1), padding='same', activation='relu')(x)\n",
    "    conv_3x3 = Conv2D(filters_3x3, (3, 3), padding='same', activation='relu')(conv_3x3)\n",
    "    \n",
    "    # 5X5 적용전 1X1 Conv\n",
    "    conv_5x5 = Conv2D(filters_5x5_reduce, (1, 1), padding='same', activation='relu')(x)\n",
    "    conv_5x5 = Conv2D(filters_5x5, (5, 5), padding='same', activation='relu')(conv_5x5)\n",
    "    \n",
    "    # Max Pooling\n",
    "    pool = MaxPooling2D((3, 3), strides=(1, 1), padding='same')(x)\n",
    "    pool = Conv2D(filters_pool, (1,1), padding='same', activation='relu')(pool)\n",
    "    \n",
    "    # Concatenate\n",
    "    # axis0 : batch_size, axis1 : height, axis2 : widths, axis3 : depth\n",
    "    output = Concatenate(axis=-1, name=name)([conv_1x1, conv_3x3, conv_5x5, pool]) #aixs-1  = axis3\n",
    "    \n",
    "    return output #인셉션 모듈 안에서만 6개의 데이터 처리가 들어가지만 이게 하나로 쓰임"
   ]
  },
  {
   "cell_type": "code",
   "execution_count": null,
   "metadata": {
    "id": "dbf28358"
   },
   "outputs": [],
   "source": [
    "def build_GoogLeNet():\n",
    "    input_tensor = Input(shape=(224, 224, 3))\n",
    "    x = Conv2D(filters=64, kernel_size=(7, 7), padding='same', strides=(2, 2), activation='relu')(input_tensor)\n",
    "\n",
    "    x = MaxPooling2D(pool_size=(3, 3), padding='same', strides=(2, 2))(x)\n",
    "\n",
    "    x = Conv2D(filters=64, kernel_size=(1, 1), padding='same', strides=(2, 2), activation='relu')(x)\n",
    "    x = Conv2D(filters=192, kernel_size=(3, 3), padding='same', strides=(2, 2), activation='relu')(x)\n",
    "\n",
    "    x = MaxPooling2D(pool_size=(3, 3), padding='same', strides=(2, 2))(x)\n",
    "\n",
    "    # 인셉션 모듈 3a\n",
    "    x = inception_module(x, filters_1x1=64, filters_3x3_reduce=96, filters_3x3=128,\n",
    "                         filters_5x5_reduce=16, filters_5x5=32, filters_pool=32, name='inception_3a')\n",
    "    # 인셉션 모듈 3b\n",
    "    x = inception_module(x, 128, 128, 192, 32, 96, 64, name='inception_3b')\n",
    "\n",
    "    x = MaxPooling2D(pool_size=(3, 3), padding='same', strides=(2, 2))(x)\n",
    "\n",
    "    # 인셉션 모듈 4a\n",
    "    x = inception_module(x, 192, 96, 208, 16, 48, 64, name='inception_4a')\n",
    "    # 인셉션 모듈 4b\n",
    "    x = inception_module(x, 160, 112, 224, 24, 64, 64, name='inception_4b')\n",
    "    # 인셉션 모듈 4c\n",
    "    x = inception_module(x, 128, 128, 256, 24, 64, 64, name='inception_4c')\n",
    "    # 인셉션 모듈 4d\n",
    "    x = inception_module(x, 112, 144, 288, 32, 64, 64, name='inception_4d')\n",
    "    # 인셉션 모듈 4e\n",
    "    x = inception_module(x, 256, 160, 320, 32, 128, 128, name='inception_4e')\n",
    "\n",
    "    x = MaxPooling2D(pool_size=(3, 3), padding='same', strides=(2, 2))(x)\n",
    "\n",
    "    # 인셉션 모듈 5a\n",
    "    x = inception_module(x, 256, 160, 320, 32, 128, 128, name='inception_5a')\n",
    "    # 인셉션 모듈 5a\n",
    "    x = inception_module(x, 384, 192, 384, 48, 128, 128, name='inception_5b')\n",
    "\n",
    "    x = GlobalAveragePooling2D()(x)\n",
    "    x = Dropout(0.4)(x)\n",
    "    output = Dense(1, activation=\"sigmoid\")(x)\n",
    "\n",
    "    model = Model(inputs=input_tensor, outputs=output)\n",
    "    model.summary()\n",
    "    return model"
   ]
  },
  {
   "cell_type": "code",
   "execution_count": null,
   "metadata": {
    "id": "8f9dc15b"
   },
   "outputs": [],
   "source": [
    "model = build_GoogLeNet()"
   ]
  },
  {
   "cell_type": "markdown",
   "metadata": {
    "id": "UxIQy25WESSL"
   },
   "source": [
    "### Compile Model, Train"
   ]
  },
  {
   "cell_type": "code",
   "execution_count": null,
   "metadata": {
    "id": "925d485e",
    "outputId": "c9d5c450-2d0d-4bf7-a065-67307fbf65a7"
   },
   "outputs": [],
   "source": [
    "model.compile(optimizer=Adam(), loss='binary_crossentropy', metrics=['accuracy'])\n",
    "history = model.fit(train_generator_iterator, epochs=30)"
   ]
  },
  {
   "cell_type": "code",
   "execution_count": null,
   "metadata": {
    "id": "8gqJ8VYaGJEj"
   },
   "outputs": [],
   "source": [
    "model.evaluate(test_generator_iterator)"
   ]
  }
 ],
 "metadata": {
  "kernelspec": {
   "display_name": "Python 3",
   "language": "python",
   "name": "python3"
  },
  "language_info": {
   "codemirror_mode": {
    "name": "ipython",
    "version": 3
   },
   "file_extension": ".py",
   "mimetype": "text/x-python",
   "name": "python",
   "nbconvert_exporter": "python",
   "pygments_lexer": "ipython3",
   "version": "3.8.8"
  }
 },
 "nbformat": 4,
 "nbformat_minor": 4
}
