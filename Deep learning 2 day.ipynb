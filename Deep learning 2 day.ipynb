{
 "cells": [
  {
   "cell_type": "code",
   "execution_count": 4,
   "id": "4f0d30dd",
   "metadata": {},
   "outputs": [],
   "source": [
    "import numpy as np\n",
    "import matplotlib.pylab as plt"
   ]
  },
  {
   "cell_type": "markdown",
   "id": "f78823f0",
   "metadata": {},
   "source": [
    "# 퍼셉트론 (간단한 논리 회로)"
   ]
  },
  {
   "cell_type": "code",
   "execution_count": 6,
   "id": "9f119c67",
   "metadata": {},
   "outputs": [],
   "source": [
    "def AND(x1, x2):\n",
    "    x = np.array([x1, x2])\n",
    "    w = np.array([0.5, 0.5])\n",
    "    b = -0.7\n",
    "    tmp = np.sum(w * x) + b\n",
    "    if tmp <= 0:\n",
    "        return 0\n",
    "    else:\n",
    "        return 1\n",
    "def OR(x1, x2):\n",
    "    x = np.array([x1, x2])\n",
    "    w = np.array([0.5, 0.5])\n",
    "    b = -0.3\n",
    "    tmp = np.sum(w * x) + b\n",
    "    if tmp <= 0:\n",
    "        return 0\n",
    "    else:\n",
    "        return 1    \n",
    "def NAND(x1, x2):\n",
    "    x = np.array([x1, x2])\n",
    "    w = np.array([-0.5, -0.5])\n",
    "    b = 0.7\n",
    "    tmp = np.sum(w * x) + b\n",
    "    if tmp <= 0:\n",
    "        return 0\n",
    "    else:\n",
    "        return 1\n",
    "\n",
    "def XOR(x1, x2):\n",
    "    s1 = NAND(x1, x2)\n",
    "    s2 = OR(x1, x2)\n",
    "    y = AND(s1, s2)\n",
    "    return y"
   ]
  },
  {
   "cell_type": "markdown",
   "id": "b05bcc72",
   "metadata": {},
   "source": [
    "# 신경망\n",
    "\n",
    "## 활성화 함수"
   ]
  },
  {
   "cell_type": "code",
   "execution_count": 7,
   "id": "c13c993e",
   "metadata": {},
   "outputs": [],
   "source": [
    "def step_function(x):\n",
    "    return np.array(x > 0, dtype=np.int32)"
   ]
  },
  {
   "cell_type": "code",
   "execution_count": 12,
   "id": "d48aa573",
   "metadata": {},
   "outputs": [
    {
     "data": {
      "text/plain": [
       "(-0.1, 1.1)"
      ]
     },
     "execution_count": 12,
     "metadata": {},
     "output_type": "execute_result"
    },
    {
     "data": {
      "image/png": "[encoded data removed]",
      "text/plain": [
       "<Figure size 432x288 with 1 Axes>"
      ]
     },
     "metadata": {
      "needs_background": "light"
     },
     "output_type": "display_data"
    }
   ],
   "source": [
    "X = np.arange(-5.0, 5.0, 0.1)\n",
    "Y = step_function(X)\n",
    "\n",
    "plt.plot(X, Y)\n",
    "plt.ylim(-0.1, 1.1)"
   ]
  },
  {
   "cell_type": "markdown",
   "id": "fff0a2a0",
   "metadata": {},
   "source": [
    "* 시그모이드 함수"
   ]
  },
  {
   "cell_type": "code",
   "execution_count": 17,
   "id": "1a3f813d",
   "metadata": {},
   "outputs": [],
   "source": [
    "def sigmoid(x):\n",
    "    return 1 / (1 + np.exp(-x))"
   ]
  },
  {
   "cell_type": "code",
   "execution_count": 18,
   "id": "034fbd0a",
   "metadata": {},
   "outputs": [
    {
     "data": {
      "text/plain": [
       "(-0.1, 1.1)"
      ]
     },
     "execution_count": 18,
     "metadata": {},
     "output_type": "execute_result"
    },
    {
     "data": {
      "image/png": "[encoded data removed]",
      "text/plain": [
       "<Figure size 432x288 with 1 Axes>"
      ]
     },
     "metadata": {
      "needs_background": "light"
     },
     "output_type": "display_data"
    }
   ],
   "source": [
    "X = np.arange(-5.0, 5.0, 0.1)\n",
    "Y = sigmoid(X)\n",
    "\n",
    "plt.plot(X, Y)\n",
    "plt.ylim(-0.1, 1.1)"
   ]
  },
  {
   "cell_type": "markdown",
   "id": "bb723215",
   "metadata": {},
   "source": [
    "0과 1만 나오는 것이 아닌 0과 1사이를 부드럽게 출력해서  자연스럽다. 계단함수는 0에서 1이 갑작스레 바뀌는데 시그모이드는 그렇지 않고 중간 중간 실수를 출력한다."
   ]
  },
  {
   "cell_type": "markdown",
   "id": "2134b19c",
   "metadata": {},
   "source": [
    "# 비선형 함수\n",
    "\n",
    "## ReLU 함수 "
   ]
  },
  {
   "cell_type": "code",
   "execution_count": 22,
   "id": "9b7859e3",
   "metadata": {},
   "outputs": [],
   "source": [
    "def relu(x):\n",
    "    return np.maximum(0, x) #최소 0이다. 0이하는 0으로 표시."
   ]
  },
  {
   "cell_type": "code",
   "execution_count": 24,
   "id": "3e191534",
   "metadata": {},
   "outputs": [
    {
     "data": {
      "text/plain": [
       "(-1.1, 5.5)"
      ]
     },
     "execution_count": 24,
     "metadata": {},
     "output_type": "execute_result"
    },
    {
     "data": {
      "image/png": "[encoded data removed]",
      "text/plain": [
       "<Figure size 432x288 with 1 Axes>"
      ]
     },
     "metadata": {
      "needs_background": "light"
     },
     "output_type": "display_data"
    }
   ],
   "source": [
    "X = np.arange(-5.0, 5.0, 0.1)\n",
    "Y = relu(X)\n",
    "\n",
    "plt.plot(X, Y)\n",
    "plt.ylim(-1.1, 5.5)"
   ]
  },
  {
   "cell_type": "markdown",
   "id": "c3587ddb",
   "metadata": {},
   "source": [
    "## 다차원 배열 계산"
   ]
  },
  {
   "cell_type": "markdown",
   "id": "4997663e",
   "metadata": {},
   "source": [
    "### 신경망에서의 행렬곱"
   ]
  },
  {
   "cell_type": "code",
   "execution_count": 26,
   "id": "a19e26b0",
   "metadata": {},
   "outputs": [],
   "source": [
    "A = np.array([[1, 2], [3, 4]])\n",
    "B = np.array([[5, 6], [7, 8]])"
   ]
  },
  {
   "cell_type": "code",
   "execution_count": 32,
   "id": "de9a84df",
   "metadata": {},
   "outputs": [
    {
     "data": {
      "text/plain": [
       "(array([[1, 2],\n",
       "        [3, 4]]),\n",
       " array([[5, 6],\n",
       "        [7, 8]]))"
      ]
     },
     "execution_count": 32,
     "metadata": {},
     "output_type": "execute_result"
    }
   ],
   "source": [
    "A, B # 1 * 5 + 2 * 7  행렬연산 가로와 세로를 계산"
   ]
  },
  {
   "cell_type": "code",
   "execution_count": 30,
   "id": "a8245cf8",
   "metadata": {},
   "outputs": [
    {
     "data": {
      "text/plain": [
       "array([[19, 22],\n",
       "       [43, 50]])"
      ]
     },
     "execution_count": 30,
     "metadata": {},
     "output_type": "execute_result"
    }
   ],
   "source": [
    "np.dot(A, B)"
   ]
  },
  {
   "cell_type": "code",
   "execution_count": 37,
   "id": "e59fc5d9",
   "metadata": {},
   "outputs": [
    {
     "name": "stdout",
     "output_type": "stream",
     "text": [
      "(3, 2) (2, 4) (3, 4)\n",
      "[[11 14 17 20]\n",
      " [23 30 37 44]\n",
      " [35 46 57 68]]\n"
     ]
    }
   ],
   "source": [
    "A = np.array([[1, 2], [3, 4], [5, 6]])\n",
    "B = np.array([[1, 2, 3, 4], [5, 6, 7, 8]])\n",
    "C = np.dot(A, B)\n",
    "print(A.shape, B.shape, C.shape)\n",
    "\n",
    "print(C)"
   ]
  },
  {
   "cell_type": "code",
   "execution_count": 38,
   "id": "db7a75ef",
   "metadata": {},
   "outputs": [
    {
     "name": "stdout",
     "output_type": "stream",
     "text": [
      "(3, 2) (2,) (3,)\n",
      "[ 5 11 17]\n"
     ]
    }
   ],
   "source": [
    "A=np.array([[1, 2],[3, 4],[5, 6]])\n",
    "B=np.array([1, 2])\n",
    "C=np.dot(A, B)\n",
    "print(A.shape, B.shape, C.shape)\n",
    "\n",
    "print(C)"
   ]
  },
  {
   "cell_type": "code",
   "execution_count": 47,
   "id": "92484290",
   "metadata": {},
   "outputs": [],
   "source": [
    "X = np.array([1, 2])\n",
    "W = np.array([[1, 3, 5], [2, 4, 6]])\n",
    "Y = np.dot(X, W)"
   ]
  },
  {
   "cell_type": "code",
   "execution_count": 49,
   "id": "06cd82cc",
   "metadata": {},
   "outputs": [
    {
     "data": {
      "text/plain": [
       "(array([1, 2]),\n",
       " array([[1, 3, 5],\n",
       "        [2, 4, 6]]),\n",
       " array([ 5, 11, 17]))"
      ]
     },
     "execution_count": 49,
     "metadata": {},
     "output_type": "execute_result"
    }
   ],
   "source": [
    "X, W, Y # (2), (2, 3), (3,)"
   ]
  },
  {
   "cell_type": "code",
   "execution_count": 50,
   "id": "375636ba",
   "metadata": {},
   "outputs": [],
   "source": [
    "X = np.array([1.0, 0.5])\n",
    "W1 = np.array([[0.1, 0.3, 0.5],[0.2, 0.4, 0.6]])\n",
    "B = np.array([0.1, 0.2, 0.3])"
   ]
  },
  {
   "cell_type": "code",
   "execution_count": 68,
   "id": "0695c50f",
   "metadata": {},
   "outputs": [],
   "source": [
    "A1 = X@W1 + B"
   ]
  },
  {
   "cell_type": "code",
   "execution_count": 69,
   "id": "4e7170be",
   "metadata": {},
   "outputs": [
    {
     "data": {
      "text/plain": [
       "((3,), array([0.3, 0.7, 1.1]))"
      ]
     },
     "execution_count": 69,
     "metadata": {},
     "output_type": "execute_result"
    }
   ],
   "source": [
    "A1.shape , A1"
   ]
  },
  {
   "cell_type": "code",
   "execution_count": 70,
   "id": "f8b2a2fd",
   "metadata": {},
   "outputs": [],
   "source": [
    "Z1 = sigmoid(A1)"
   ]
  },
  {
   "cell_type": "code",
   "execution_count": 71,
   "id": "3c488992",
   "metadata": {},
   "outputs": [
    {
     "data": {
      "text/plain": [
       "array([0.57444252, 0.66818777, 0.75026011])"
      ]
     },
     "execution_count": 71,
     "metadata": {},
     "output_type": "execute_result"
    }
   ],
   "source": [
    "Z1"
   ]
  },
  {
   "cell_type": "code",
   "execution_count": 72,
   "id": "e28c2ffd",
   "metadata": {},
   "outputs": [],
   "source": [
    "W2 = np.array([[0.1, 0.4], [0.2, 0.5], [0.3, 0.6]])\n",
    "B2 = np.array([0.1, 0.2])"
   ]
  },
  {
   "cell_type": "code",
   "execution_count": 79,
   "id": "4c9ced47",
   "metadata": {},
   "outputs": [],
   "source": [
    "A2 = Z1@W2 + B2\n",
    "Z2 = sigmoid(A2)"
   ]
  },
  {
   "cell_type": "code",
   "execution_count": 80,
   "id": "dbb48ce1",
   "metadata": {},
   "outputs": [
    {
     "data": {
      "text/plain": [
       "array([0.51615984, 1.21402696])"
      ]
     },
     "execution_count": 80,
     "metadata": {},
     "output_type": "execute_result"
    }
   ],
   "source": [
    "A2"
   ]
  },
  {
   "cell_type": "code",
   "execution_count": 81,
   "id": "620d68ff",
   "metadata": {},
   "outputs": [
    {
     "data": {
      "text/plain": [
       "array([0.62624937, 0.7710107 ])"
      ]
     },
     "execution_count": 81,
     "metadata": {},
     "output_type": "execute_result"
    }
   ],
   "source": [
    "Z2"
   ]
  },
  {
   "cell_type": "code",
   "execution_count": 82,
   "id": "c1972d21",
   "metadata": {},
   "outputs": [],
   "source": [
    "W3 = np.array([[0.1, 0.3], [0.2, 0.4]]) # W3.shape에서 앞에올 것은 입력개수, 뒤에 올 것은 출력 개수이다.\n",
    "B3 = np.array([0.1, 0.2])"
   ]
  },
  {
   "cell_type": "code",
   "execution_count": 89,
   "id": "bb1b15b7",
   "metadata": {},
   "outputs": [],
   "source": [
    "def identity_function(x):\n",
    "    return x\n",
    "A3 = Z2@W3 + B3\n",
    "Z3 = identity_function(A3) #이전의 식처럼 함수에 보내주기 위해 항등함수를 쓰는데 자기 자신을 반환하기에 굳이 안써도 된다. \n",
    "# 출력해야할 값에 따라서 쓰기도 한다."
   ]
  },
  {
   "cell_type": "code",
   "execution_count": 90,
   "id": "60a5413f",
   "metadata": {},
   "outputs": [
    {
     "data": {
      "text/plain": [
       "array([0.31682708, 0.69627909])"
      ]
     },
     "execution_count": 90,
     "metadata": {},
     "output_type": "execute_result"
    }
   ],
   "source": [
    "Z3"
   ]
  },
  {
   "cell_type": "markdown",
   "id": "182963ff",
   "metadata": {},
   "source": [
    "#### 3층 신경망 구현"
   ]
  },
  {
   "cell_type": "code",
   "execution_count": 99,
   "id": "7a8d2c58",
   "metadata": {},
   "outputs": [],
   "source": [
    "def identity_function(x):\n",
    "    return x\n",
    "def init_network():\n",
    "    network = {}\n",
    "    network['W1'] = np.array([[0.1, 0.3, 0.5],[0.2, 0.4, 0.6]])\n",
    "    network['W2'] = np.array([[0.1, 0.4], [0.2, 0.5], [0.3, 0.6]])\n",
    "    network['W3'] = np.array([[0.1, 0.3], [0.2, 0.4]])\n",
    "    network['B1'] = np.array([0.1, 0.2, 0.3])\n",
    "    network['B2'] = np.array([0.1, 0.2])\n",
    "    network['B3'] = np.array([0.1, 0.2])\n",
    "    return network\n",
    "\n",
    "def forward(network, X):\n",
    "    W1, W2, W3 = network['W1'], network['W2'], network['W3']\n",
    "    B1, B2, B3 = network['B1'], network['B2'], network['B3']\n",
    "    A1 = X@W1 + B1\n",
    "    Z1 = sigmoid(A1)\n",
    "\n",
    "\n",
    "    A2 = Z1@W2 + B2\n",
    "    Z2 = sigmoid(A2)\n",
    "\n",
    "\n",
    "    A3 = Z2@W3 + B3\n",
    "    Y = identity_function(A3)\n",
    "    return Y"
   ]
  },
  {
   "cell_type": "code",
   "execution_count": 102,
   "id": "3c0f491f",
   "metadata": {},
   "outputs": [],
   "source": [
    "network = init_network()\n",
    "X = np.array([1.0, 0.5])\n",
    "Y = forward(network, X)"
   ]
  },
  {
   "cell_type": "code",
   "execution_count": 103,
   "id": "6935e528",
   "metadata": {},
   "outputs": [
    {
     "data": {
      "text/plain": [
       "array([0.31682708, 0.69627909])"
      ]
     },
     "execution_count": 103,
     "metadata": {},
     "output_type": "execute_result"
    }
   ],
   "source": [
    "Y"
   ]
  },
  {
   "cell_type": "code",
   "execution_count": 110,
   "id": "d638ddf1",
   "metadata": {},
   "outputs": [],
   "source": [
    "def softmax(a):\n",
    "    c = np.max(a)\n",
    "    exp_a = np.exp(a - c) #자연상수를 지수함수로 바꿔줌\n",
    "    sum_exp_a = np.sum(exp_a)\n",
    "    y = exp_a / sum_exp_a\n",
    "    \n",
    "    return y"
   ]
  },
  {
   "cell_type": "code",
   "execution_count": 111,
   "id": "54f8f554",
   "metadata": {},
   "outputs": [],
   "source": [
    "a = np.array([0.3, 2.9, 4.0])"
   ]
  },
  {
   "cell_type": "code",
   "execution_count": 112,
   "id": "87518949",
   "metadata": {},
   "outputs": [
    {
     "data": {
      "text/plain": [
       "array([0.01821127, 0.24519181, 0.73659691])"
      ]
     },
     "execution_count": 112,
     "metadata": {},
     "output_type": "execute_result"
    }
   ],
   "source": [
    "softmax(a)"
   ]
  },
  {
   "cell_type": "markdown",
   "id": "8fcd3590",
   "metadata": {},
   "source": [
    "# 손글씨 숫자 (MNIST)"
   ]
  },
  {
   "cell_type": "code",
   "execution_count": 113,
   "id": "c72e57fa",
   "metadata": {},
   "outputs": [],
   "source": [
    "import pickle\n",
    "from dataset.mnist import load_mnist"
   ]
  },
  {
   "cell_type": "code",
   "execution_count": 116,
   "id": "33ef79c0",
   "metadata": {},
   "outputs": [],
   "source": [
    "def get_data():\n",
    "    (x_train, t_train), (x_test, t_test) = load_mnist(normalize=True, flatten=True, one_hot_label=False) #y_train이 아닌건 true train으로 해서그럼 \n",
    "#normalize 는 0.0부터 1.0사이의 값으로 정규화를 할 것인지, one_hot_label은 label에 대해 원핫인코딩을 하여7번째의 label에 1이나오는 것 \n",
    "    return x_test, t_test"
   ]
  },
  {
   "cell_type": "code",
   "execution_count": 233,
   "id": "fe311411",
   "metadata": {},
   "outputs": [],
   "source": [
    "def init_network():\n",
    "    with open('sample_weight.pkl', 'rb') as f:\n",
    "        network = pickle.load(f) #pickle안에는 딕셔너리처럼 가중치와 편향이 딕셔너리의 형태로 다 들어있다.\n",
    "    return network\n",
    "\n",
    "def predict (network, X):\n",
    "    W1, W2, W3 = network['W1'], network['W2'], network['W3']\n",
    "    B1, B2, B3 = network['b1'], network['b2'], network['b3']\n",
    "    A1 = X@W1 + B1\n",
    "    Z1 = sigmoid(A1)\n",
    "\n",
    "\n",
    "    A2 = Z1@W2 + B2\n",
    "    Z2 = sigmoid(A2)\n",
    "\n",
    "\n",
    "    A3 = Z2@W3 + B3\n",
    "    Y = softmax(A3) # 값을 부드럽게 하려고\n",
    "    return Y"
   ]
  },
  {
   "cell_type": "code",
   "execution_count": 234,
   "id": "bce225d7",
   "metadata": {},
   "outputs": [],
   "source": [
    "x, t = get_data()"
   ]
  },
  {
   "cell_type": "code",
   "execution_count": 235,
   "id": "4b0d9c44",
   "metadata": {},
   "outputs": [
    {
     "data": {
      "text/plain": [
       "(10000, 784)"
      ]
     },
     "execution_count": 235,
     "metadata": {},
     "output_type": "execute_result"
    }
   ],
   "source": [
    "x.shape # 28 * 28 사이즈를 flatten 하여 784가 나왔다."
   ]
  },
  {
   "cell_type": "code",
   "execution_count": 236,
   "id": "2218f5ba",
   "metadata": {},
   "outputs": [],
   "source": [
    "import matplotlib.pyplot as plt"
   ]
  },
  {
   "cell_type": "code",
   "execution_count": 237,
   "id": "f5ff35e0",
   "metadata": {},
   "outputs": [
    {
     "data": {
      "text/plain": [
       "<matplotlib.image.AxesImage at 0x1f54efb4940>"
      ]
     },
     "execution_count": 237,
     "metadata": {},
     "output_type": "execute_result"
    },
    {
     "data": {
      "image/png": "[encoded data removed]",
      "text/plain": [
       "<Figure size 432x288 with 1 Axes>"
      ]
     },
     "metadata": {
      "needs_background": "light"
     },
     "output_type": "display_data"
    }
   ],
   "source": [
    "plt.imshow(x[0].reshape(28, 28), cmap='binary') # 784를 28, 28로 이미지 형식으로 바꾸어 시각화 함."
   ]
  },
  {
   "cell_type": "code",
   "execution_count": 238,
   "id": "46c05b95",
   "metadata": {},
   "outputs": [],
   "source": [
    "network = init_network()"
   ]
  },
  {
   "cell_type": "code",
   "execution_count": 239,
   "id": "1f6084c8",
   "metadata": {},
   "outputs": [
    {
     "data": {
      "text/plain": [
       "(100, 10)"
      ]
     },
     "execution_count": 239,
     "metadata": {},
     "output_type": "execute_result"
    }
   ],
   "source": [
    "network['W3'].shape #이런식으로 가중치가 다 들어있다. 784를 50개로 줄이고 다시 100으로 늘린다음 10으로 줄였다."
   ]
  },
  {
   "cell_type": "code",
   "execution_count": 240,
   "id": "a35099d2",
   "metadata": {
    "scrolled": true
   },
   "outputs": [
    {
     "name": "stdout",
     "output_type": "stream",
     "text": [
      "W1 :  (784, 50)\n",
      "W2 :  (50, 100)\n",
      "W3 :  (100, 10)\n",
      "b1 :  (50,)\n",
      "b2 :  (100,)\n",
      "b3 :  (10,)\n"
     ]
    }
   ],
   "source": [
    "print('W1 : ', network['W1'].shape)\n",
    "print('W2 : ', network['W2'].shape)\n",
    "print('W3 : ', network['W3'].shape)\n",
    "print('b1 : ', network['b1'].shape)\n",
    "print('b2 : ', network['b2'].shape)\n",
    "print('b3 : ', network['b3'].shape)"
   ]
  },
  {
   "cell_type": "code",
   "execution_count": 241,
   "id": "1324b32d",
   "metadata": {},
   "outputs": [
    {
     "name": "stdout",
     "output_type": "stream",
     "text": [
      "Accuracy :  0.9352\n"
     ]
    }
   ],
   "source": [
    "accuracy_count = 0\n",
    "for i in range(len(x)):\n",
    "    y = predict(network, x[i]) #forward\n",
    "    p = np.argmax(y) #max값의 인덱스 알려줌\n",
    "    if p == t[i]:\n",
    "        accuracy_count += 1\n",
    "print('Accuracy : ', accuracy_count / len(t))"
   ]
  },
  {
   "cell_type": "code",
   "execution_count": 242,
   "id": "96ef643a",
   "metadata": {},
   "outputs": [
    {
     "name": "stdout",
     "output_type": "stream",
     "text": [
      "Accuracy :  0.9352\n"
     ]
    }
   ],
   "source": [
    "accuracy_count = 0\n",
    "batch_size = 100\n",
    "\n",
    "for i in range(0, len(x), batch_size):\n",
    "    x_batch = x[i:i+batch_size]\n",
    "    y_batch = predict(network, x_batch) #forward\n",
    "    p = np.argmax(y_batch, axis=1) #max값의 인덱스 알려줌\n",
    "    accuracy_count += (p == t[i:i+batch_size]).sum()\n",
    "print('Accuracy : ', accuracy_count / len(t))"
   ]
  },
  {
   "cell_type": "code",
   "execution_count": null,
   "id": "eda5c786",
   "metadata": {},
   "outputs": [],
   "source": []
  }
 ],
 "metadata": {
  "kernelspec": {
   "display_name": "Python 3",
   "language": "python",
   "name": "python3"
  },
  "language_info": {
   "codemirror_mode": {
    "name": "ipython",
    "version": 3
   },
   "file_extension": ".py",
   "mimetype": "text/x-python",
   "name": "python",
   "nbconvert_exporter": "python",
   "pygments_lexer": "ipython3",
   "version": "3.8.8"
  }
 },
 "nbformat": 4,
 "nbformat_minor": 5
}
